{
 "cells": [
  {
   "cell_type": "code",
   "execution_count": 1,
   "id": "WFJXgg7TrYk5",
   "metadata": {
    "colab": {
     "base_uri": "https://localhost:8080/"
    },
    "executionInfo": {
     "elapsed": 4724,
     "status": "ok",
     "timestamp": 1668287799403,
     "user": {
      "displayName": "Andrew Glover Martey",
      "userId": "04565811789290908398"
     },
     "user_tz": -60
    },
    "id": "WFJXgg7TrYk5",
    "outputId": "85af9b43-1424-479a-8dee-aec0ceb2959e"
   },
   "outputs": [],
   "source": [
    "#!pip install h2o"
   ]
  },
  {
   "cell_type": "code",
   "execution_count": 2,
   "id": "JoLI9UEGsL-1",
   "metadata": {
    "executionInfo": {
     "elapsed": 366,
     "status": "ok",
     "timestamp": 1668287799764,
     "user": {
      "displayName": "Andrew Glover Martey",
      "userId": "04565811789290908398"
     },
     "user_tz": -60
    },
    "id": "JoLI9UEGsL-1"
   },
   "outputs": [],
   "source": [
    "import h2o\n",
    "from h2o.automl import H2OAutoML"
   ]
  },
  {
   "cell_type": "code",
   "execution_count": 3,
   "id": "KwzJ6ai2sStK",
   "metadata": {
    "colab": {
     "base_uri": "https://localhost:8080/",
     "height": 524
    },
    "executionInfo": {
     "elapsed": 11724,
     "status": "ok",
     "timestamp": 1668287811485,
     "user": {
      "displayName": "Andrew Glover Martey",
      "userId": "04565811789290908398"
     },
     "user_tz": -60
    },
    "id": "KwzJ6ai2sStK",
    "outputId": "8a1c8606-3b5e-4ae9-8a99-6d0b079ad936"
   },
   "outputs": [
    {
     "name": "stdout",
     "output_type": "stream",
     "text": [
      "Checking whether there is an H2O instance running at http://localhost:54321 . connected.\n"
     ]
    },
    {
     "data": {
      "text/html": [
       "\n",
       "<style>\n",
       "\n",
       "#h2o-table-1.h2o-container {\n",
       "  overflow-x: auto;\n",
       "}\n",
       "#h2o-table-1 .h2o-table {\n",
       "  /* width: 100%; */\n",
       "  margin-top: 1em;\n",
       "  margin-bottom: 1em;\n",
       "}\n",
       "#h2o-table-1 .h2o-table caption {\n",
       "  white-space: nowrap;\n",
       "  caption-side: top;\n",
       "  text-align: left;\n",
       "  /* margin-left: 1em; */\n",
       "  margin: 0;\n",
       "  font-size: larger;\n",
       "}\n",
       "#h2o-table-1 .h2o-table thead {\n",
       "  white-space: nowrap; \n",
       "  position: sticky;\n",
       "  top: 0;\n",
       "  box-shadow: 0 -1px inset;\n",
       "}\n",
       "#h2o-table-1 .h2o-table tbody {\n",
       "  overflow: auto;\n",
       "}\n",
       "#h2o-table-1 .h2o-table th,\n",
       "#h2o-table-1 .h2o-table td {\n",
       "  text-align: right;\n",
       "  /* border: 1px solid; */\n",
       "}\n",
       "#h2o-table-1 .h2o-table tr:nth-child(even) {\n",
       "  /* background: #F5F5F5 */\n",
       "}\n",
       "\n",
       "</style>      \n",
       "<div id=\"h2o-table-1\" class=\"h2o-container\">\n",
       "  <table class=\"h2o-table\">\n",
       "    <caption></caption>\n",
       "    <thead></thead>\n",
       "    <tbody><tr><td>H2O_cluster_uptime:</td>\n",
       "<td>1 day 4 hours 14 mins</td></tr>\n",
       "<tr><td>H2O_cluster_timezone:</td>\n",
       "<td>Europe/Paris</td></tr>\n",
       "<tr><td>H2O_data_parsing_timezone:</td>\n",
       "<td>UTC</td></tr>\n",
       "<tr><td>H2O_cluster_version:</td>\n",
       "<td>3.38.0.2</td></tr>\n",
       "<tr><td>H2O_cluster_version_age:</td>\n",
       "<td>16 days </td></tr>\n",
       "<tr><td>H2O_cluster_name:</td>\n",
       "<td>H2O_from_python_andyg_vutumg</td></tr>\n",
       "<tr><td>H2O_cluster_total_nodes:</td>\n",
       "<td>1</td></tr>\n",
       "<tr><td>H2O_cluster_free_memory:</td>\n",
       "<td>2.517 Gb</td></tr>\n",
       "<tr><td>H2O_cluster_total_cores:</td>\n",
       "<td>8</td></tr>\n",
       "<tr><td>H2O_cluster_allowed_cores:</td>\n",
       "<td>8</td></tr>\n",
       "<tr><td>H2O_cluster_status:</td>\n",
       "<td>locked, healthy</td></tr>\n",
       "<tr><td>H2O_connection_url:</td>\n",
       "<td>http://localhost:54321</td></tr>\n",
       "<tr><td>H2O_connection_proxy:</td>\n",
       "<td>{\"http\": null, \"https\": null}</td></tr>\n",
       "<tr><td>H2O_internal_security:</td>\n",
       "<td>False</td></tr>\n",
       "<tr><td>Python_version:</td>\n",
       "<td>3.8.8 final</td></tr></tbody>\n",
       "  </table>\n",
       "</div>\n"
      ],
      "text/plain": [
       "--------------------------  -----------------------------\n",
       "H2O_cluster_uptime:         1 day 4 hours 14 mins\n",
       "H2O_cluster_timezone:       Europe/Paris\n",
       "H2O_data_parsing_timezone:  UTC\n",
       "H2O_cluster_version:        3.38.0.2\n",
       "H2O_cluster_version_age:    16 days\n",
       "H2O_cluster_name:           H2O_from_python_andyg_vutumg\n",
       "H2O_cluster_total_nodes:    1\n",
       "H2O_cluster_free_memory:    2.517 Gb\n",
       "H2O_cluster_total_cores:    8\n",
       "H2O_cluster_allowed_cores:  8\n",
       "H2O_cluster_status:         locked, healthy\n",
       "H2O_connection_url:         http://localhost:54321\n",
       "H2O_connection_proxy:       {\"http\": null, \"https\": null}\n",
       "H2O_internal_security:      False\n",
       "Python_version:             3.8.8 final\n",
       "--------------------------  -----------------------------"
      ]
     },
     "metadata": {},
     "output_type": "display_data"
    }
   ],
   "source": [
    "h2o.init()"
   ]
  },
  {
   "cell_type": "code",
   "execution_count": 4,
   "id": "kVq66lm8rl3a",
   "metadata": {
    "colab": {
     "base_uri": "https://localhost:8080/"
    },
    "executionInfo": {
     "elapsed": 1590,
     "status": "ok",
     "timestamp": 1668287813060,
     "user": {
      "displayName": "Andrew Glover Martey",
      "userId": "04565811789290908398"
     },
     "user_tz": -60
    },
    "id": "kVq66lm8rl3a",
    "outputId": "ead73096-1672-4585-943e-63a65c7bc0ae"
   },
   "outputs": [],
   "source": [
    "# from google.colab import drive\n",
    "# drive.mount('/content/gdrive')"
   ]
  },
  {
   "cell_type": "code",
   "execution_count": 5,
   "id": "825102d7-b46d-43ba-b0ef-9a587aeb3590",
   "metadata": {
    "executionInfo": {
     "elapsed": 12,
     "status": "ok",
     "timestamp": 1668287813060,
     "user": {
      "displayName": "Andrew Glover Martey",
      "userId": "04565811789290908398"
     },
     "user_tz": -60
    },
    "id": "825102d7-b46d-43ba-b0ef-9a587aeb3590"
   },
   "outputs": [],
   "source": [
    "import pandas as pd"
   ]
  },
  {
   "cell_type": "code",
   "execution_count": 6,
   "id": "8fa14777-bf10-4b27-af40-cc28c13f339c",
   "metadata": {
    "executionInfo": {
     "elapsed": 11,
     "status": "ok",
     "timestamp": 1668287813060,
     "user": {
      "displayName": "Andrew Glover Martey",
      "userId": "04565811789290908398"
     },
     "user_tz": -60
    },
    "id": "8fa14777-bf10-4b27-af40-cc28c13f339c"
   },
   "outputs": [],
   "source": [
    "stores_train = pd.read_csv('data/stores_train_preprocessed.csv')"
   ]
  },
  {
   "cell_type": "code",
   "execution_count": 7,
   "id": "7b40557b-9f92-484c-8a2f-21d76f7baff8",
   "metadata": {
    "colab": {
     "base_uri": "https://localhost:8080/"
    },
    "executionInfo": {
     "elapsed": 12,
     "status": "ok",
     "timestamp": 1668287813061,
     "user": {
      "displayName": "Andrew Glover Martey",
      "userId": "04565811789290908398"
     },
     "user_tz": -60
    },
    "id": "7b40557b-9f92-484c-8a2f-21d76f7baff8",
    "outputId": "642bb303-69f6-4374-c282-217c9defbf9e"
   },
   "outputs": [
    {
     "data": {
      "text/plain": [
       "store_id                        0\n",
       "grunnkrets_id                   0\n",
       "lat                             0\n",
       "lon                             0\n",
       "chain_name                      0\n",
       "mall_name                       0\n",
       "revenue                         0\n",
       "grunnkrets_population         805\n",
       "district_population            30\n",
       "distance_from_busstop           0\n",
       "busstop_importance_level        0\n",
       "lv1                             0\n",
       "lv2                             0\n",
       "lv3                             0\n",
       "lv4                             0\n",
       "households_grunnkrets           0\n",
       "municipality_name               0\n",
       "area_km2                       30\n",
       "district_municipality_name      0\n",
       "dtype: int64"
      ]
     },
     "execution_count": 7,
     "metadata": {},
     "output_type": "execute_result"
    }
   ],
   "source": [
    "stores_train.isnull().sum()"
   ]
  },
  {
   "cell_type": "code",
   "execution_count": 8,
   "id": "01d512ba-6edd-453e-8818-42fad45d4c98",
   "metadata": {
    "executionInfo": {
     "elapsed": 10,
     "status": "ok",
     "timestamp": 1668287813061,
     "user": {
      "displayName": "Andrew Glover Martey",
      "userId": "04565811789290908398"
     },
     "user_tz": -60
    },
    "id": "01d512ba-6edd-453e-8818-42fad45d4c98"
   },
   "outputs": [],
   "source": [
    "stores_train['grunnkrets_population'] = (stores_train['grunnkrets_population'].fillna((stores_train.grunnkrets_population.mean())))\n",
    "stores_train['district_population'] = (stores_train['district_population'].fillna((stores_train.district_population.mean())))\n",
    "stores_train['area_km2'] = (stores_train['area_km2'].fillna(stores_train.area_km2.mean()))"
   ]
  },
  {
   "cell_type": "code",
   "execution_count": 9,
   "id": "f01db8c4-be85-45d6-94b1-826bc89ea2ed",
   "metadata": {
    "colab": {
     "base_uri": "https://localhost:8080/"
    },
    "executionInfo": {
     "elapsed": 11,
     "status": "ok",
     "timestamp": 1668287813062,
     "user": {
      "displayName": "Andrew Glover Martey",
      "userId": "04565811789290908398"
     },
     "user_tz": -60
    },
    "id": "f01db8c4-be85-45d6-94b1-826bc89ea2ed",
    "outputId": "11171c7f-9fe6-4596-96b6-6e097f125a74"
   },
   "outputs": [
    {
     "data": {
      "text/plain": [
       "store_id                      0\n",
       "grunnkrets_id                 0\n",
       "lat                           0\n",
       "lon                           0\n",
       "chain_name                    0\n",
       "mall_name                     0\n",
       "revenue                       0\n",
       "grunnkrets_population         0\n",
       "district_population           0\n",
       "distance_from_busstop         0\n",
       "busstop_importance_level      0\n",
       "lv1                           0\n",
       "lv2                           0\n",
       "lv3                           0\n",
       "lv4                           0\n",
       "households_grunnkrets         0\n",
       "municipality_name             0\n",
       "area_km2                      0\n",
       "district_municipality_name    0\n",
       "dtype: int64"
      ]
     },
     "execution_count": 9,
     "metadata": {},
     "output_type": "execute_result"
    }
   ],
   "source": [
    "stores_train.isnull().sum()"
   ]
  },
  {
   "cell_type": "code",
   "execution_count": 10,
   "id": "rezFiJ85907Y",
   "metadata": {
    "executionInfo": {
     "elapsed": 9,
     "status": "ok",
     "timestamp": 1668287813062,
     "user": {
      "displayName": "Andrew Glover Martey",
      "userId": "04565811789290908398"
     },
     "user_tz": -60
    },
    "id": "rezFiJ85907Y"
   },
   "outputs": [],
   "source": [
    "stores_train = stores_train[stores_train.revenue > 0.0]"
   ]
  },
  {
   "cell_type": "code",
   "execution_count": 11,
   "id": "e9c1bd79-0786-4c66-bd1c-b1d3b7456adc",
   "metadata": {
    "executionInfo": {
     "elapsed": 9,
     "status": "ok",
     "timestamp": 1668287813062,
     "user": {
      "displayName": "Andrew Glover Martey",
      "userId": "04565811789290908398"
     },
     "user_tz": -60
    },
    "id": "e9c1bd79-0786-4c66-bd1c-b1d3b7456adc"
   },
   "outputs": [],
   "source": [
    "import numpy as np\n",
    "stores_train['revenue'] = (np.log10(stores_train['revenue']))*1000000"
   ]
  },
  {
   "cell_type": "code",
   "execution_count": 12,
   "id": "-6lOMOo0-7IV",
   "metadata": {
    "executionInfo": {
     "elapsed": 9,
     "status": "ok",
     "timestamp": 1668287813063,
     "user": {
      "displayName": "Andrew Glover Martey",
      "userId": "04565811789290908398"
     },
     "user_tz": -60
    },
    "id": "-6lOMOo0-7IV"
   },
   "outputs": [],
   "source": [
    "data = stores_train"
   ]
  },
  {
   "cell_type": "code",
   "execution_count": 14,
   "id": "nGiv-haD-7Vc",
   "metadata": {
    "executionInfo": {
     "elapsed": 9,
     "status": "ok",
     "timestamp": 1668287813063,
     "user": {
      "displayName": "Andrew Glover Martey",
      "userId": "04565811789290908398"
     },
     "user_tz": -60
    },
    "id": "nGiv-haD-7Vc"
   },
   "outputs": [],
   "source": [
    "data = data.drop(['store_id','mall_name','busstop_importance_level','lv1','lat','lon','grunnkrets_id','lv2','lv3','lv4'], axis = 1)"
   ]
  },
  {
   "cell_type": "code",
   "execution_count": 15,
   "id": "9a508dc4-d16b-4b84-8ea4-963b2a68b459",
   "metadata": {
    "colab": {
     "base_uri": "https://localhost:8080/"
    },
    "executionInfo": {
     "elapsed": 2960,
     "status": "ok",
     "timestamp": 1668287816358,
     "user": {
      "displayName": "Andrew Glover Martey",
      "userId": "04565811789290908398"
     },
     "user_tz": -60
    },
    "id": "9a508dc4-d16b-4b84-8ea4-963b2a68b459",
    "outputId": "82c3b52c-a973-4897-cda4-bdf8b3e2b2e8"
   },
   "outputs": [
    {
     "name": "stdout",
     "output_type": "stream",
     "text": [
      "Parse progress: |████████████████████████████████████████████████████████████████| (done) 100%\n"
     ]
    }
   ],
   "source": [
    "data = h2o.H2OFrame(data)"
   ]
  },
  {
   "cell_type": "code",
   "execution_count": 16,
   "id": "264f4104-f393-43dd-8a5b-a9bf5578fd43",
   "metadata": {
    "executionInfo": {
     "elapsed": 985,
     "status": "ok",
     "timestamp": 1668287817338,
     "user": {
      "displayName": "Andrew Glover Martey",
      "userId": "04565811789290908398"
     },
     "user_tz": -60
    },
    "id": "264f4104-f393-43dd-8a5b-a9bf5578fd43"
   },
   "outputs": [],
   "source": [
    "train, test = data.split_frame(ratios=[0.8], seed = 42)"
   ]
  },
  {
   "cell_type": "code",
   "execution_count": 17,
   "id": "02c171ec-7e2b-44e2-8dec-3aabaa4121be",
   "metadata": {
    "executionInfo": {
     "elapsed": 11,
     "status": "ok",
     "timestamp": 1668287817338,
     "user": {
      "displayName": "Andrew Glover Martey",
      "userId": "04565811789290908398"
     },
     "user_tz": -60
    },
    "id": "02c171ec-7e2b-44e2-8dec-3aabaa4121be"
   },
   "outputs": [],
   "source": [
    "model = H2OAutoML(sort_metric='rmsle',\n",
    "                  seed = 42,\n",
    "                  max_models = 20,\n",
    "                  exclude_algos = ['DeepLearning'],\n",
    "                 )"
   ]
  },
  {
   "cell_type": "code",
   "execution_count": 18,
   "id": "60d7d1f7-e048-407d-ab23-8f32ab4e1fe5",
   "metadata": {
    "colab": {
     "base_uri": "https://localhost:8080/",
     "height": 1000
    },
    "executionInfo": {
     "elapsed": 205727,
     "status": "ok",
     "timestamp": 1668288023055,
     "user": {
      "displayName": "Andrew Glover Martey",
      "userId": "04565811789290908398"
     },
     "user_tz": -60
    },
    "id": "60d7d1f7-e048-407d-ab23-8f32ab4e1fe5",
    "outputId": "e30a0002-1733-40d8-ab49-a1b1e7169adf"
   },
   "outputs": [
    {
     "name": "stdout",
     "output_type": "stream",
     "text": [
      "AutoML progress: |█\n",
      "22:54:00.446: AutoML: XGBoost is not available; skipping it.\n",
      "\n",
      "██████████████████████████████████████████████████████████████| (done) 100%\n"
     ]
    },
    {
     "data": {
      "text/html": [
       "<pre style='margin: 1em 0 1em 0;'>Model Details\n",
       "=============\n",
       "H2OGradientBoostingEstimator : Gradient Boosting Machine\n",
       "Model Key: GBM_2_AutoML_17_20221112_225400\n",
       "</pre>\n",
       "<div style='margin: 1em 0 1em 0;'>\n",
       "<style>\n",
       "\n",
       "#h2o-table-2.h2o-container {\n",
       "  overflow-x: auto;\n",
       "}\n",
       "#h2o-table-2 .h2o-table {\n",
       "  /* width: 100%; */\n",
       "  margin-top: 1em;\n",
       "  margin-bottom: 1em;\n",
       "}\n",
       "#h2o-table-2 .h2o-table caption {\n",
       "  white-space: nowrap;\n",
       "  caption-side: top;\n",
       "  text-align: left;\n",
       "  /* margin-left: 1em; */\n",
       "  margin: 0;\n",
       "  font-size: larger;\n",
       "}\n",
       "#h2o-table-2 .h2o-table thead {\n",
       "  white-space: nowrap; \n",
       "  position: sticky;\n",
       "  top: 0;\n",
       "  box-shadow: 0 -1px inset;\n",
       "}\n",
       "#h2o-table-2 .h2o-table tbody {\n",
       "  overflow: auto;\n",
       "}\n",
       "#h2o-table-2 .h2o-table th,\n",
       "#h2o-table-2 .h2o-table td {\n",
       "  text-align: right;\n",
       "  /* border: 1px solid; */\n",
       "}\n",
       "#h2o-table-2 .h2o-table tr:nth-child(even) {\n",
       "  /* background: #F5F5F5 */\n",
       "}\n",
       "\n",
       "</style>      \n",
       "<div id=\"h2o-table-2\" class=\"h2o-container\">\n",
       "  <table class=\"h2o-table\">\n",
       "    <caption>Model Summary: </caption>\n",
       "    <thead><tr><th></th>\n",
       "<th>number_of_trees</th>\n",
       "<th>number_of_internal_trees</th>\n",
       "<th>model_size_in_bytes</th>\n",
       "<th>min_depth</th>\n",
       "<th>max_depth</th>\n",
       "<th>mean_depth</th>\n",
       "<th>min_leaves</th>\n",
       "<th>max_leaves</th>\n",
       "<th>mean_leaves</th></tr></thead>\n",
       "    <tbody><tr><td></td>\n",
       "<td>49.0</td>\n",
       "<td>49.0</td>\n",
       "<td>45213.0</td>\n",
       "<td>7.0</td>\n",
       "<td>7.0</td>\n",
       "<td>7.0</td>\n",
       "<td>40.0</td>\n",
       "<td>103.0</td>\n",
       "<td>68.77551</td></tr></tbody>\n",
       "  </table>\n",
       "</div>\n",
       "</div>\n",
       "<div style='margin: 1em 0 1em 0;'><pre style='margin: 1em 0 1em 0;'>ModelMetricsRegression: gbm\n",
       "** Reported on train data. **\n",
       "\n",
       "MSE: 235988667257.65466\n",
       "RMSE: 485786.6478791432\n",
       "MAE: 364581.7928995966\n",
       "RMSLE: NaN\n",
       "Mean Residual Deviance: 235988667257.65466</pre></div>\n",
       "<div style='margin: 1em 0 1em 0;'><pre style='margin: 1em 0 1em 0;'>ModelMetricsRegression: gbm\n",
       "** Reported on cross-validation data. **\n",
       "\n",
       "MSE: 284257025017.9278\n",
       "RMSE: 533157.5986684685\n",
       "MAE: 401572.87616323313\n",
       "RMSLE: NaN\n",
       "Mean Residual Deviance: 284257025017.9278</pre></div>\n",
       "<div style='margin: 1em 0 1em 0;'>\n",
       "<style>\n",
       "\n",
       "#h2o-table-3.h2o-container {\n",
       "  overflow-x: auto;\n",
       "}\n",
       "#h2o-table-3 .h2o-table {\n",
       "  /* width: 100%; */\n",
       "  margin-top: 1em;\n",
       "  margin-bottom: 1em;\n",
       "}\n",
       "#h2o-table-3 .h2o-table caption {\n",
       "  white-space: nowrap;\n",
       "  caption-side: top;\n",
       "  text-align: left;\n",
       "  /* margin-left: 1em; */\n",
       "  margin: 0;\n",
       "  font-size: larger;\n",
       "}\n",
       "#h2o-table-3 .h2o-table thead {\n",
       "  white-space: nowrap; \n",
       "  position: sticky;\n",
       "  top: 0;\n",
       "  box-shadow: 0 -1px inset;\n",
       "}\n",
       "#h2o-table-3 .h2o-table tbody {\n",
       "  overflow: auto;\n",
       "}\n",
       "#h2o-table-3 .h2o-table th,\n",
       "#h2o-table-3 .h2o-table td {\n",
       "  text-align: right;\n",
       "  /* border: 1px solid; */\n",
       "}\n",
       "#h2o-table-3 .h2o-table tr:nth-child(even) {\n",
       "  /* background: #F5F5F5 */\n",
       "}\n",
       "\n",
       "</style>      \n",
       "<div id=\"h2o-table-3\" class=\"h2o-container\">\n",
       "  <table class=\"h2o-table\">\n",
       "    <caption>Cross-Validation Metrics Summary: </caption>\n",
       "    <thead><tr><th></th>\n",
       "<th>mean</th>\n",
       "<th>sd</th>\n",
       "<th>cv_1_valid</th>\n",
       "<th>cv_2_valid</th>\n",
       "<th>cv_3_valid</th>\n",
       "<th>cv_4_valid</th>\n",
       "<th>cv_5_valid</th></tr></thead>\n",
       "    <tbody><tr><td>mae</td>\n",
       "<td>401572.72</td>\n",
       "<td>6940.755</td>\n",
       "<td>403141.78</td>\n",
       "<td>403571.16</td>\n",
       "<td>407647.4</td>\n",
       "<td>403922.88</td>\n",
       "<td>389580.4</td></tr>\n",
       "<tr><td>mean_residual_deviance</td>\n",
       "<td>284257940000.0000000</td>\n",
       "<td>16304123000.0000000</td>\n",
       "<td>274866620000.0000000</td>\n",
       "<td>289432760000.0000000</td>\n",
       "<td>292988100000.0000000</td>\n",
       "<td>302760720000.0000000</td>\n",
       "<td>261241570000.0000000</td></tr>\n",
       "<tr><td>mse</td>\n",
       "<td>284257940000.0000000</td>\n",
       "<td>16304123000.0000000</td>\n",
       "<td>274866620000.0000000</td>\n",
       "<td>289432760000.0000000</td>\n",
       "<td>292988100000.0000000</td>\n",
       "<td>302760720000.0000000</td>\n",
       "<td>261241570000.0000000</td></tr>\n",
       "<tr><td>r2</td>\n",
       "<td>0.3139234</td>\n",
       "<td>0.0040173</td>\n",
       "<td>0.3138308</td>\n",
       "<td>0.3094490</td>\n",
       "<td>0.3125861</td>\n",
       "<td>0.3133185</td>\n",
       "<td>0.3204327</td></tr>\n",
       "<tr><td>residual_deviance</td>\n",
       "<td>284257940000.0000000</td>\n",
       "<td>16304123000.0000000</td>\n",
       "<td>274866620000.0000000</td>\n",
       "<td>289432760000.0000000</td>\n",
       "<td>292988100000.0000000</td>\n",
       "<td>302760720000.0000000</td>\n",
       "<td>261241570000.0000000</td></tr>\n",
       "<tr><td>rmse</td>\n",
       "<td>532981.06</td>\n",
       "<td>15374.8</td>\n",
       "<td>524277.22</td>\n",
       "<td>537989.56</td>\n",
       "<td>541283.75</td>\n",
       "<td>550236.94</td>\n",
       "<td>511117.97</td></tr>\n",
       "<tr><td>rmsle</td>\n",
       "<td>nan</td>\n",
       "<td>0.0</td>\n",
       "<td>nan</td>\n",
       "<td>nan</td>\n",
       "<td>nan</td>\n",
       "<td>nan</td>\n",
       "<td>nan</td></tr></tbody>\n",
       "  </table>\n",
       "</div>\n",
       "</div>\n",
       "<div style='margin: 1em 0 1em 0;'>\n",
       "<style>\n",
       "\n",
       "#h2o-table-4.h2o-container {\n",
       "  overflow-x: auto;\n",
       "}\n",
       "#h2o-table-4 .h2o-table {\n",
       "  /* width: 100%; */\n",
       "  margin-top: 1em;\n",
       "  margin-bottom: 1em;\n",
       "}\n",
       "#h2o-table-4 .h2o-table caption {\n",
       "  white-space: nowrap;\n",
       "  caption-side: top;\n",
       "  text-align: left;\n",
       "  /* margin-left: 1em; */\n",
       "  margin: 0;\n",
       "  font-size: larger;\n",
       "}\n",
       "#h2o-table-4 .h2o-table thead {\n",
       "  white-space: nowrap; \n",
       "  position: sticky;\n",
       "  top: 0;\n",
       "  box-shadow: 0 -1px inset;\n",
       "}\n",
       "#h2o-table-4 .h2o-table tbody {\n",
       "  overflow: auto;\n",
       "}\n",
       "#h2o-table-4 .h2o-table th,\n",
       "#h2o-table-4 .h2o-table td {\n",
       "  text-align: right;\n",
       "  /* border: 1px solid; */\n",
       "}\n",
       "#h2o-table-4 .h2o-table tr:nth-child(even) {\n",
       "  /* background: #F5F5F5 */\n",
       "}\n",
       "\n",
       "</style>      \n",
       "<div id=\"h2o-table-4\" class=\"h2o-container\">\n",
       "  <table class=\"h2o-table\">\n",
       "    <caption>Scoring History: </caption>\n",
       "    <thead><tr><th></th>\n",
       "<th>timestamp</th>\n",
       "<th>duration</th>\n",
       "<th>number_of_trees</th>\n",
       "<th>training_rmse</th>\n",
       "<th>training_mae</th>\n",
       "<th>training_deviance</th></tr></thead>\n",
       "    <tbody><tr><td></td>\n",
       "<td>2022-11-12 22:54:05</td>\n",
       "<td> 0.598 sec</td>\n",
       "<td>0.0</td>\n",
       "<td>643636.9716522</td>\n",
       "<td>499094.2739450</td>\n",
       "<td>414268551277.5522461</td></tr>\n",
       "<tr><td></td>\n",
       "<td>2022-11-12 22:54:05</td>\n",
       "<td> 0.626 sec</td>\n",
       "<td>5.0</td>\n",
       "<td>577112.3476910</td>\n",
       "<td>445806.6997434</td>\n",
       "<td>333058661857.4639282</td></tr>\n",
       "<tr><td></td>\n",
       "<td>2022-11-12 22:54:05</td>\n",
       "<td> 0.648 sec</td>\n",
       "<td>10.0</td>\n",
       "<td>544482.5961666</td>\n",
       "<td>418184.7518605</td>\n",
       "<td>296461297528.2806396</td></tr>\n",
       "<tr><td></td>\n",
       "<td>2022-11-12 22:54:05</td>\n",
       "<td> 0.668 sec</td>\n",
       "<td>15.0</td>\n",
       "<td>528387.0719782</td>\n",
       "<td>404249.9872914</td>\n",
       "<td>279192897833.7223511</td></tr>\n",
       "<tr><td></td>\n",
       "<td>2022-11-12 22:54:05</td>\n",
       "<td> 0.688 sec</td>\n",
       "<td>20.0</td>\n",
       "<td>514767.9454406</td>\n",
       "<td>391767.2500431</td>\n",
       "<td>264986037653.1222229</td></tr>\n",
       "<tr><td></td>\n",
       "<td>2022-11-12 22:54:05</td>\n",
       "<td> 0.708 sec</td>\n",
       "<td>25.0</td>\n",
       "<td>507275.7789509</td>\n",
       "<td>384643.2797299</td>\n",
       "<td>257328715910.2385559</td></tr>\n",
       "<tr><td></td>\n",
       "<td>2022-11-12 22:54:05</td>\n",
       "<td> 0.728 sec</td>\n",
       "<td>30.0</td>\n",
       "<td>501311.3125828</td>\n",
       "<td>378665.9416764</td>\n",
       "<td>251313032123.4954224</td></tr>\n",
       "<tr><td></td>\n",
       "<td>2022-11-12 22:54:05</td>\n",
       "<td> 0.748 sec</td>\n",
       "<td>35.0</td>\n",
       "<td>496334.5968262</td>\n",
       "<td>373965.0541680</td>\n",
       "<td>246348032006.6379700</td></tr>\n",
       "<tr><td></td>\n",
       "<td>2022-11-12 22:54:05</td>\n",
       "<td> 0.768 sec</td>\n",
       "<td>40.0</td>\n",
       "<td>492724.7450538</td>\n",
       "<td>370896.2971594</td>\n",
       "<td>242777674388.3096008</td></tr>\n",
       "<tr><td></td>\n",
       "<td>2022-11-12 22:54:05</td>\n",
       "<td> 0.788 sec</td>\n",
       "<td>45.0</td>\n",
       "<td>488781.6536420</td>\n",
       "<td>367398.5630169</td>\n",
       "<td>238907504937.0152588</td></tr>\n",
       "<tr><td></td>\n",
       "<td>2022-11-12 22:54:05</td>\n",
       "<td> 0.808 sec</td>\n",
       "<td>49.0</td>\n",
       "<td>485786.6478791</td>\n",
       "<td>364581.7928996</td>\n",
       "<td>235988667257.6546631</td></tr></tbody>\n",
       "  </table>\n",
       "</div>\n",
       "</div>\n",
       "<div style='margin: 1em 0 1em 0;'>\n",
       "<style>\n",
       "\n",
       "#h2o-table-5.h2o-container {\n",
       "  overflow-x: auto;\n",
       "}\n",
       "#h2o-table-5 .h2o-table {\n",
       "  /* width: 100%; */\n",
       "  margin-top: 1em;\n",
       "  margin-bottom: 1em;\n",
       "}\n",
       "#h2o-table-5 .h2o-table caption {\n",
       "  white-space: nowrap;\n",
       "  caption-side: top;\n",
       "  text-align: left;\n",
       "  /* margin-left: 1em; */\n",
       "  margin: 0;\n",
       "  font-size: larger;\n",
       "}\n",
       "#h2o-table-5 .h2o-table thead {\n",
       "  white-space: nowrap; \n",
       "  position: sticky;\n",
       "  top: 0;\n",
       "  box-shadow: 0 -1px inset;\n",
       "}\n",
       "#h2o-table-5 .h2o-table tbody {\n",
       "  overflow: auto;\n",
       "}\n",
       "#h2o-table-5 .h2o-table th,\n",
       "#h2o-table-5 .h2o-table td {\n",
       "  text-align: right;\n",
       "  /* border: 1px solid; */\n",
       "}\n",
       "#h2o-table-5 .h2o-table tr:nth-child(even) {\n",
       "  /* background: #F5F5F5 */\n",
       "}\n",
       "\n",
       "</style>      \n",
       "<div id=\"h2o-table-5\" class=\"h2o-container\">\n",
       "  <table class=\"h2o-table\">\n",
       "    <caption>Variable Importances: </caption>\n",
       "    <thead><tr><th>variable</th>\n",
       "<th>relative_importance</th>\n",
       "<th>scaled_importance</th>\n",
       "<th>percentage</th></tr></thead>\n",
       "    <tbody><tr><td>chain_name</td>\n",
       "<td>6177998533296128.0000000</td>\n",
       "<td>1.0</td>\n",
       "<td>0.6751424</td></tr>\n",
       "<tr><td>district_population</td>\n",
       "<td>550062098743296.0000000</td>\n",
       "<td>0.0890356</td>\n",
       "<td>0.0601117</td></tr>\n",
       "<tr><td>grunnkrets_population</td>\n",
       "<td>545676500926464.0000000</td>\n",
       "<td>0.0883258</td>\n",
       "<td>0.0596325</td></tr>\n",
       "<tr><td>households_grunnkrets</td>\n",
       "<td>485401433210880.0000000</td>\n",
       "<td>0.0785694</td>\n",
       "<td>0.0530455</td></tr>\n",
       "<tr><td>district_municipality_name</td>\n",
       "<td>442200974426112.0000000</td>\n",
       "<td>0.0715767</td>\n",
       "<td>0.0483245</td></tr>\n",
       "<tr><td>area_km2</td>\n",
       "<td>391340475023360.0000000</td>\n",
       "<td>0.0633442</td>\n",
       "<td>0.0427664</td></tr>\n",
       "<tr><td>municipality_name</td>\n",
       "<td>305308320661504.0000000</td>\n",
       "<td>0.0494186</td>\n",
       "<td>0.0333646</td></tr>\n",
       "<tr><td>distance_from_busstop</td>\n",
       "<td>252672187826176.0000000</td>\n",
       "<td>0.0408987</td>\n",
       "<td>0.0276125</td></tr></tbody>\n",
       "  </table>\n",
       "</div>\n",
       "</div><pre style=\"font-size: smaller; margin: 1em 0 0 0;\">\n",
       "\n",
       "[tips]\n",
       "Use `model.explain()` to inspect the model.\n",
       "--\n",
       "Use `h2o.display.toggle_user_tips()` to switch on/off this section.</pre>"
      ],
      "text/plain": [
       "Model Details\n",
       "=============\n",
       "H2OGradientBoostingEstimator : Gradient Boosting Machine\n",
       "Model Key: GBM_2_AutoML_17_20221112_225400\n",
       "\n",
       "\n",
       "Model Summary: \n",
       "    number_of_trees    number_of_internal_trees    model_size_in_bytes    min_depth    max_depth    mean_depth    min_leaves    max_leaves    mean_leaves\n",
       "--  -----------------  --------------------------  ---------------------  -----------  -----------  ------------  ------------  ------------  -------------\n",
       "    49                 49                          45213                  7            7            7             40            103           68.7755\n",
       "\n",
       "ModelMetricsRegression: gbm\n",
       "** Reported on train data. **\n",
       "\n",
       "MSE: 235988667257.65466\n",
       "RMSE: 485786.6478791432\n",
       "MAE: 364581.7928995966\n",
       "RMSLE: NaN\n",
       "Mean Residual Deviance: 235988667257.65466\n",
       "\n",
       "ModelMetricsRegression: gbm\n",
       "** Reported on cross-validation data. **\n",
       "\n",
       "MSE: 284257025017.9278\n",
       "RMSE: 533157.5986684685\n",
       "MAE: 401572.87616323313\n",
       "RMSLE: NaN\n",
       "Mean Residual Deviance: 284257025017.9278\n",
       "\n",
       "Cross-Validation Metrics Summary: \n",
       "                        mean         sd           cv_1_valid    cv_2_valid    cv_3_valid    cv_4_valid    cv_5_valid\n",
       "----------------------  -----------  -----------  ------------  ------------  ------------  ------------  ------------\n",
       "mae                     401573       6940.76      403142        403571        407647        403923        389580\n",
       "mean_residual_deviance  2.84258e+11  1.63041e+10  2.74867e+11   2.89433e+11   2.92988e+11   3.02761e+11   2.61242e+11\n",
       "mse                     2.84258e+11  1.63041e+10  2.74867e+11   2.89433e+11   2.92988e+11   3.02761e+11   2.61242e+11\n",
       "r2                      0.313923     0.00401728   0.313831      0.309449      0.312586      0.313319      0.320433\n",
       "residual_deviance       2.84258e+11  1.63041e+10  2.74867e+11   2.89433e+11   2.92988e+11   3.02761e+11   2.61242e+11\n",
       "rmse                    532981       15374.8      524277        537990        541284        550237        511118\n",
       "rmsle                   nan          0            nan           nan           nan           nan           nan\n",
       "\n",
       "Scoring History: \n",
       "    timestamp            duration    number_of_trees    training_rmse    training_mae    training_deviance\n",
       "--  -------------------  ----------  -----------------  ---------------  --------------  -------------------\n",
       "    2022-11-12 22:54:05  0.598 sec   0                  643637           499094          4.14269e+11\n",
       "    2022-11-12 22:54:05  0.626 sec   5                  577112           445807          3.33059e+11\n",
       "    2022-11-12 22:54:05  0.648 sec   10                 544483           418185          2.96461e+11\n",
       "    2022-11-12 22:54:05  0.668 sec   15                 528387           404250          2.79193e+11\n",
       "    2022-11-12 22:54:05  0.688 sec   20                 514768           391767          2.64986e+11\n",
       "    2022-11-12 22:54:05  0.708 sec   25                 507276           384643          2.57329e+11\n",
       "    2022-11-12 22:54:05  0.728 sec   30                 501311           378666          2.51313e+11\n",
       "    2022-11-12 22:54:05  0.748 sec   35                 496335           373965          2.46348e+11\n",
       "    2022-11-12 22:54:05  0.768 sec   40                 492725           370896          2.42778e+11\n",
       "    2022-11-12 22:54:05  0.788 sec   45                 488782           367399          2.38908e+11\n",
       "    2022-11-12 22:54:05  0.808 sec   49                 485787           364582          2.35989e+11\n",
       "\n",
       "Variable Importances: \n",
       "variable                    relative_importance    scaled_importance    percentage\n",
       "--------------------------  ---------------------  -------------------  ------------\n",
       "chain_name                  6.178e+15              1                    0.675142\n",
       "district_population         5.50062e+14            0.0890356            0.0601117\n",
       "grunnkrets_population       5.45677e+14            0.0883258            0.0596325\n",
       "households_grunnkrets       4.85401e+14            0.0785694            0.0530455\n",
       "district_municipality_name  4.42201e+14            0.0715767            0.0483245\n",
       "area_km2                    3.9134e+14             0.0633442            0.0427664\n",
       "municipality_name           3.05308e+14            0.0494186            0.0333646\n",
       "distance_from_busstop       2.52672e+14            0.0408987            0.0276125\n",
       "\n",
       "[tips]\n",
       "Use `model.explain()` to inspect the model.\n",
       "--\n",
       "Use `h2o.display.toggle_user_tips()` to switch on/off this section."
      ]
     },
     "execution_count": 18,
     "metadata": {},
     "output_type": "execute_result"
    }
   ],
   "source": [
    "model.train(training_frame = train, y = 'revenue')"
   ]
  },
  {
   "cell_type": "code",
   "execution_count": 19,
   "id": "c1798a65-6ff5-4745-bcf1-304d188e1e9d",
   "metadata": {
    "colab": {
     "base_uri": "https://localhost:8080/",
     "height": 389
    },
    "executionInfo": {
     "elapsed": 3368,
     "status": "ok",
     "timestamp": 1668288026419,
     "user": {
      "displayName": "Andrew Glover Martey",
      "userId": "04565811789290908398"
     },
     "user_tz": -60
    },
    "id": "c1798a65-6ff5-4745-bcf1-304d188e1e9d",
    "outputId": "703a5b7d-d2c8-4d56-a49c-d6033f35d5d3"
   },
   "outputs": [
    {
     "data": {
      "text/html": [
       "<table class='dataframe'>\n",
       "<thead>\n",
       "<tr><th>model_id                                             </th><th style=\"text-align: right;\">  rmsle</th><th style=\"text-align: right;\">  rmse</th><th style=\"text-align: right;\">        mse</th><th style=\"text-align: right;\">   mae</th><th style=\"text-align: right;\">  mean_residual_deviance</th><th style=\"text-align: right;\">  training_time_ms</th><th style=\"text-align: right;\">  predict_time_per_row_ms</th><th>algo           </th></tr>\n",
       "</thead>\n",
       "<tbody>\n",
       "<tr><td>GBM_2_AutoML_17_20221112_225400                      </td><td style=\"text-align: right;\">    nan</td><td style=\"text-align: right;\">533158</td><td style=\"text-align: right;\">2.84257e+11</td><td style=\"text-align: right;\">401573</td><td style=\"text-align: right;\">             2.84257e+11</td><td style=\"text-align: right;\">               210</td><td style=\"text-align: right;\">                 0.004952</td><td>GBM            </td></tr>\n",
       "<tr><td>GBM_5_AutoML_17_20221112_225400                      </td><td style=\"text-align: right;\">    nan</td><td style=\"text-align: right;\">533696</td><td style=\"text-align: right;\">2.84832e+11</td><td style=\"text-align: right;\">402537</td><td style=\"text-align: right;\">             2.84832e+11</td><td style=\"text-align: right;\">               180</td><td style=\"text-align: right;\">                 0.004583</td><td>GBM            </td></tr>\n",
       "<tr><td>DRF_1_AutoML_17_20221112_225400                      </td><td style=\"text-align: right;\">    nan</td><td style=\"text-align: right;\">563589</td><td style=\"text-align: right;\">3.17632e+11</td><td style=\"text-align: right;\">431203</td><td style=\"text-align: right;\">             3.17632e+11</td><td style=\"text-align: right;\">               781</td><td style=\"text-align: right;\">                 0.009393</td><td>DRF            </td></tr>\n",
       "<tr><td>GBM_grid_1_AutoML_17_20221112_225400_model_12        </td><td style=\"text-align: right;\">    nan</td><td style=\"text-align: right;\">533048</td><td style=\"text-align: right;\">2.8414e+11 </td><td style=\"text-align: right;\">401794</td><td style=\"text-align: right;\">             2.8414e+11 </td><td style=\"text-align: right;\">               224</td><td style=\"text-align: right;\">                 0.003286</td><td>GBM            </td></tr>\n",
       "<tr><td>GBM_grid_1_AutoML_17_20221112_225400_model_4         </td><td style=\"text-align: right;\">    nan</td><td style=\"text-align: right;\">550623</td><td style=\"text-align: right;\">3.03186e+11</td><td style=\"text-align: right;\">419120</td><td style=\"text-align: right;\">             3.03186e+11</td><td style=\"text-align: right;\">               296</td><td style=\"text-align: right;\">                 0.006844</td><td>GBM            </td></tr>\n",
       "<tr><td>GBM_grid_1_AutoML_17_20221112_225400_model_6         </td><td style=\"text-align: right;\">    nan</td><td style=\"text-align: right;\">539079</td><td style=\"text-align: right;\">2.90606e+11</td><td style=\"text-align: right;\">409737</td><td style=\"text-align: right;\">             2.90606e+11</td><td style=\"text-align: right;\">               214</td><td style=\"text-align: right;\">                 0.005176</td><td>GBM            </td></tr>\n",
       "<tr><td>GBM_4_AutoML_17_20221112_225400                      </td><td style=\"text-align: right;\">    nan</td><td style=\"text-align: right;\">534867</td><td style=\"text-align: right;\">2.86083e+11</td><td style=\"text-align: right;\">401731</td><td style=\"text-align: right;\">             2.86083e+11</td><td style=\"text-align: right;\">               202</td><td style=\"text-align: right;\">                 0.004606</td><td>GBM            </td></tr>\n",
       "<tr><td>GBM_grid_1_AutoML_17_20221112_225400_model_7         </td><td style=\"text-align: right;\">    nan</td><td style=\"text-align: right;\">543285</td><td style=\"text-align: right;\">2.95159e+11</td><td style=\"text-align: right;\">415382</td><td style=\"text-align: right;\">             2.95159e+11</td><td style=\"text-align: right;\">               380</td><td style=\"text-align: right;\">                 0.008003</td><td>GBM            </td></tr>\n",
       "<tr><td>StackedEnsemble_AllModels_1_AutoML_17_20221112_225400</td><td style=\"text-align: right;\">    nan</td><td style=\"text-align: right;\">529653</td><td style=\"text-align: right;\">2.80532e+11</td><td style=\"text-align: right;\">397414</td><td style=\"text-align: right;\">             2.80532e+11</td><td style=\"text-align: right;\">               661</td><td style=\"text-align: right;\">                 0.009799</td><td>StackedEnsemble</td></tr>\n",
       "<tr><td>GBM_grid_1_AutoML_17_20221112_225400_model_10        </td><td style=\"text-align: right;\">    nan</td><td style=\"text-align: right;\">545308</td><td style=\"text-align: right;\">2.97361e+11</td><td style=\"text-align: right;\">414021</td><td style=\"text-align: right;\">             2.97361e+11</td><td style=\"text-align: right;\">               267</td><td style=\"text-align: right;\">                 0.005372</td><td>GBM            </td></tr>\n",
       "</tbody>\n",
       "</table><pre style='font-size: smaller; margin-bottom: 1em;'>[22 rows x 9 columns]</pre>"
      ],
      "text/plain": [
       "model_id                                                 rmsle    rmse          mse     mae    mean_residual_deviance    training_time_ms    predict_time_per_row_ms  algo\n",
       "-----------------------------------------------------  -------  ------  -----------  ------  ------------------------  ------------------  -------------------------  ---------------\n",
       "GBM_2_AutoML_17_20221112_225400                            nan  533158  2.84257e+11  401573               2.84257e+11                 210                   0.004952  GBM\n",
       "GBM_5_AutoML_17_20221112_225400                            nan  533696  2.84832e+11  402537               2.84832e+11                 180                   0.004583  GBM\n",
       "DRF_1_AutoML_17_20221112_225400                            nan  563589  3.17632e+11  431203               3.17632e+11                 781                   0.009393  DRF\n",
       "GBM_grid_1_AutoML_17_20221112_225400_model_12              nan  533048  2.8414e+11   401794               2.8414e+11                  224                   0.003286  GBM\n",
       "GBM_grid_1_AutoML_17_20221112_225400_model_4               nan  550623  3.03186e+11  419120               3.03186e+11                 296                   0.006844  GBM\n",
       "GBM_grid_1_AutoML_17_20221112_225400_model_6               nan  539079  2.90606e+11  409737               2.90606e+11                 214                   0.005176  GBM\n",
       "GBM_4_AutoML_17_20221112_225400                            nan  534867  2.86083e+11  401731               2.86083e+11                 202                   0.004606  GBM\n",
       "GBM_grid_1_AutoML_17_20221112_225400_model_7               nan  543285  2.95159e+11  415382               2.95159e+11                 380                   0.008003  GBM\n",
       "StackedEnsemble_AllModels_1_AutoML_17_20221112_225400      nan  529653  2.80532e+11  397414               2.80532e+11                 661                   0.009799  StackedEnsemble\n",
       "GBM_grid_1_AutoML_17_20221112_225400_model_10              nan  545308  2.97361e+11  414021               2.97361e+11                 267                   0.005372  GBM\n",
       "[22 rows x 9 columns]\n"
      ]
     },
     "execution_count": 19,
     "metadata": {},
     "output_type": "execute_result"
    }
   ],
   "source": [
    "h2o_models = h2o.automl.get_leaderboard(model, extra_columns = \"ALL\")\n",
    "h2o_models"
   ]
  },
  {
   "cell_type": "code",
   "execution_count": 20,
   "id": "bdedd1aa-5551-4eac-9ffe-e6e81bd2dd21",
   "metadata": {
    "colab": {
     "base_uri": "https://localhost:8080/"
    },
    "executionInfo": {
     "elapsed": 486,
     "status": "ok",
     "timestamp": 1668288026902,
     "user": {
      "displayName": "Andrew Glover Martey",
      "userId": "04565811789290908398"
     },
     "user_tz": -60
    },
    "id": "bdedd1aa-5551-4eac-9ffe-e6e81bd2dd21",
    "outputId": "0164a518-a149-432d-a81e-411dc97a1dff"
   },
   "outputs": [
    {
     "name": "stdout",
     "output_type": "stream",
     "text": [
      "Model Details\n",
      "=============\n",
      "H2OGradientBoostingEstimator : Gradient Boosting Machine\n",
      "Model Key: GBM_2_AutoML_17_20221112_225400\n",
      "\n",
      "\n",
      "Model Summary: \n",
      "    number_of_trees    number_of_internal_trees    model_size_in_bytes    min_depth    max_depth    mean_depth    min_leaves    max_leaves    mean_leaves\n",
      "--  -----------------  --------------------------  ---------------------  -----------  -----------  ------------  ------------  ------------  -------------\n",
      "    49                 49                          45213                  7            7            7             40            103           68.7755\n",
      "\n",
      "ModelMetricsRegression: gbm\n",
      "** Reported on train data. **\n",
      "\n",
      "MSE: 235988667257.65466\n",
      "RMSE: 485786.6478791432\n",
      "MAE: 364581.7928995966\n",
      "RMSLE: NaN\n",
      "Mean Residual Deviance: 235988667257.65466\n",
      "\n",
      "ModelMetricsRegression: gbm\n",
      "** Reported on cross-validation data. **\n",
      "\n",
      "MSE: 284257025017.9278\n",
      "RMSE: 533157.5986684685\n",
      "MAE: 401572.87616323313\n",
      "RMSLE: NaN\n",
      "Mean Residual Deviance: 284257025017.9278\n",
      "\n",
      "Cross-Validation Metrics Summary: \n",
      "                        mean         sd           cv_1_valid    cv_2_valid    cv_3_valid    cv_4_valid    cv_5_valid\n",
      "----------------------  -----------  -----------  ------------  ------------  ------------  ------------  ------------\n",
      "mae                     401573       6940.76      403142        403571        407647        403923        389580\n",
      "mean_residual_deviance  2.84258e+11  1.63041e+10  2.74867e+11   2.89433e+11   2.92988e+11   3.02761e+11   2.61242e+11\n",
      "mse                     2.84258e+11  1.63041e+10  2.74867e+11   2.89433e+11   2.92988e+11   3.02761e+11   2.61242e+11\n",
      "r2                      0.313923     0.00401728   0.313831      0.309449      0.312586      0.313319      0.320433\n",
      "residual_deviance       2.84258e+11  1.63041e+10  2.74867e+11   2.89433e+11   2.92988e+11   3.02761e+11   2.61242e+11\n",
      "rmse                    532981       15374.8      524277        537990        541284        550237        511118\n",
      "rmsle                   nan          0            nan           nan           nan           nan           nan\n",
      "\n",
      "Scoring History: \n",
      "    timestamp            duration    number_of_trees    training_rmse    training_mae    training_deviance\n",
      "--  -------------------  ----------  -----------------  ---------------  --------------  -------------------\n",
      "    2022-11-12 22:54:05  0.598 sec   0                  643637           499094          4.14269e+11\n",
      "    2022-11-12 22:54:05  0.626 sec   5                  577112           445807          3.33059e+11\n",
      "    2022-11-12 22:54:05  0.648 sec   10                 544483           418185          2.96461e+11\n",
      "    2022-11-12 22:54:05  0.668 sec   15                 528387           404250          2.79193e+11\n",
      "    2022-11-12 22:54:05  0.688 sec   20                 514768           391767          2.64986e+11\n",
      "    2022-11-12 22:54:05  0.708 sec   25                 507276           384643          2.57329e+11\n",
      "    2022-11-12 22:54:05  0.728 sec   30                 501311           378666          2.51313e+11\n",
      "    2022-11-12 22:54:05  0.748 sec   35                 496335           373965          2.46348e+11\n",
      "    2022-11-12 22:54:05  0.768 sec   40                 492725           370896          2.42778e+11\n",
      "    2022-11-12 22:54:05  0.788 sec   45                 488782           367399          2.38908e+11\n",
      "    2022-11-12 22:54:05  0.808 sec   49                 485787           364582          2.35989e+11\n",
      "\n",
      "Variable Importances: \n",
      "variable                    relative_importance    scaled_importance    percentage\n",
      "--------------------------  ---------------------  -------------------  ------------\n",
      "chain_name                  6.178e+15              1                    0.675142\n",
      "district_population         5.50062e+14            0.0890356            0.0601117\n",
      "grunnkrets_population       5.45677e+14            0.0883258            0.0596325\n",
      "households_grunnkrets       4.85401e+14            0.0785694            0.0530455\n",
      "district_municipality_name  4.42201e+14            0.0715767            0.0483245\n",
      "area_km2                    3.9134e+14             0.0633442            0.0427664\n",
      "municipality_name           3.05308e+14            0.0494186            0.0333646\n",
      "distance_from_busstop       2.52672e+14            0.0408987            0.0276125\n"
     ]
    }
   ],
   "source": [
    "best_model = model.get_best_model()\n",
    "print(best_model)"
   ]
  },
  {
   "cell_type": "code",
   "execution_count": 21,
   "id": "74b147d1-339d-477d-b71c-1a64705e8e1d",
   "metadata": {
    "colab": {
     "base_uri": "https://localhost:8080/",
     "height": 184
    },
    "executionInfo": {
     "elapsed": 8,
     "status": "ok",
     "timestamp": 1668288026903,
     "user": {
      "displayName": "Andrew Glover Martey",
      "userId": "04565811789290908398"
     },
     "user_tz": -60
    },
    "id": "74b147d1-339d-477d-b71c-1a64705e8e1d",
    "outputId": "660204be-341b-42be-8a36-9484ba19a649"
   },
   "outputs": [
    {
     "data": {
      "text/html": [
       "<pre style='margin: 1em 0 1em 0;'>ModelMetricsRegression: gbm\n",
       "** Reported on test data. **\n",
       "\n",
       "MSE: 301043759435.2039\n",
       "RMSE: 548674.54782886\n",
       "MAE: 412247.8694476356\n",
       "RMSLE: NaN\n",
       "Mean Residual Deviance: 301043759435.2039</pre>"
      ],
      "text/plain": [
       "ModelMetricsRegression: gbm\n",
       "** Reported on test data. **\n",
       "\n",
       "MSE: 301043759435.2039\n",
       "RMSE: 548674.54782886\n",
       "MAE: 412247.8694476356\n",
       "RMSLE: NaN\n",
       "Mean Residual Deviance: 301043759435.2039"
      ]
     },
     "execution_count": 21,
     "metadata": {},
     "output_type": "execute_result"
    }
   ],
   "source": [
    "best_model.model_performance(test)"
   ]
  },
  {
   "cell_type": "code",
   "execution_count": 22,
   "id": "61d1f4e8-679a-4865-8479-ca87032224d7",
   "metadata": {
    "colab": {
     "base_uri": "https://localhost:8080/",
     "height": 406
    },
    "executionInfo": {
     "elapsed": 239,
     "status": "ok",
     "timestamp": 1668288027135,
     "user": {
      "displayName": "Andrew Glover Martey",
      "userId": "04565811789290908398"
     },
     "user_tz": -60
    },
    "id": "61d1f4e8-679a-4865-8479-ca87032224d7",
    "outputId": "e0b9ac64-e42e-4f00-9a5f-c1a919abe83f"
   },
   "outputs": [
    {
     "name": "stdout",
     "output_type": "stream",
     "text": [
      "gbm prediction progress: |███████████████████████████████████████████████████████| (done) 100%\n"
     ]
    },
    {
     "data": {
      "text/html": [
       "<table class='dataframe'>\n",
       "<thead>\n",
       "<tr><th style=\"text-align: right;\">         predict</th></tr>\n",
       "</thead>\n",
       "<tbody>\n",
       "<tr><td style=\"text-align: right;\">222001          </td></tr>\n",
       "<tr><td style=\"text-align: right;\">     1.10375e+06</td></tr>\n",
       "<tr><td style=\"text-align: right;\">537122          </td></tr>\n",
       "<tr><td style=\"text-align: right;\">499775          </td></tr>\n",
       "<tr><td style=\"text-align: right;\">235303          </td></tr>\n",
       "<tr><td style=\"text-align: right;\">389442          </td></tr>\n",
       "<tr><td style=\"text-align: right;\">235303          </td></tr>\n",
       "<tr><td style=\"text-align: right;\">309071          </td></tr>\n",
       "<tr><td style=\"text-align: right;\">464540          </td></tr>\n",
       "<tr><td style=\"text-align: right;\">523461          </td></tr>\n",
       "</tbody>\n",
       "</table><pre style='font-size: smaller; margin-bottom: 1em;'>[2481 rows x 1 column]</pre>"
      ],
      "text/plain": [
       "         predict\n",
       "----------------\n",
       "222001\n",
       "     1.10375e+06\n",
       "537122\n",
       "499775\n",
       "235303\n",
       "389442\n",
       "235303\n",
       "309071\n",
       "464540\n",
       "523461\n",
       "[2481 rows x 1 column]\n"
      ]
     },
     "execution_count": 22,
     "metadata": {},
     "output_type": "execute_result"
    }
   ],
   "source": [
    "y_pred = model.predict(test)\n",
    "y_pred"
   ]
  },
  {
   "cell_type": "code",
   "execution_count": 23,
   "id": "05bc6c12-384f-436e-b75c-b55dfead6c86",
   "metadata": {
    "colab": {
     "base_uri": "https://localhost:8080/",
     "height": 389
    },
    "executionInfo": {
     "elapsed": 6,
     "status": "ok",
     "timestamp": 1668288027136,
     "user": {
      "displayName": "Andrew Glover Martey",
      "userId": "04565811789290908398"
     },
     "user_tz": -60
    },
    "id": "05bc6c12-384f-436e-b75c-b55dfead6c86",
    "outputId": "b195913b-e2dd-4a1b-8807-299fb3ea0f41"
   },
   "outputs": [
    {
     "data": {
      "text/html": [
       "<table class='dataframe'>\n",
       "<thead>\n",
       "<tr><th style=\"text-align: right;\">          revenue</th></tr>\n",
       "</thead>\n",
       "<tbody>\n",
       "<tr><td style=\"text-align: right;\"> 700704          </td></tr>\n",
       "<tr><td style=\"text-align: right;\">      1.09774e+06</td></tr>\n",
       "<tr><td style=\"text-align: right;\">      1.15036e+06</td></tr>\n",
       "<tr><td style=\"text-align: right;\"> 728597          </td></tr>\n",
       "<tr><td style=\"text-align: right;\">-539102          </td></tr>\n",
       "<tr><td style=\"text-align: right;\">-124360          </td></tr>\n",
       "<tr><td style=\"text-align: right;\"> 922829          </td></tr>\n",
       "<tr><td style=\"text-align: right;\"> 878234          </td></tr>\n",
       "<tr><td style=\"text-align: right;\"> 471732          </td></tr>\n",
       "<tr><td style=\"text-align: right;\"> 859379          </td></tr>\n",
       "</tbody>\n",
       "</table><pre style='font-size: smaller; margin-bottom: 1em;'>[2481 rows x 1 column]</pre>"
      ],
      "text/plain": [
       "          revenue\n",
       "-----------------\n",
       " 700704\n",
       "      1.09774e+06\n",
       "      1.15036e+06\n",
       " 728597\n",
       "-539102\n",
       "-124360\n",
       " 922829\n",
       " 878234\n",
       " 471732\n",
       " 859379\n",
       "[2481 rows x 1 column]\n"
      ]
     },
     "execution_count": 23,
     "metadata": {},
     "output_type": "execute_result"
    }
   ],
   "source": [
    "y_truth = test['revenue']\n",
    "y_truth"
   ]
  },
  {
   "cell_type": "code",
   "execution_count": 24,
   "id": "246eb934-857a-40e3-9ccf-3502730ad0be",
   "metadata": {
    "executionInfo": {
     "elapsed": 6,
     "status": "ok",
     "timestamp": 1668288027137,
     "user": {
      "displayName": "Andrew Glover Martey",
      "userId": "04565811789290908398"
     },
     "user_tz": -60
    },
    "id": "246eb934-857a-40e3-9ccf-3502730ad0be"
   },
   "outputs": [],
   "source": [
    "#y_pred.types"
   ]
  },
  {
   "cell_type": "code",
   "execution_count": 25,
   "id": "ebce1aef-8587-4ded-b42f-86c96ea522b7",
   "metadata": {
    "executionInfo": {
     "elapsed": 6,
     "status": "ok",
     "timestamp": 1668288027137,
     "user": {
      "displayName": "Andrew Glover Martey",
      "userId": "04565811789290908398"
     },
     "user_tz": -60
    },
    "id": "ebce1aef-8587-4ded-b42f-86c96ea522b7"
   },
   "outputs": [],
   "source": [
    "#explain_model = model.explain(frame = test, figsize = (8,6))"
   ]
  },
  {
   "cell_type": "code",
   "execution_count": 26,
   "id": "793726f7-b6fb-48c0-bb4a-d531e95c3c5c",
   "metadata": {
    "colab": {
     "base_uri": "https://localhost:8080/"
    },
    "executionInfo": {
     "elapsed": 233,
     "status": "ok",
     "timestamp": 1668288027364,
     "user": {
      "displayName": "Andrew Glover Martey",
      "userId": "04565811789290908398"
     },
     "user_tz": -60
    },
    "id": "793726f7-b6fb-48c0-bb4a-d531e95c3c5c",
    "outputId": "c3cf87e0-40e6-458e-e72b-53e8ab7db25a"
   },
   "outputs": [
    {
     "data": {
      "text/plain": [
       "301043760069.27435"
      ]
     },
     "execution_count": 26,
     "metadata": {},
     "output_type": "execute_result"
    }
   ],
   "source": [
    "from h2o.model.regression import h2o_mean_squared_error\n",
    "\n",
    "h2o_mean_squared_error(y_truth, y_pred)"
   ]
  },
  {
   "cell_type": "code",
   "execution_count": 27,
   "id": "qqUE6yTzESMx",
   "metadata": {
    "colab": {
     "base_uri": "https://localhost:8080/"
    },
    "executionInfo": {
     "elapsed": 7,
     "status": "ok",
     "timestamp": 1668288027365,
     "user": {
      "displayName": "Andrew Glover Martey",
      "userId": "04565811789290908398"
     },
     "user_tz": -60
    },
    "id": "qqUE6yTzESMx",
    "outputId": "e730d05b-6ede-4348-f868-5ed1b7594887"
   },
   "outputs": [
    {
     "data": {
      "text/plain": [
       "-326181.1694869614"
      ]
     },
     "execution_count": 27,
     "metadata": {},
     "output_type": "execute_result"
    }
   ],
   "source": [
    "y_pred.min()"
   ]
  },
  {
   "cell_type": "code",
   "execution_count": 28,
   "id": "XOj56gUbEZ9N",
   "metadata": {
    "colab": {
     "base_uri": "https://localhost:8080/"
    },
    "executionInfo": {
     "elapsed": 5,
     "status": "ok",
     "timestamp": 1668288027365,
     "user": {
      "displayName": "Andrew Glover Martey",
      "userId": "04565811789290908398"
     },
     "user_tz": -60
    },
    "id": "XOj56gUbEZ9N",
    "outputId": "2cb7227a-78ee-4f22-c386-11ba49e5d1f4"
   },
   "outputs": [
    {
     "data": {
      "text/plain": [
       "-3000000.0"
      ]
     },
     "execution_count": 28,
     "metadata": {},
     "output_type": "execute_result"
    }
   ],
   "source": [
    "y_truth.min()"
   ]
  },
  {
   "cell_type": "code",
   "execution_count": 29,
   "id": "d-lbLJveEedL",
   "metadata": {
    "colab": {
     "base_uri": "https://localhost:8080/"
    },
    "executionInfo": {
     "elapsed": 4,
     "status": "ok",
     "timestamp": 1668288027365,
     "user": {
      "displayName": "Andrew Glover Martey",
      "userId": "04565811789290908398"
     },
     "user_tz": -60
    },
    "id": "d-lbLJveEedL",
    "outputId": "e7b1bf14-bad4-4dc2-df2b-c1afcd5cc2da"
   },
   "outputs": [
    {
     "data": {
      "text/plain": [
       "1863902.4053650284"
      ]
     },
     "execution_count": 29,
     "metadata": {},
     "output_type": "execute_result"
    }
   ],
   "source": [
    "y_pred.max()"
   ]
  },
  {
   "cell_type": "code",
   "execution_count": 30,
   "id": "F3Jnt0jEEXNk",
   "metadata": {
    "colab": {
     "base_uri": "https://localhost:8080/"
    },
    "executionInfo": {
     "elapsed": 8,
     "status": "ok",
     "timestamp": 1668288027660,
     "user": {
      "displayName": "Andrew Glover Martey",
      "userId": "04565811789290908398"
     },
     "user_tz": -60
    },
    "id": "F3Jnt0jEEXNk",
    "outputId": "b20c0222-ec24-4515-f26f-070e4c56ec91"
   },
   "outputs": [
    {
     "data": {
      "text/plain": [
       "2341630.358111976"
      ]
     },
     "execution_count": 30,
     "metadata": {},
     "output_type": "execute_result"
    }
   ],
   "source": [
    "y_truth.max()"
   ]
  },
  {
   "cell_type": "code",
   "execution_count": 31,
   "id": "7aHZ3SgBU4BO",
   "metadata": {
    "colab": {
     "base_uri": "https://localhost:8080/",
     "height": 389
    },
    "executionInfo": {
     "elapsed": 8,
     "status": "ok",
     "timestamp": 1668288027661,
     "user": {
      "displayName": "Andrew Glover Martey",
      "userId": "04565811789290908398"
     },
     "user_tz": -60
    },
    "id": "7aHZ3SgBU4BO",
    "outputId": "f2b0e990-b9f6-448e-83bc-65c263ed389c"
   },
   "outputs": [
    {
     "data": {
      "text/html": [
       "<table class='dataframe'>\n",
       "<thead>\n",
       "<tr><th style=\"text-align: right;\">  predict</th></tr>\n",
       "</thead>\n",
       "<tbody>\n",
       "<tr><td style=\"text-align: right;\">  1.66725</td></tr>\n",
       "<tr><td style=\"text-align: right;\"> 12.6984 </td></tr>\n",
       "<tr><td style=\"text-align: right;\">  3.44447</td></tr>\n",
       "<tr><td style=\"text-align: right;\">  3.16064</td></tr>\n",
       "<tr><td style=\"text-align: right;\">  1.71911</td></tr>\n",
       "<tr><td style=\"text-align: right;\">  2.45156</td></tr>\n",
       "<tr><td style=\"text-align: right;\">  1.71911</td></tr>\n",
       "<tr><td style=\"text-align: right;\">  2.03738</td></tr>\n",
       "<tr><td style=\"text-align: right;\">  2.91434</td></tr>\n",
       "<tr><td style=\"text-align: right;\">  3.33781</td></tr>\n",
       "</tbody>\n",
       "</table><pre style='font-size: smaller; margin-bottom: 1em;'>[2481 rows x 1 column]</pre>"
      ],
      "text/plain": [
       "  predict\n",
       "---------\n",
       "  1.66725\n",
       " 12.6984\n",
       "  3.44447\n",
       "  3.16064\n",
       "  1.71911\n",
       "  2.45156\n",
       "  1.71911\n",
       "  2.03738\n",
       "  2.91434\n",
       "  3.33781\n",
       "[2481 rows x 1 column]\n"
      ]
     },
     "execution_count": 31,
     "metadata": {},
     "output_type": "execute_result"
    }
   ],
   "source": [
    "y_pred = 10**(y_pred/1000000)\n",
    "y_pred "
   ]
  },
  {
   "cell_type": "code",
   "execution_count": 32,
   "id": "_aqqJYAJUtS2",
   "metadata": {
    "colab": {
     "base_uri": "https://localhost:8080/",
     "height": 389
    },
    "executionInfo": {
     "elapsed": 9,
     "status": "ok",
     "timestamp": 1668288027662,
     "user": {
      "displayName": "Andrew Glover Martey",
      "userId": "04565811789290908398"
     },
     "user_tz": -60
    },
    "id": "_aqqJYAJUtS2",
    "outputId": "18de3fb3-c1d2-4eb6-e102-1cfcfa41c3d3"
   },
   "outputs": [
    {
     "data": {
      "text/html": [
       "<table class='dataframe'>\n",
       "<thead>\n",
       "<tr><th style=\"text-align: right;\">  revenue</th></tr>\n",
       "</thead>\n",
       "<tbody>\n",
       "<tr><td style=\"text-align: right;\">    5.02 </td></tr>\n",
       "<tr><td style=\"text-align: right;\">   12.524</td></tr>\n",
       "<tr><td style=\"text-align: right;\">   14.137</td></tr>\n",
       "<tr><td style=\"text-align: right;\">    5.353</td></tr>\n",
       "<tr><td style=\"text-align: right;\">    0.289</td></tr>\n",
       "<tr><td style=\"text-align: right;\">    0.751</td></tr>\n",
       "<tr><td style=\"text-align: right;\">    8.372</td></tr>\n",
       "<tr><td style=\"text-align: right;\">    7.555</td></tr>\n",
       "<tr><td style=\"text-align: right;\">    2.963</td></tr>\n",
       "<tr><td style=\"text-align: right;\">    7.234</td></tr>\n",
       "</tbody>\n",
       "</table><pre style='font-size: smaller; margin-bottom: 1em;'>[2481 rows x 1 column]</pre>"
      ],
      "text/plain": [
       "  revenue\n",
       "---------\n",
       "    5.02\n",
       "   12.524\n",
       "   14.137\n",
       "    5.353\n",
       "    0.289\n",
       "    0.751\n",
       "    8.372\n",
       "    7.555\n",
       "    2.963\n",
       "    7.234\n",
       "[2481 rows x 1 column]\n"
      ]
     },
     "execution_count": 32,
     "metadata": {},
     "output_type": "execute_result"
    }
   ],
   "source": [
    "y_truth = 10**(y_truth/1000000)\n",
    "y_truth"
   ]
  },
  {
   "cell_type": "code",
   "execution_count": 33,
   "id": "6ei1QX-4X-cz",
   "metadata": {
    "colab": {
     "base_uri": "https://localhost:8080/"
    },
    "executionInfo": {
     "elapsed": 8,
     "status": "ok",
     "timestamp": 1668288027662,
     "user": {
      "displayName": "Andrew Glover Martey",
      "userId": "04565811789290908398"
     },
     "user_tz": -60
    },
    "id": "6ei1QX-4X-cz",
    "outputId": "e66a77ac-8277-4ca4-fd1d-d5d8e46a0fbb"
   },
   "outputs": [
    {
     "data": {
      "text/plain": [
       "0.47186615738261506"
      ]
     },
     "execution_count": 33,
     "metadata": {},
     "output_type": "execute_result"
    }
   ],
   "source": [
    "y_pred.min()"
   ]
  },
  {
   "cell_type": "code",
   "execution_count": 34,
   "id": "dxuLgvB5X-qw",
   "metadata": {
    "colab": {
     "base_uri": "https://localhost:8080/"
    },
    "executionInfo": {
     "elapsed": 9,
     "status": "ok",
     "timestamp": 1668288028073,
     "user": {
      "displayName": "Andrew Glover Martey",
      "userId": "04565811789290908398"
     },
     "user_tz": -60
    },
    "id": "dxuLgvB5X-qw",
    "outputId": "46e9803b-329e-4d23-d91b-31598bf20172"
   },
   "outputs": [
    {
     "data": {
      "text/plain": [
       "0.001"
      ]
     },
     "execution_count": 34,
     "metadata": {},
     "output_type": "execute_result"
    }
   ],
   "source": [
    "y_truth.min()"
   ]
  },
  {
   "cell_type": "code",
   "execution_count": 35,
   "id": "vtc4tcMWX-6O",
   "metadata": {
    "colab": {
     "base_uri": "https://localhost:8080/"
    },
    "executionInfo": {
     "elapsed": 8,
     "status": "ok",
     "timestamp": 1668288028073,
     "user": {
      "displayName": "Andrew Glover Martey",
      "userId": "04565811789290908398"
     },
     "user_tz": -60
    },
    "id": "vtc4tcMWX-6O",
    "outputId": "a3abed17-018b-4f8e-ad33-e5efc3866c79"
   },
   "outputs": [
    {
     "data": {
      "text/plain": [
       "73.09748004034678"
      ]
     },
     "execution_count": 35,
     "metadata": {},
     "output_type": "execute_result"
    }
   ],
   "source": [
    "y_pred.max()"
   ]
  },
  {
   "cell_type": "code",
   "execution_count": 36,
   "id": "56fXtaAdX_JY",
   "metadata": {
    "colab": {
     "base_uri": "https://localhost:8080/"
    },
    "executionInfo": {
     "elapsed": 7,
     "status": "ok",
     "timestamp": 1668288028073,
     "user": {
      "displayName": "Andrew Glover Martey",
      "userId": "04565811789290908398"
     },
     "user_tz": -60
    },
    "id": "56fXtaAdX_JY",
    "outputId": "d502fdde-0a38-44ba-e0a6-ece988230b6b"
   },
   "outputs": [
    {
     "data": {
      "text/plain": [
       "219.59900000000007"
      ]
     },
     "execution_count": 36,
     "metadata": {},
     "output_type": "execute_result"
    }
   ],
   "source": [
    "y_truth.max()"
   ]
  },
  {
   "cell_type": "code",
   "execution_count": 37,
   "id": "Ykc8FUv2bace",
   "metadata": {
    "executionInfo": {
     "elapsed": 6,
     "status": "ok",
     "timestamp": 1668288028074,
     "user": {
      "displayName": "Andrew Glover Martey",
      "userId": "04565811789290908398"
     },
     "user_tz": -60
    },
    "id": "Ykc8FUv2bace"
   },
   "outputs": [],
   "source": [
    "stores_test = pd.read_csv('data/stores_test_preprocessed.csv')"
   ]
  },
  {
   "cell_type": "code",
   "execution_count": 38,
   "id": "-QeQpWuXboNP",
   "metadata": {
    "colab": {
     "base_uri": "https://localhost:8080/"
    },
    "executionInfo": {
     "elapsed": 6,
     "status": "ok",
     "timestamp": 1668288028074,
     "user": {
      "displayName": "Andrew Glover Martey",
      "userId": "04565811789290908398"
     },
     "user_tz": -60
    },
    "id": "-QeQpWuXboNP",
    "outputId": "35d1cbd9-8177-4145-f7ef-abb8ab8f7d6e"
   },
   "outputs": [
    {
     "data": {
      "text/plain": [
       "store_id                        0\n",
       "grunnkrets_id                   0\n",
       "lat                             0\n",
       "lon                             0\n",
       "chain_name                      0\n",
       "mall_name                       0\n",
       "grunnkrets_population         511\n",
       "district_population            27\n",
       "distance_from_busstop           0\n",
       "busstop_importance_level        0\n",
       "lv1                             0\n",
       "lv2                             0\n",
       "lv3                             0\n",
       "lv4                             0\n",
       "households_grunnkrets           0\n",
       "municipality_name               0\n",
       "area_km2                       27\n",
       "district_municipality_name      0\n",
       "dtype: int64"
      ]
     },
     "execution_count": 38,
     "metadata": {},
     "output_type": "execute_result"
    }
   ],
   "source": [
    "stores_test.isnull().sum()"
   ]
  },
  {
   "cell_type": "code",
   "execution_count": 39,
   "id": "2ck19KAQbtjv",
   "metadata": {
    "executionInfo": {
     "elapsed": 5,
     "status": "ok",
     "timestamp": 1668288028074,
     "user": {
      "displayName": "Andrew Glover Martey",
      "userId": "04565811789290908398"
     },
     "user_tz": -60
    },
    "id": "2ck19KAQbtjv"
   },
   "outputs": [],
   "source": [
    "stores_test['grunnkrets_population'] = stores_test['grunnkrets_population'].fillna(stores_test.grunnkrets_population.mean())\n",
    "stores_test['district_population'] = stores_test['district_population'].fillna(stores_test.district_population.mean())\n",
    "stores_test['area_km2'] = stores_test['area_km2'].fillna(stores_test.area_km2.mean())"
   ]
  },
  {
   "cell_type": "code",
   "execution_count": 40,
   "id": "hXBCRWCPcVXw",
   "metadata": {
    "colab": {
     "base_uri": "https://localhost:8080/"
    },
    "executionInfo": {
     "elapsed": 6,
     "status": "ok",
     "timestamp": 1668288028075,
     "user": {
      "displayName": "Andrew Glover Martey",
      "userId": "04565811789290908398"
     },
     "user_tz": -60
    },
    "id": "hXBCRWCPcVXw",
    "outputId": "125168c4-4980-4cb8-a1ae-1dc58b2e3576"
   },
   "outputs": [
    {
     "data": {
      "text/plain": [
       "store_id                      0\n",
       "grunnkrets_id                 0\n",
       "lat                           0\n",
       "lon                           0\n",
       "chain_name                    0\n",
       "mall_name                     0\n",
       "grunnkrets_population         0\n",
       "district_population           0\n",
       "distance_from_busstop         0\n",
       "busstop_importance_level      0\n",
       "lv1                           0\n",
       "lv2                           0\n",
       "lv3                           0\n",
       "lv4                           0\n",
       "households_grunnkrets         0\n",
       "municipality_name             0\n",
       "area_km2                      0\n",
       "district_municipality_name    0\n",
       "dtype: int64"
      ]
     },
     "execution_count": 40,
     "metadata": {},
     "output_type": "execute_result"
    }
   ],
   "source": [
    "stores_test.isnull().sum()"
   ]
  },
  {
   "cell_type": "code",
   "execution_count": 41,
   "id": "UkPAq7nchsnO",
   "metadata": {
    "colab": {
     "base_uri": "https://localhost:8080/",
     "height": 424
    },
    "executionInfo": {
     "elapsed": 8,
     "status": "ok",
     "timestamp": 1668288028391,
     "user": {
      "displayName": "Andrew Glover Martey",
      "userId": "04565811789290908398"
     },
     "user_tz": -60
    },
    "id": "UkPAq7nchsnO",
    "outputId": "5c00a6aa-ea5a-445c-f559-f531e5a5ec48"
   },
   "outputs": [
    {
     "data": {
      "text/html": [
       "<div>\n",
       "<style scoped>\n",
       "    .dataframe tbody tr th:only-of-type {\n",
       "        vertical-align: middle;\n",
       "    }\n",
       "\n",
       "    .dataframe tbody tr th {\n",
       "        vertical-align: top;\n",
       "    }\n",
       "\n",
       "    .dataframe thead th {\n",
       "        text-align: right;\n",
       "    }\n",
       "</style>\n",
       "<table border=\"1\" class=\"dataframe\">\n",
       "  <thead>\n",
       "    <tr style=\"text-align: right;\">\n",
       "      <th></th>\n",
       "      <th>store_id</th>\n",
       "    </tr>\n",
       "  </thead>\n",
       "  <tbody>\n",
       "    <tr>\n",
       "      <th>0</th>\n",
       "      <td>914206820-914239427-717245</td>\n",
       "    </tr>\n",
       "    <tr>\n",
       "      <th>1</th>\n",
       "      <td>916789157-916823770-824309</td>\n",
       "    </tr>\n",
       "    <tr>\n",
       "      <th>2</th>\n",
       "      <td>913341082-977479363-2948</td>\n",
       "    </tr>\n",
       "    <tr>\n",
       "      <th>3</th>\n",
       "      <td>889682582-889697172-28720</td>\n",
       "    </tr>\n",
       "    <tr>\n",
       "      <th>4</th>\n",
       "      <td>997991699-998006945-417222</td>\n",
       "    </tr>\n",
       "    <tr>\n",
       "      <th>...</th>\n",
       "      <td>...</td>\n",
       "    </tr>\n",
       "    <tr>\n",
       "      <th>8572</th>\n",
       "      <td>917323003-917383529-844309</td>\n",
       "    </tr>\n",
       "    <tr>\n",
       "      <th>8573</th>\n",
       "      <td>917353379-917411824-845904</td>\n",
       "    </tr>\n",
       "    <tr>\n",
       "      <th>8574</th>\n",
       "      <td>917072302-917089248-833647</td>\n",
       "    </tr>\n",
       "    <tr>\n",
       "      <th>8575</th>\n",
       "      <td>916960557-916993161-829908</td>\n",
       "    </tr>\n",
       "    <tr>\n",
       "      <th>8576</th>\n",
       "      <td>987280891-972040746-45320</td>\n",
       "    </tr>\n",
       "  </tbody>\n",
       "</table>\n",
       "<p>8577 rows × 1 columns</p>\n",
       "</div>"
      ],
      "text/plain": [
       "                        store_id\n",
       "0     914206820-914239427-717245\n",
       "1     916789157-916823770-824309\n",
       "2       913341082-977479363-2948\n",
       "3      889682582-889697172-28720\n",
       "4     997991699-998006945-417222\n",
       "...                          ...\n",
       "8572  917323003-917383529-844309\n",
       "8573  917353379-917411824-845904\n",
       "8574  917072302-917089248-833647\n",
       "8575  916960557-916993161-829908\n",
       "8576   987280891-972040746-45320\n",
       "\n",
       "[8577 rows x 1 columns]"
      ]
     },
     "execution_count": 41,
     "metadata": {},
     "output_type": "execute_result"
    }
   ],
   "source": [
    "stores_test_id = stores_test.drop(stores_test.iloc[:,1:], axis = 1)\n",
    "stores_test_id"
   ]
  },
  {
   "cell_type": "code",
   "execution_count": 42,
   "id": "DbI6qbeKcvb2",
   "metadata": {
    "executionInfo": {
     "elapsed": 8,
     "status": "ok",
     "timestamp": 1668288028392,
     "user": {
      "displayName": "Andrew Glover Martey",
      "userId": "04565811789290908398"
     },
     "user_tz": -60
    },
    "id": "DbI6qbeKcvb2"
   },
   "outputs": [],
   "source": [
    "stores_test = stores_test.drop(['store_id'], axis = 1)"
   ]
  },
  {
   "cell_type": "code",
   "execution_count": 43,
   "id": "P70Uw2ZfdLRM",
   "metadata": {
    "colab": {
     "base_uri": "https://localhost:8080/",
     "height": 270
    },
    "executionInfo": {
     "elapsed": 7,
     "status": "ok",
     "timestamp": 1668288028392,
     "user": {
      "displayName": "Andrew Glover Martey",
      "userId": "04565811789290908398"
     },
     "user_tz": -60
    },
    "id": "P70Uw2ZfdLRM",
    "outputId": "76d558ce-90ee-4698-f002-ef7ebad40910"
   },
   "outputs": [
    {
     "data": {
      "text/html": [
       "<div>\n",
       "<style scoped>\n",
       "    .dataframe tbody tr th:only-of-type {\n",
       "        vertical-align: middle;\n",
       "    }\n",
       "\n",
       "    .dataframe tbody tr th {\n",
       "        vertical-align: top;\n",
       "    }\n",
       "\n",
       "    .dataframe thead th {\n",
       "        text-align: right;\n",
       "    }\n",
       "</style>\n",
       "<table border=\"1\" class=\"dataframe\">\n",
       "  <thead>\n",
       "    <tr style=\"text-align: right;\">\n",
       "      <th></th>\n",
       "      <th>grunnkrets_id</th>\n",
       "      <th>lat</th>\n",
       "      <th>lon</th>\n",
       "      <th>chain_name</th>\n",
       "      <th>mall_name</th>\n",
       "      <th>grunnkrets_population</th>\n",
       "      <th>district_population</th>\n",
       "      <th>distance_from_busstop</th>\n",
       "      <th>busstop_importance_level</th>\n",
       "      <th>lv1</th>\n",
       "      <th>lv2</th>\n",
       "      <th>lv3</th>\n",
       "      <th>lv4</th>\n",
       "      <th>households_grunnkrets</th>\n",
       "      <th>municipality_name</th>\n",
       "      <th>area_km2</th>\n",
       "      <th>district_municipality_name</th>\n",
       "    </tr>\n",
       "  </thead>\n",
       "  <tbody>\n",
       "    <tr>\n",
       "      <th>0</th>\n",
       "      <td>3012704</td>\n",
       "      <td>59.908672</td>\n",
       "      <td>10.787031</td>\n",
       "      <td>1</td>\n",
       "      <td>0</td>\n",
       "      <td>970.000000</td>\n",
       "      <td>20635.0</td>\n",
       "      <td>5.350000e-08</td>\n",
       "      <td>0</td>\n",
       "      <td>1</td>\n",
       "      <td>11</td>\n",
       "      <td>111</td>\n",
       "      <td>1110</td>\n",
       "      <td>386900</td>\n",
       "      <td>248</td>\n",
       "      <td>0.057027</td>\n",
       "      <td>1316</td>\n",
       "    </tr>\n",
       "    <tr>\n",
       "      <th>1</th>\n",
       "      <td>8061401</td>\n",
       "      <td>59.201467</td>\n",
       "      <td>9.588243</td>\n",
       "      <td>20</td>\n",
       "      <td>0</td>\n",
       "      <td>749.582693</td>\n",
       "      <td>540.0</td>\n",
       "      <td>1.030000e-06</td>\n",
       "      <td>1</td>\n",
       "      <td>1</td>\n",
       "      <td>11</td>\n",
       "      <td>111</td>\n",
       "      <td>1110</td>\n",
       "      <td>475200</td>\n",
       "      <td>298</td>\n",
       "      <td>0.165993</td>\n",
       "      <td>343</td>\n",
       "    </tr>\n",
       "    <tr>\n",
       "      <th>2</th>\n",
       "      <td>3013917</td>\n",
       "      <td>59.962146</td>\n",
       "      <td>10.924524</td>\n",
       "      <td>20</td>\n",
       "      <td>1</td>\n",
       "      <td>2421.000000</td>\n",
       "      <td>85164.0</td>\n",
       "      <td>1.360000e-05</td>\n",
       "      <td>0</td>\n",
       "      <td>1</td>\n",
       "      <td>11</td>\n",
       "      <td>111</td>\n",
       "      <td>1110</td>\n",
       "      <td>451900</td>\n",
       "      <td>248</td>\n",
       "      <td>0.236628</td>\n",
       "      <td>254</td>\n",
       "    </tr>\n",
       "    <tr>\n",
       "      <th>3</th>\n",
       "      <td>16012104</td>\n",
       "      <td>63.420785</td>\n",
       "      <td>10.461091</td>\n",
       "      <td>20</td>\n",
       "      <td>0</td>\n",
       "      <td>149.000000</td>\n",
       "      <td>27247.0</td>\n",
       "      <td>8.340000e-06</td>\n",
       "      <td>0</td>\n",
       "      <td>1</td>\n",
       "      <td>11</td>\n",
       "      <td>111</td>\n",
       "      <td>1110</td>\n",
       "      <td>497400</td>\n",
       "      <td>355</td>\n",
       "      <td>0.983436</td>\n",
       "      <td>1066</td>\n",
       "    </tr>\n",
       "    <tr>\n",
       "      <th>4</th>\n",
       "      <td>3014305</td>\n",
       "      <td>59.921102</td>\n",
       "      <td>10.785123</td>\n",
       "      <td>1</td>\n",
       "      <td>0</td>\n",
       "      <td>4921.000000</td>\n",
       "      <td>116474.0</td>\n",
       "      <td>8.450000e-07</td>\n",
       "      <td>0</td>\n",
       "      <td>1</td>\n",
       "      <td>11</td>\n",
       "      <td>111</td>\n",
       "      <td>1110</td>\n",
       "      <td>489800</td>\n",
       "      <td>248</td>\n",
       "      <td>0.449502</td>\n",
       "      <td>375</td>\n",
       "    </tr>\n",
       "  </tbody>\n",
       "</table>\n",
       "</div>"
      ],
      "text/plain": [
       "   grunnkrets_id        lat        lon  chain_name  mall_name  \\\n",
       "0        3012704  59.908672  10.787031           1          0   \n",
       "1        8061401  59.201467   9.588243          20          0   \n",
       "2        3013917  59.962146  10.924524          20          1   \n",
       "3       16012104  63.420785  10.461091          20          0   \n",
       "4        3014305  59.921102  10.785123           1          0   \n",
       "\n",
       "   grunnkrets_population  district_population  distance_from_busstop  \\\n",
       "0             970.000000              20635.0           5.350000e-08   \n",
       "1             749.582693                540.0           1.030000e-06   \n",
       "2            2421.000000              85164.0           1.360000e-05   \n",
       "3             149.000000              27247.0           8.340000e-06   \n",
       "4            4921.000000             116474.0           8.450000e-07   \n",
       "\n",
       "   busstop_importance_level  lv1  lv2  lv3   lv4  households_grunnkrets  \\\n",
       "0                         0    1   11  111  1110                 386900   \n",
       "1                         1    1   11  111  1110                 475200   \n",
       "2                         0    1   11  111  1110                 451900   \n",
       "3                         0    1   11  111  1110                 497400   \n",
       "4                         0    1   11  111  1110                 489800   \n",
       "\n",
       "   municipality_name  area_km2  district_municipality_name  \n",
       "0                248  0.057027                        1316  \n",
       "1                298  0.165993                         343  \n",
       "2                248  0.236628                         254  \n",
       "3                355  0.983436                        1066  \n",
       "4                248  0.449502                         375  "
      ]
     },
     "execution_count": 43,
     "metadata": {},
     "output_type": "execute_result"
    }
   ],
   "source": [
    "stores_test.head()"
   ]
  },
  {
   "cell_type": "code",
   "execution_count": 44,
   "id": "QV-X0PxwdP4E",
   "metadata": {
    "colab": {
     "base_uri": "https://localhost:8080/"
    },
    "executionInfo": {
     "elapsed": 558,
     "status": "ok",
     "timestamp": 1668288028944,
     "user": {
      "displayName": "Andrew Glover Martey",
      "userId": "04565811789290908398"
     },
     "user_tz": -60
    },
    "id": "QV-X0PxwdP4E",
    "outputId": "09fe235f-61fa-46e1-9216-57543a8bf474"
   },
   "outputs": [
    {
     "name": "stdout",
     "output_type": "stream",
     "text": [
      "Parse progress: |████████████████████████████████████████████████████████████████| (done) 100%\n"
     ]
    }
   ],
   "source": [
    "test_data = h2o.H2OFrame(stores_test)"
   ]
  },
  {
   "cell_type": "code",
   "execution_count": 45,
   "id": "geehm6aodvjS",
   "metadata": {
    "colab": {
     "base_uri": "https://localhost:8080/",
     "height": 406
    },
    "executionInfo": {
     "elapsed": 619,
     "status": "ok",
     "timestamp": 1668288029560,
     "user": {
      "displayName": "Andrew Glover Martey",
      "userId": "04565811789290908398"
     },
     "user_tz": -60
    },
    "id": "geehm6aodvjS",
    "outputId": "83a8f864-2da7-4381-c2cc-a05e1f46be6a"
   },
   "outputs": [
    {
     "name": "stdout",
     "output_type": "stream",
     "text": [
      "gbm prediction progress: |███████████████████████████████████████████████████████| (done) 100%\n"
     ]
    },
    {
     "data": {
      "text/html": [
       "<table class='dataframe'>\n",
       "<thead>\n",
       "<tr><th style=\"text-align: right;\">         predict</th></tr>\n",
       "</thead>\n",
       "<tbody>\n",
       "<tr><td style=\"text-align: right;\">314022          </td></tr>\n",
       "<tr><td style=\"text-align: right;\">     1.078e+06  </td></tr>\n",
       "<tr><td style=\"text-align: right;\">871411          </td></tr>\n",
       "<tr><td style=\"text-align: right;\">972086          </td></tr>\n",
       "<tr><td style=\"text-align: right;\">546865          </td></tr>\n",
       "<tr><td style=\"text-align: right;\">947455          </td></tr>\n",
       "<tr><td style=\"text-align: right;\">     1.0467e+06 </td></tr>\n",
       "<tr><td style=\"text-align: right;\">467501          </td></tr>\n",
       "<tr><td style=\"text-align: right;\">948764          </td></tr>\n",
       "<tr><td style=\"text-align: right;\">     1.00395e+06</td></tr>\n",
       "</tbody>\n",
       "</table><pre style='font-size: smaller; margin-bottom: 1em;'>[8577 rows x 1 column]</pre>"
      ],
      "text/plain": [
       "         predict\n",
       "----------------\n",
       "314022\n",
       "     1.078e+06\n",
       "871411\n",
       "972086\n",
       "546865\n",
       "947455\n",
       "     1.0467e+06\n",
       "467501\n",
       "948764\n",
       "     1.00395e+06\n",
       "[8577 rows x 1 column]\n"
      ]
     },
     "execution_count": 45,
     "metadata": {},
     "output_type": "execute_result"
    }
   ],
   "source": [
    "y_pred_test = model.predict(test_data)\n",
    "y_pred_test"
   ]
  },
  {
   "cell_type": "code",
   "execution_count": 46,
   "id": "9DIPxv_uexmN",
   "metadata": {
    "colab": {
     "base_uri": "https://localhost:8080/",
     "height": 389
    },
    "executionInfo": {
     "elapsed": 9,
     "status": "ok",
     "timestamp": 1668288029561,
     "user": {
      "displayName": "Andrew Glover Martey",
      "userId": "04565811789290908398"
     },
     "user_tz": -60
    },
    "id": "9DIPxv_uexmN",
    "outputId": "2a8da5b2-895f-4289-fd04-09803ac343d6"
   },
   "outputs": [
    {
     "data": {
      "text/html": [
       "<table class='dataframe'>\n",
       "<thead>\n",
       "<tr><th style=\"text-align: right;\">  predict</th></tr>\n",
       "</thead>\n",
       "<tbody>\n",
       "<tr><td style=\"text-align: right;\">  2.06074</td></tr>\n",
       "<tr><td style=\"text-align: right;\"> 11.9674 </td></tr>\n",
       "<tr><td style=\"text-align: right;\">  7.43723</td></tr>\n",
       "<tr><td style=\"text-align: right;\">  9.37747</td></tr>\n",
       "<tr><td style=\"text-align: right;\">  3.52261</td></tr>\n",
       "<tr><td style=\"text-align: right;\">  8.86044</td></tr>\n",
       "<tr><td style=\"text-align: right;\"> 11.1354 </td></tr>\n",
       "<tr><td style=\"text-align: right;\">  2.93428</td></tr>\n",
       "<tr><td style=\"text-align: right;\">  8.88718</td></tr>\n",
       "<tr><td style=\"text-align: right;\"> 10.0914 </td></tr>\n",
       "</tbody>\n",
       "</table><pre style='font-size: smaller; margin-bottom: 1em;'>[8577 rows x 1 column]</pre>"
      ],
      "text/plain": [
       "  predict\n",
       "---------\n",
       "  2.06074\n",
       " 11.9674\n",
       "  7.43723\n",
       "  9.37747\n",
       "  3.52261\n",
       "  8.86044\n",
       " 11.1354\n",
       "  2.93428\n",
       "  8.88718\n",
       " 10.0914\n",
       "[8577 rows x 1 column]\n"
      ]
     },
     "execution_count": 46,
     "metadata": {},
     "output_type": "execute_result"
    }
   ],
   "source": [
    "y_pred_test_non_log = 10**(y_pred_test/1000000)\n",
    "y_pred_test_non_log"
   ]
  },
  {
   "cell_type": "code",
   "execution_count": 47,
   "id": "GGRra_Ewj-xA",
   "metadata": {
    "colab": {
     "base_uri": "https://localhost:8080/"
    },
    "executionInfo": {
     "elapsed": 425,
     "status": "ok",
     "timestamp": 1668288029979,
     "user": {
      "displayName": "Andrew Glover Martey",
      "userId": "04565811789290908398"
     },
     "user_tz": -60
    },
    "id": "GGRra_Ewj-xA",
    "outputId": "a768c278-025c-4ff2-af45-821312a63ae3"
   },
   "outputs": [
    {
     "name": "stdout",
     "output_type": "stream",
     "text": [
      "Export File progress: |██████████████████████████████████████████████████████████| (done) 100%\n"
     ]
    }
   ],
   "source": [
    "h2o.export_file(y_pred_test_non_log, path = \"data/pred03.csv\", force = True)"
   ]
  }
 ],
 "metadata": {
  "colab": {
   "collapsed_sections": [],
   "provenance": [
    {
     "file_id": "163HW_JcFgnH3OB4JE-RM-43vNn-onoAI",
     "timestamp": 1668261227321
    },
    {
     "file_id": "1SBrk8k-fX4XP_GsiHECNn5hWsQ5wJeNK",
     "timestamp": 1668260697343
    },
    {
     "file_id": "1JYaRXR9b63LTZuN2sSK1Ih0AZ3uAZx55",
     "timestamp": 1668229193831
    }
   ]
  },
  "gpuClass": "standard",
  "kernelspec": {
   "display_name": "Python 3",
   "language": "python",
   "name": "python3"
  },
  "language_info": {
   "codemirror_mode": {
    "name": "ipython",
    "version": 3
   },
   "file_extension": ".py",
   "mimetype": "text/x-python",
   "name": "python",
   "nbconvert_exporter": "python",
   "pygments_lexer": "ipython3",
   "version": "3.8.8"
  }
 },
 "nbformat": 4,
 "nbformat_minor": 5
}
