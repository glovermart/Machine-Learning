{
 "cells": [
  {
   "cell_type": "code",
   "execution_count": 1,
   "id": "9e04b639-d412-4d53-a528-3da972cce707",
   "metadata": {
    "tags": []
   },
   "outputs": [],
   "source": [
    "import pandas as pd\n",
    "import seaborn as sns\n",
    "sns.set_style('darkgrid')\n",
    "import matplotlib.pyplot as plt \n",
    "import numpy as np\n",
    "stores_train = pd.read_csv('data/stores_train_extra_features.csv')"
   ]
  },
  {
   "cell_type": "code",
   "execution_count": 2,
   "id": "3d113cc5-6cee-4686-9b8c-76184e5834a6",
   "metadata": {},
   "outputs": [
    {
     "data": {
      "text/plain": [
       "store_id                         0\n",
       "grunnkrets_id                    0\n",
       "lat                              0\n",
       "lon                              0\n",
       "chain_name                       0\n",
       "mall_name                        0\n",
       "revenue                          0\n",
       "grunnkrets_population            0\n",
       "district_population              0\n",
       "distance_from_busstop            0\n",
       "busstop_importance_level         0\n",
       "lv1                              0\n",
       "lv2                              0\n",
       "lv3                              0\n",
       "lv4                              0\n",
       "households_grunnkrets            0\n",
       "municipality_name                0\n",
       "area_km2                         0\n",
       "district_municipality_name       0\n",
       "area_of_district                 0\n",
       "grunnkrets_population_density    0\n",
       "district_population_density      0\n",
       "district_per_capita_income       0\n",
       "busstop_factor                   0\n",
       "dtype: int64"
      ]
     },
     "execution_count": 2,
     "metadata": {},
     "output_type": "execute_result"
    }
   ],
   "source": [
    "stores_train.isnull().sum()"
   ]
  },
  {
   "cell_type": "code",
   "execution_count": 3,
   "id": "ecbd081f-59b2-4543-bcd1-eafe93c5922f",
   "metadata": {},
   "outputs": [
    {
     "data": {
      "text/html": [
       "<div>\n",
       "<style scoped>\n",
       "    .dataframe tbody tr th:only-of-type {\n",
       "        vertical-align: middle;\n",
       "    }\n",
       "\n",
       "    .dataframe tbody tr th {\n",
       "        vertical-align: top;\n",
       "    }\n",
       "\n",
       "    .dataframe thead th {\n",
       "        text-align: right;\n",
       "    }\n",
       "</style>\n",
       "<table border=\"1\" class=\"dataframe\">\n",
       "  <thead>\n",
       "    <tr style=\"text-align: right;\">\n",
       "      <th></th>\n",
       "      <th>store_id</th>\n",
       "      <th>grunnkrets_id</th>\n",
       "      <th>lat</th>\n",
       "      <th>lon</th>\n",
       "      <th>chain_name</th>\n",
       "      <th>mall_name</th>\n",
       "      <th>revenue</th>\n",
       "      <th>grunnkrets_population</th>\n",
       "      <th>district_population</th>\n",
       "      <th>distance_from_busstop</th>\n",
       "      <th>...</th>\n",
       "      <th>lv4</th>\n",
       "      <th>households_grunnkrets</th>\n",
       "      <th>municipality_name</th>\n",
       "      <th>area_km2</th>\n",
       "      <th>district_municipality_name</th>\n",
       "      <th>area_of_district</th>\n",
       "      <th>grunnkrets_population_density</th>\n",
       "      <th>district_population_density</th>\n",
       "      <th>district_per_capita_income</th>\n",
       "      <th>busstop_factor</th>\n",
       "    </tr>\n",
       "  </thead>\n",
       "  <tbody>\n",
       "    <tr>\n",
       "      <th>0</th>\n",
       "      <td>983540538-974187930-44774</td>\n",
       "      <td>6020303</td>\n",
       "      <td>59.743104</td>\n",
       "      <td>10.204928</td>\n",
       "      <td>89</td>\n",
       "      <td>1</td>\n",
       "      <td>17.998</td>\n",
       "      <td>157.000000</td>\n",
       "      <td>38817.0</td>\n",
       "      <td>2.820000e-05</td>\n",
       "      <td>...</td>\n",
       "      <td>1110</td>\n",
       "      <td>398700</td>\n",
       "      <td>45</td>\n",
       "      <td>0.155779</td>\n",
       "      <td>99</td>\n",
       "      <td>6.211363</td>\n",
       "      <td>1007.837930</td>\n",
       "      <td>6249.352506</td>\n",
       "      <td>10.271273</td>\n",
       "      <td>-4.549751</td>\n",
       "    </tr>\n",
       "    <tr>\n",
       "      <th>1</th>\n",
       "      <td>987074191-973117734-44755</td>\n",
       "      <td>3010306</td>\n",
       "      <td>59.913759</td>\n",
       "      <td>10.734031</td>\n",
       "      <td>89</td>\n",
       "      <td>0</td>\n",
       "      <td>23.828</td>\n",
       "      <td>764.433051</td>\n",
       "      <td>75243.0</td>\n",
       "      <td>1.580000e-06</td>\n",
       "      <td>...</td>\n",
       "      <td>1110</td>\n",
       "      <td>374800</td>\n",
       "      <td>248</td>\n",
       "      <td>0.264278</td>\n",
       "      <td>936</td>\n",
       "      <td>10.905851</td>\n",
       "      <td>2892.533223</td>\n",
       "      <td>6899.323980</td>\n",
       "      <td>4.981194</td>\n",
       "      <td>-5.199283</td>\n",
       "    </tr>\n",
       "    <tr>\n",
       "      <th>2</th>\n",
       "      <td>984890265-981157303-64491</td>\n",
       "      <td>6050102</td>\n",
       "      <td>60.164751</td>\n",
       "      <td>10.254656</td>\n",
       "      <td>20</td>\n",
       "      <td>1</td>\n",
       "      <td>16.099</td>\n",
       "      <td>372.000000</td>\n",
       "      <td>39644.0</td>\n",
       "      <td>1.370000e-07</td>\n",
       "      <td>...</td>\n",
       "      <td>1110</td>\n",
       "      <td>347900</td>\n",
       "      <td>264</td>\n",
       "      <td>0.160152</td>\n",
       "      <td>476</td>\n",
       "      <td>7.359366</td>\n",
       "      <td>2322.789575</td>\n",
       "      <td>5386.877260</td>\n",
       "      <td>8.775603</td>\n",
       "      <td>-6.863279</td>\n",
       "    </tr>\n",
       "    <tr>\n",
       "      <th>3</th>\n",
       "      <td>914057442-992924179-126912</td>\n",
       "      <td>18040102</td>\n",
       "      <td>67.283669</td>\n",
       "      <td>14.379796</td>\n",
       "      <td>20</td>\n",
       "      <td>1</td>\n",
       "      <td>9.296</td>\n",
       "      <td>474.000000</td>\n",
       "      <td>48488.0</td>\n",
       "      <td>2.730000e-07</td>\n",
       "      <td>...</td>\n",
       "      <td>1110</td>\n",
       "      <td>394000</td>\n",
       "      <td>33</td>\n",
       "      <td>0.095029</td>\n",
       "      <td>945</td>\n",
       "      <td>1.262214</td>\n",
       "      <td>4987.952411</td>\n",
       "      <td>38415.043567</td>\n",
       "      <td>8.125722</td>\n",
       "      <td>-5.864867</td>\n",
       "    </tr>\n",
       "    <tr>\n",
       "      <th>4</th>\n",
       "      <td>913018583-913063538-668469</td>\n",
       "      <td>16017414</td>\n",
       "      <td>63.358068</td>\n",
       "      <td>10.374832</td>\n",
       "      <td>20</td>\n",
       "      <td>1</td>\n",
       "      <td>4.528</td>\n",
       "      <td>764.433051</td>\n",
       "      <td>4938.0</td>\n",
       "      <td>4.380000e-06</td>\n",
       "      <td>...</td>\n",
       "      <td>1110</td>\n",
       "      <td>623700</td>\n",
       "      <td>355</td>\n",
       "      <td>0.251070</td>\n",
       "      <td>1151</td>\n",
       "      <td>7.106081</td>\n",
       "      <td>3044.698266</td>\n",
       "      <td>694.897816</td>\n",
       "      <td>126.306197</td>\n",
       "      <td>-5.057496</td>\n",
       "    </tr>\n",
       "    <tr>\n",
       "      <th>...</th>\n",
       "      <td>...</td>\n",
       "      <td>...</td>\n",
       "      <td>...</td>\n",
       "      <td>...</td>\n",
       "      <td>...</td>\n",
       "      <td>...</td>\n",
       "      <td>...</td>\n",
       "      <td>...</td>\n",
       "      <td>...</td>\n",
       "      <td>...</td>\n",
       "      <td>...</td>\n",
       "      <td>...</td>\n",
       "      <td>...</td>\n",
       "      <td>...</td>\n",
       "      <td>...</td>\n",
       "      <td>...</td>\n",
       "      <td>...</td>\n",
       "      <td>...</td>\n",
       "      <td>...</td>\n",
       "      <td>...</td>\n",
       "      <td>...</td>\n",
       "    </tr>\n",
       "    <tr>\n",
       "      <th>12854</th>\n",
       "      <td>915789943-915806929-781991</td>\n",
       "      <td>7010705</td>\n",
       "      <td>59.416276</td>\n",
       "      <td>10.480970</td>\n",
       "      <td>1</td>\n",
       "      <td>0</td>\n",
       "      <td>0.088</td>\n",
       "      <td>1516.000000</td>\n",
       "      <td>87790.0</td>\n",
       "      <td>1.820000e-06</td>\n",
       "      <td>...</td>\n",
       "      <td>28112</td>\n",
       "      <td>381900</td>\n",
       "      <td>135</td>\n",
       "      <td>0.291337</td>\n",
       "      <td>949</td>\n",
       "      <td>7.359366</td>\n",
       "      <td>5203.601337</td>\n",
       "      <td>11929.017119</td>\n",
       "      <td>4.350154</td>\n",
       "      <td>-5.739929</td>\n",
       "    </tr>\n",
       "    <tr>\n",
       "      <th>12855</th>\n",
       "      <td>917921733-917982368-868081</td>\n",
       "      <td>5020406</td>\n",
       "      <td>60.799991</td>\n",
       "      <td>10.693635</td>\n",
       "      <td>1</td>\n",
       "      <td>1</td>\n",
       "      <td>1.816</td>\n",
       "      <td>503.000000</td>\n",
       "      <td>27605.0</td>\n",
       "      <td>8.710000e-06</td>\n",
       "      <td>...</td>\n",
       "      <td>28112</td>\n",
       "      <td>292000</td>\n",
       "      <td>97</td>\n",
       "      <td>0.137188</td>\n",
       "      <td>946</td>\n",
       "      <td>7.359366</td>\n",
       "      <td>3666.513042</td>\n",
       "      <td>3751.002592</td>\n",
       "      <td>10.577794</td>\n",
       "      <td>-5.059982</td>\n",
       "    </tr>\n",
       "    <tr>\n",
       "      <th>12856</th>\n",
       "      <td>911721961-911764474-496764</td>\n",
       "      <td>2310803</td>\n",
       "      <td>59.946562</td>\n",
       "      <td>11.007659</td>\n",
       "      <td>1</td>\n",
       "      <td>1</td>\n",
       "      <td>38.225</td>\n",
       "      <td>1117.000000</td>\n",
       "      <td>88666.0</td>\n",
       "      <td>2.520000e-06</td>\n",
       "      <td>...</td>\n",
       "      <td>28112</td>\n",
       "      <td>440200</td>\n",
       "      <td>296</td>\n",
       "      <td>0.123431</td>\n",
       "      <td>1027</td>\n",
       "      <td>7.359366</td>\n",
       "      <td>9049.611721</td>\n",
       "      <td>12048.049115</td>\n",
       "      <td>4.964699</td>\n",
       "      <td>-5.598599</td>\n",
       "    </tr>\n",
       "    <tr>\n",
       "      <th>12857</th>\n",
       "      <td>914337046-914343372-721294</td>\n",
       "      <td>11020113</td>\n",
       "      <td>58.850261</td>\n",
       "      <td>5.735674</td>\n",
       "      <td>1</td>\n",
       "      <td>1</td>\n",
       "      <td>3.642</td>\n",
       "      <td>281.000000</td>\n",
       "      <td>21524.0</td>\n",
       "      <td>1.200000e-06</td>\n",
       "      <td>...</td>\n",
       "      <td>28112</td>\n",
       "      <td>382400</td>\n",
       "      <td>283</td>\n",
       "      <td>0.034857</td>\n",
       "      <td>952</td>\n",
       "      <td>7.359366</td>\n",
       "      <td>8061.539671</td>\n",
       "      <td>2924.708560</td>\n",
       "      <td>17.766214</td>\n",
       "      <td>-5.920819</td>\n",
       "    </tr>\n",
       "    <tr>\n",
       "      <th>12858</th>\n",
       "      <td>917494436-917551936-851089</td>\n",
       "      <td>19021302</td>\n",
       "      <td>69.670422</td>\n",
       "      <td>19.042659</td>\n",
       "      <td>1</td>\n",
       "      <td>0</td>\n",
       "      <td>2.328</td>\n",
       "      <td>1150.000000</td>\n",
       "      <td>2264.0</td>\n",
       "      <td>2.920000e-06</td>\n",
       "      <td>...</td>\n",
       "      <td>28112</td>\n",
       "      <td>487100</td>\n",
       "      <td>354</td>\n",
       "      <td>0.204915</td>\n",
       "      <td>1164</td>\n",
       "      <td>7.359366</td>\n",
       "      <td>5612.083524</td>\n",
       "      <td>307.635206</td>\n",
       "      <td>215.150177</td>\n",
       "      <td>-5.534617</td>\n",
       "    </tr>\n",
       "  </tbody>\n",
       "</table>\n",
       "<p>12859 rows × 24 columns</p>\n",
       "</div>"
      ],
      "text/plain": [
       "                         store_id  grunnkrets_id        lat        lon  \\\n",
       "0       983540538-974187930-44774        6020303  59.743104  10.204928   \n",
       "1       987074191-973117734-44755        3010306  59.913759  10.734031   \n",
       "2       984890265-981157303-64491        6050102  60.164751  10.254656   \n",
       "3      914057442-992924179-126912       18040102  67.283669  14.379796   \n",
       "4      913018583-913063538-668469       16017414  63.358068  10.374832   \n",
       "...                           ...            ...        ...        ...   \n",
       "12854  915789943-915806929-781991        7010705  59.416276  10.480970   \n",
       "12855  917921733-917982368-868081        5020406  60.799991  10.693635   \n",
       "12856  911721961-911764474-496764        2310803  59.946562  11.007659   \n",
       "12857  914337046-914343372-721294       11020113  58.850261   5.735674   \n",
       "12858  917494436-917551936-851089       19021302  69.670422  19.042659   \n",
       "\n",
       "       chain_name  mall_name  revenue  grunnkrets_population  \\\n",
       "0              89          1   17.998             157.000000   \n",
       "1              89          0   23.828             764.433051   \n",
       "2              20          1   16.099             372.000000   \n",
       "3              20          1    9.296             474.000000   \n",
       "4              20          1    4.528             764.433051   \n",
       "...           ...        ...      ...                    ...   \n",
       "12854           1          0    0.088            1516.000000   \n",
       "12855           1          1    1.816             503.000000   \n",
       "12856           1          1   38.225            1117.000000   \n",
       "12857           1          1    3.642             281.000000   \n",
       "12858           1          0    2.328            1150.000000   \n",
       "\n",
       "       district_population  distance_from_busstop  ...    lv4  \\\n",
       "0                  38817.0           2.820000e-05  ...   1110   \n",
       "1                  75243.0           1.580000e-06  ...   1110   \n",
       "2                  39644.0           1.370000e-07  ...   1110   \n",
       "3                  48488.0           2.730000e-07  ...   1110   \n",
       "4                   4938.0           4.380000e-06  ...   1110   \n",
       "...                    ...                    ...  ...    ...   \n",
       "12854              87790.0           1.820000e-06  ...  28112   \n",
       "12855              27605.0           8.710000e-06  ...  28112   \n",
       "12856              88666.0           2.520000e-06  ...  28112   \n",
       "12857              21524.0           1.200000e-06  ...  28112   \n",
       "12858               2264.0           2.920000e-06  ...  28112   \n",
       "\n",
       "       households_grunnkrets  municipality_name  area_km2  \\\n",
       "0                     398700                 45  0.155779   \n",
       "1                     374800                248  0.264278   \n",
       "2                     347900                264  0.160152   \n",
       "3                     394000                 33  0.095029   \n",
       "4                     623700                355  0.251070   \n",
       "...                      ...                ...       ...   \n",
       "12854                 381900                135  0.291337   \n",
       "12855                 292000                 97  0.137188   \n",
       "12856                 440200                296  0.123431   \n",
       "12857                 382400                283  0.034857   \n",
       "12858                 487100                354  0.204915   \n",
       "\n",
       "       district_municipality_name  area_of_district  \\\n",
       "0                              99          6.211363   \n",
       "1                             936         10.905851   \n",
       "2                             476          7.359366   \n",
       "3                             945          1.262214   \n",
       "4                            1151          7.106081   \n",
       "...                           ...               ...   \n",
       "12854                         949          7.359366   \n",
       "12855                         946          7.359366   \n",
       "12856                        1027          7.359366   \n",
       "12857                         952          7.359366   \n",
       "12858                        1164          7.359366   \n",
       "\n",
       "       grunnkrets_population_density  district_population_density  \\\n",
       "0                        1007.837930                  6249.352506   \n",
       "1                        2892.533223                  6899.323980   \n",
       "2                        2322.789575                  5386.877260   \n",
       "3                        4987.952411                 38415.043567   \n",
       "4                        3044.698266                   694.897816   \n",
       "...                              ...                          ...   \n",
       "12854                    5203.601337                 11929.017119   \n",
       "12855                    3666.513042                  3751.002592   \n",
       "12856                    9049.611721                 12048.049115   \n",
       "12857                    8061.539671                  2924.708560   \n",
       "12858                    5612.083524                   307.635206   \n",
       "\n",
       "       district_per_capita_income  busstop_factor  \n",
       "0                       10.271273       -4.549751  \n",
       "1                        4.981194       -5.199283  \n",
       "2                        8.775603       -6.863279  \n",
       "3                        8.125722       -5.864867  \n",
       "4                      126.306197       -5.057496  \n",
       "...                           ...             ...  \n",
       "12854                    4.350154       -5.739929  \n",
       "12855                   10.577794       -5.059982  \n",
       "12856                    4.964699       -5.598599  \n",
       "12857                   17.766214       -5.920819  \n",
       "12858                  215.150177       -5.534617  \n",
       "\n",
       "[12859 rows x 24 columns]"
      ]
     },
     "execution_count": 3,
     "metadata": {},
     "output_type": "execute_result"
    }
   ],
   "source": [
    "stores_train"
   ]
  },
  {
   "cell_type": "code",
   "execution_count": 4,
   "id": "419c02af-8cbe-4467-880c-e6b1daf8c48b",
   "metadata": {},
   "outputs": [],
   "source": [
    "# stores_train['grunnkrets_population'] = stores_train['grunnkrets_population'].fillna(stores_train.grunnkrets_population.mean())\n",
    "# stores_train['district_population'] = stores_train['district_population'].fillna(stores_train.district_population.mean())\n",
    "# stores_train['area_km2'] = stores_train['area_km2'].fillna(stores_train.area_km2.mean())"
   ]
  },
  {
   "cell_type": "code",
   "execution_count": 5,
   "id": "6ec9dfb4-ff5c-4517-a754-ece3fe977a67",
   "metadata": {
    "tags": []
   },
   "outputs": [
    {
     "name": "stderr",
     "output_type": "stream",
     "text": [
      "C:\\Users\\andyg\\anaconda3\\lib\\site-packages\\seaborn\\_decorators.py:36: FutureWarning: Pass the following variable as a keyword arg: x. From version 0.12, the only valid positional argument will be `data`, and passing other arguments without an explicit keyword will result in an error or misinterpretation.\n",
      "  warnings.warn(\n"
     ]
    },
    {
     "data": {
      "text/plain": [
       "<AxesSubplot:xlabel='revenue'>"
      ]
     },
     "execution_count": 5,
     "metadata": {},
     "output_type": "execute_result"
    },
    {
     "data": {
      "image/png": "[encoded data removed]",
      "text/plain": [
       "<Figure size 432x288 with 1 Axes>"
      ]
     },
     "metadata": {},
     "output_type": "display_data"
    }
   ],
   "source": [
    "sns.boxplot(stores_train['revenue'])"
   ]
  },
  {
   "cell_type": "code",
   "execution_count": 6,
   "id": "72720093-dea4-4f73-82fa-9585947f43c1",
   "metadata": {
    "tags": []
   },
   "outputs": [],
   "source": [
    "stores_train = stores_train[stores_train.revenue > 0.0]"
   ]
  },
  {
   "cell_type": "code",
   "execution_count": 7,
   "id": "f1b9d00d-7fe8-49aa-82ac-a641cf5c450b",
   "metadata": {
    "tags": []
   },
   "outputs": [],
   "source": [
    "stores_train = stores_train[stores_train.revenue < 105]"
   ]
  },
  {
   "cell_type": "code",
   "execution_count": 8,
   "id": "afcab144-23d4-4c25-b5d0-84d8f653a617",
   "metadata": {
    "tags": []
   },
   "outputs": [
    {
     "name": "stderr",
     "output_type": "stream",
     "text": [
      "C:\\Users\\andyg\\anaconda3\\lib\\site-packages\\seaborn\\_decorators.py:36: FutureWarning: Pass the following variable as a keyword arg: x. From version 0.12, the only valid positional argument will be `data`, and passing other arguments without an explicit keyword will result in an error or misinterpretation.\n",
      "  warnings.warn(\n"
     ]
    },
    {
     "data": {
      "text/plain": [
       "<AxesSubplot:xlabel='revenue'>"
      ]
     },
     "execution_count": 8,
     "metadata": {},
     "output_type": "execute_result"
    },
    {
     "data": {
      "image/png": "[encoded data removed]",
      "text/plain": [
       "<Figure size 432x288 with 1 Axes>"
      ]
     },
     "metadata": {},
     "output_type": "display_data"
    }
   ],
   "source": [
    "sns.boxplot(stores_train['revenue'])"
   ]
  },
  {
   "cell_type": "code",
   "execution_count": 9,
   "id": "2918331c-0186-499b-98b3-95429c01a785",
   "metadata": {
    "tags": []
   },
   "outputs": [],
   "source": [
    "stores_train['revenue'] = (np.log10(stores_train['revenue']))*10000"
   ]
  },
  {
   "cell_type": "code",
   "execution_count": 10,
   "id": "77d21cdc-a7ad-4d74-ba81-47f69bd7a4d8",
   "metadata": {
    "tags": []
   },
   "outputs": [
    {
     "name": "stderr",
     "output_type": "stream",
     "text": [
      "C:\\Users\\andyg\\anaconda3\\lib\\site-packages\\seaborn\\_decorators.py:36: FutureWarning: Pass the following variable as a keyword arg: x. From version 0.12, the only valid positional argument will be `data`, and passing other arguments without an explicit keyword will result in an error or misinterpretation.\n",
      "  warnings.warn(\n"
     ]
    },
    {
     "data": {
      "text/plain": [
       "<AxesSubplot:xlabel='revenue'>"
      ]
     },
     "execution_count": 10,
     "metadata": {},
     "output_type": "execute_result"
    },
    {
     "data": {
      "image/png": "[encoded data removed]",
      "text/plain": [
       "<Figure size 432x288 with 1 Axes>"
      ]
     },
     "metadata": {},
     "output_type": "display_data"
    }
   ],
   "source": [
    "sns.boxplot(stores_train['revenue'])"
   ]
  },
  {
   "cell_type": "code",
   "execution_count": 11,
   "id": "c3c453c7-19df-4043-947d-15035a53cf95",
   "metadata": {
    "tags": []
   },
   "outputs": [],
   "source": [
    "stores_train = stores_train[stores_train.revenue > -1.8]"
   ]
  },
  {
   "cell_type": "code",
   "execution_count": 12,
   "id": "cc72c954-ed17-4294-83f7-7b7537100a3d",
   "metadata": {
    "tags": []
   },
   "outputs": [
    {
     "name": "stderr",
     "output_type": "stream",
     "text": [
      "C:\\Users\\andyg\\anaconda3\\lib\\site-packages\\seaborn\\_decorators.py:36: FutureWarning: Pass the following variable as a keyword arg: x. From version 0.12, the only valid positional argument will be `data`, and passing other arguments without an explicit keyword will result in an error or misinterpretation.\n",
      "  warnings.warn(\n"
     ]
    },
    {
     "data": {
      "text/plain": [
       "<AxesSubplot:xlabel='revenue'>"
      ]
     },
     "execution_count": 12,
     "metadata": {},
     "output_type": "execute_result"
    },
    {
     "data": {
      "image/png": "[encoded data removed]",
      "text/plain": [
       "<Figure size 432x288 with 1 Axes>"
      ]
     },
     "metadata": {},
     "output_type": "display_data"
    }
   ],
   "source": [
    "sns.boxplot(stores_train['revenue'])"
   ]
  },
  {
   "cell_type": "code",
   "execution_count": 13,
   "id": "fe9070fd-7e2a-453c-a138-7da9ce892fde",
   "metadata": {
    "tags": []
   },
   "outputs": [
    {
     "name": "stderr",
     "output_type": "stream",
     "text": [
      "C:\\Users\\andyg\\anaconda3\\lib\\site-packages\\seaborn\\_decorators.py:36: FutureWarning: Pass the following variable as a keyword arg: x. From version 0.12, the only valid positional argument will be `data`, and passing other arguments without an explicit keyword will result in an error or misinterpretation.\n",
      "  warnings.warn(\n"
     ]
    },
    {
     "data": {
      "text/plain": [
       "<AxesSubplot:xlabel='district_population'>"
      ]
     },
     "execution_count": 13,
     "metadata": {},
     "output_type": "execute_result"
    },
    {
     "data": {
      "image/png": "[encoded data removed]",
      "text/plain": [
       "<Figure size 432x288 with 1 Axes>"
      ]
     },
     "metadata": {},
     "output_type": "display_data"
    }
   ],
   "source": [
    "sns.boxplot(stores_train['district_population'])"
   ]
  },
  {
   "cell_type": "code",
   "execution_count": 14,
   "id": "ed18e92d-d75b-49a3-950c-f0247a3c07ac",
   "metadata": {
    "tags": []
   },
   "outputs": [],
   "source": [
    "stores_train = stores_train[stores_train.district_population < 7000]"
   ]
  },
  {
   "cell_type": "code",
   "execution_count": 15,
   "id": "e4f1be58-ec57-45ce-9566-93509c19014d",
   "metadata": {
    "tags": []
   },
   "outputs": [],
   "source": [
    "stores_train = stores_train[stores_train.district_population > 0.0]"
   ]
  },
  {
   "cell_type": "code",
   "execution_count": 16,
   "id": "269e1b88-5446-4a64-8023-10b7d1c15ed3",
   "metadata": {
    "tags": []
   },
   "outputs": [
    {
     "name": "stderr",
     "output_type": "stream",
     "text": [
      "C:\\Users\\andyg\\anaconda3\\lib\\site-packages\\seaborn\\_decorators.py:36: FutureWarning: Pass the following variable as a keyword arg: x. From version 0.12, the only valid positional argument will be `data`, and passing other arguments without an explicit keyword will result in an error or misinterpretation.\n",
      "  warnings.warn(\n"
     ]
    },
    {
     "data": {
      "text/plain": [
       "<AxesSubplot:xlabel='district_population'>"
      ]
     },
     "execution_count": 16,
     "metadata": {},
     "output_type": "execute_result"
    },
    {
     "data": {
      "image/png": "[encoded data removed]",
      "text/plain": [
       "<Figure size 432x288 with 1 Axes>"
      ]
     },
     "metadata": {},
     "output_type": "display_data"
    }
   ],
   "source": [
    "sns.boxplot(stores_train['district_population'])"
   ]
  },
  {
   "cell_type": "code",
   "execution_count": 17,
   "id": "b4dc3c2a-dcb1-477e-90d5-3a1a68a48e7b",
   "metadata": {
    "tags": []
   },
   "outputs": [],
   "source": [
    "stores_train['district_population'] = np.log10(stores_train['district_population'])"
   ]
  },
  {
   "cell_type": "code",
   "execution_count": 18,
   "id": "72acba3e-b75c-488a-9ede-2640788e50e8",
   "metadata": {
    "tags": []
   },
   "outputs": [
    {
     "name": "stderr",
     "output_type": "stream",
     "text": [
      "C:\\Users\\andyg\\anaconda3\\lib\\site-packages\\seaborn\\_decorators.py:36: FutureWarning: Pass the following variable as a keyword arg: x. From version 0.12, the only valid positional argument will be `data`, and passing other arguments without an explicit keyword will result in an error or misinterpretation.\n",
      "  warnings.warn(\n"
     ]
    },
    {
     "data": {
      "text/plain": [
       "<AxesSubplot:xlabel='district_population'>"
      ]
     },
     "execution_count": 18,
     "metadata": {},
     "output_type": "execute_result"
    },
    {
     "data": {
      "image/png": "[encoded data removed]",
      "text/plain": [
       "<Figure size 432x288 with 1 Axes>"
      ]
     },
     "metadata": {},
     "output_type": "display_data"
    }
   ],
   "source": [
    "sns.boxplot(stores_train['district_population'])"
   ]
  },
  {
   "cell_type": "code",
   "execution_count": 19,
   "id": "18fa44fa-71fd-41d5-bffe-a5a103d9d460",
   "metadata": {
    "tags": []
   },
   "outputs": [],
   "source": [
    "stores_train = stores_train[stores_train.district_population > 2.15]"
   ]
  },
  {
   "cell_type": "code",
   "execution_count": 20,
   "id": "882d5acc-7475-42e2-b711-db38392e21cc",
   "metadata": {
    "tags": []
   },
   "outputs": [
    {
     "name": "stderr",
     "output_type": "stream",
     "text": [
      "C:\\Users\\andyg\\anaconda3\\lib\\site-packages\\seaborn\\_decorators.py:36: FutureWarning: Pass the following variable as a keyword arg: x. From version 0.12, the only valid positional argument will be `data`, and passing other arguments without an explicit keyword will result in an error or misinterpretation.\n",
      "  warnings.warn(\n"
     ]
    },
    {
     "data": {
      "text/plain": [
       "<AxesSubplot:xlabel='district_population'>"
      ]
     },
     "execution_count": 20,
     "metadata": {},
     "output_type": "execute_result"
    },
    {
     "data": {
      "image/png": "[encoded data removed]",
      "text/plain": [
       "<Figure size 432x288 with 1 Axes>"
      ]
     },
     "metadata": {},
     "output_type": "display_data"
    }
   ],
   "source": [
    "sns.boxplot(stores_train['district_population'])"
   ]
  },
  {
   "cell_type": "code",
   "execution_count": 21,
   "id": "c7799eb1-019d-4ce3-a2ef-2a663183aafb",
   "metadata": {
    "tags": []
   },
   "outputs": [
    {
     "name": "stderr",
     "output_type": "stream",
     "text": [
      "C:\\Users\\andyg\\anaconda3\\lib\\site-packages\\seaborn\\_decorators.py:36: FutureWarning: Pass the following variable as a keyword arg: x. From version 0.12, the only valid positional argument will be `data`, and passing other arguments without an explicit keyword will result in an error or misinterpretation.\n",
      "  warnings.warn(\n"
     ]
    },
    {
     "data": {
      "text/plain": [
       "<AxesSubplot:xlabel='grunnkrets_population'>"
      ]
     },
     "execution_count": 21,
     "metadata": {},
     "output_type": "execute_result"
    },
    {
     "data": {
      "image/png": "[encoded data removed]",
      "text/plain": [
       "<Figure size 432x288 with 1 Axes>"
      ]
     },
     "metadata": {},
     "output_type": "display_data"
    }
   ],
   "source": [
    "sns.boxplot(stores_train['grunnkrets_population'])"
   ]
  },
  {
   "cell_type": "code",
   "execution_count": 22,
   "id": "717680e1-a276-48ff-b1a0-9d7f0aa19bc3",
   "metadata": {
    "tags": []
   },
   "outputs": [],
   "source": [
    "stores_train = stores_train[stores_train.grunnkrets_population < 2000]"
   ]
  },
  {
   "cell_type": "code",
   "execution_count": 23,
   "id": "1660b4f1-1f33-49bb-a82f-0f35e8abf497",
   "metadata": {
    "tags": []
   },
   "outputs": [],
   "source": [
    "stores_train = stores_train[stores_train.grunnkrets_population > 0]"
   ]
  },
  {
   "cell_type": "code",
   "execution_count": 24,
   "id": "62bd3648-9caf-40c4-b1a6-2e99439807db",
   "metadata": {
    "tags": []
   },
   "outputs": [
    {
     "name": "stderr",
     "output_type": "stream",
     "text": [
      "C:\\Users\\andyg\\anaconda3\\lib\\site-packages\\seaborn\\_decorators.py:36: FutureWarning: Pass the following variable as a keyword arg: x. From version 0.12, the only valid positional argument will be `data`, and passing other arguments without an explicit keyword will result in an error or misinterpretation.\n",
      "  warnings.warn(\n"
     ]
    },
    {
     "data": {
      "text/plain": [
       "<AxesSubplot:xlabel='grunnkrets_population'>"
      ]
     },
     "execution_count": 24,
     "metadata": {},
     "output_type": "execute_result"
    },
    {
     "data": {
      "image/png": "[encoded data removed]",
      "text/plain": [
       "<Figure size 432x288 with 1 Axes>"
      ]
     },
     "metadata": {},
     "output_type": "display_data"
    }
   ],
   "source": [
    "sns.boxplot(stores_train['grunnkrets_population'])"
   ]
  },
  {
   "cell_type": "code",
   "execution_count": 25,
   "id": "51e821d2-2416-483a-a963-958959d8129b",
   "metadata": {
    "tags": []
   },
   "outputs": [],
   "source": [
    "stores_train['grunnkrets_population'] = np.log10(stores_train['grunnkrets_population'])"
   ]
  },
  {
   "cell_type": "code",
   "execution_count": 26,
   "id": "383c4b84-5198-4621-97be-80eb9f31c499",
   "metadata": {
    "tags": []
   },
   "outputs": [
    {
     "name": "stderr",
     "output_type": "stream",
     "text": [
      "C:\\Users\\andyg\\anaconda3\\lib\\site-packages\\seaborn\\_decorators.py:36: FutureWarning: Pass the following variable as a keyword arg: x. From version 0.12, the only valid positional argument will be `data`, and passing other arguments without an explicit keyword will result in an error or misinterpretation.\n",
      "  warnings.warn(\n"
     ]
    },
    {
     "data": {
      "text/plain": [
       "<AxesSubplot:xlabel='grunnkrets_population'>"
      ]
     },
     "execution_count": 26,
     "metadata": {},
     "output_type": "execute_result"
    },
    {
     "data": {
      "image/png": "[encoded data removed]",
      "text/plain": [
       "<Figure size 432x288 with 1 Axes>"
      ]
     },
     "metadata": {},
     "output_type": "display_data"
    }
   ],
   "source": [
    "sns.boxplot(stores_train['grunnkrets_population'])"
   ]
  },
  {
   "cell_type": "code",
   "execution_count": 27,
   "id": "9f848a3c-7266-4477-b1e5-fedcc837b644",
   "metadata": {
    "tags": []
   },
   "outputs": [],
   "source": [
    "stores_train = stores_train[stores_train.grunnkrets_population > 2.0]"
   ]
  },
  {
   "cell_type": "code",
   "execution_count": 28,
   "id": "6729be7a-0592-482f-b2b4-623755ebf347",
   "metadata": {
    "tags": []
   },
   "outputs": [
    {
     "name": "stderr",
     "output_type": "stream",
     "text": [
      "C:\\Users\\andyg\\anaconda3\\lib\\site-packages\\seaborn\\_decorators.py:36: FutureWarning: Pass the following variable as a keyword arg: x. From version 0.12, the only valid positional argument will be `data`, and passing other arguments without an explicit keyword will result in an error or misinterpretation.\n",
      "  warnings.warn(\n"
     ]
    },
    {
     "data": {
      "text/plain": [
       "<AxesSubplot:xlabel='grunnkrets_population'>"
      ]
     },
     "execution_count": 28,
     "metadata": {},
     "output_type": "execute_result"
    },
    {
     "data": {
      "image/png": "[encoded data removed]",
      "text/plain": [
       "<Figure size 432x288 with 1 Axes>"
      ]
     },
     "metadata": {},
     "output_type": "display_data"
    }
   ],
   "source": [
    "sns.boxplot(stores_train['grunnkrets_population'])"
   ]
  },
  {
   "cell_type": "code",
   "execution_count": 29,
   "id": "4fe743eb-8cfb-49a2-90ee-da9ba51c4f5f",
   "metadata": {
    "tags": []
   },
   "outputs": [
    {
     "name": "stderr",
     "output_type": "stream",
     "text": [
      "C:\\Users\\andyg\\anaconda3\\lib\\site-packages\\seaborn\\_decorators.py:36: FutureWarning: Pass the following variable as a keyword arg: x. From version 0.12, the only valid positional argument will be `data`, and passing other arguments without an explicit keyword will result in an error or misinterpretation.\n",
      "  warnings.warn(\n"
     ]
    },
    {
     "data": {
      "text/plain": [
       "<AxesSubplot:xlabel='distance_from_busstop'>"
      ]
     },
     "execution_count": 29,
     "metadata": {},
     "output_type": "execute_result"
    },
    {
     "data": {
      "image/png": "[encoded data removed]",
      "text/plain": [
       "<Figure size 432x288 with 1 Axes>"
      ]
     },
     "metadata": {},
     "output_type": "display_data"
    }
   ],
   "source": [
    "sns.boxplot(stores_train['distance_from_busstop'])"
   ]
  },
  {
   "cell_type": "code",
   "execution_count": 30,
   "id": "f44f1fbc-7d99-48c9-8c8d-316f956959ef",
   "metadata": {
    "tags": []
   },
   "outputs": [],
   "source": [
    "stores_train = stores_train[stores_train.distance_from_busstop < 0.0003]"
   ]
  },
  {
   "cell_type": "code",
   "execution_count": 31,
   "id": "ed57625f-0e12-41ab-af49-a91647f68c86",
   "metadata": {
    "tags": []
   },
   "outputs": [
    {
     "name": "stderr",
     "output_type": "stream",
     "text": [
      "C:\\Users\\andyg\\anaconda3\\lib\\site-packages\\seaborn\\_decorators.py:36: FutureWarning: Pass the following variable as a keyword arg: x. From version 0.12, the only valid positional argument will be `data`, and passing other arguments without an explicit keyword will result in an error or misinterpretation.\n",
      "  warnings.warn(\n"
     ]
    },
    {
     "data": {
      "text/plain": [
       "<AxesSubplot:xlabel='distance_from_busstop'>"
      ]
     },
     "execution_count": 31,
     "metadata": {},
     "output_type": "execute_result"
    },
    {
     "data": {
      "image/png": "[encoded data removed]",
      "text/plain": [
       "<Figure size 432x288 with 1 Axes>"
      ]
     },
     "metadata": {},
     "output_type": "display_data"
    }
   ],
   "source": [
    "sns.boxplot(stores_train['distance_from_busstop'])"
   ]
  },
  {
   "cell_type": "code",
   "execution_count": 32,
   "id": "1a993051-1480-4006-931c-7623fc984097",
   "metadata": {
    "tags": []
   },
   "outputs": [
    {
     "name": "stderr",
     "output_type": "stream",
     "text": [
      "C:\\Users\\andyg\\anaconda3\\lib\\site-packages\\seaborn\\_decorators.py:36: FutureWarning: Pass the following variable as a keyword arg: x. From version 0.12, the only valid positional argument will be `data`, and passing other arguments without an explicit keyword will result in an error or misinterpretation.\n",
      "  warnings.warn(\n"
     ]
    },
    {
     "data": {
      "text/plain": [
       "<AxesSubplot:xlabel='households_grunnkrets'>"
      ]
     },
     "execution_count": 32,
     "metadata": {},
     "output_type": "execute_result"
    },
    {
     "data": {
      "image/png": "[encoded data removed]",
      "text/plain": [
       "<Figure size 432x288 with 1 Axes>"
      ]
     },
     "metadata": {},
     "output_type": "display_data"
    }
   ],
   "source": [
    "sns.boxplot(stores_train['households_grunnkrets'])"
   ]
  },
  {
   "cell_type": "code",
   "execution_count": 33,
   "id": "8f31301c-4c1f-42f5-bfb1-3f5d9301d23f",
   "metadata": {
    "tags": []
   },
   "outputs": [],
   "source": [
    "stores_train = stores_train[stores_train.households_grunnkrets < 650000 ]"
   ]
  },
  {
   "cell_type": "code",
   "execution_count": 34,
   "id": "36b6a809-e5c6-4a1b-aa31-ee3c156f07ae",
   "metadata": {
    "tags": []
   },
   "outputs": [],
   "source": [
    "stores_train = stores_train[stores_train.households_grunnkrets > 350000 ]"
   ]
  },
  {
   "cell_type": "code",
   "execution_count": 35,
   "id": "60c427d0-9720-4ba5-b3c9-007abd44b809",
   "metadata": {
    "tags": []
   },
   "outputs": [
    {
     "name": "stderr",
     "output_type": "stream",
     "text": [
      "C:\\Users\\andyg\\anaconda3\\lib\\site-packages\\seaborn\\_decorators.py:36: FutureWarning: Pass the following variable as a keyword arg: x. From version 0.12, the only valid positional argument will be `data`, and passing other arguments without an explicit keyword will result in an error or misinterpretation.\n",
      "  warnings.warn(\n"
     ]
    },
    {
     "data": {
      "text/plain": [
       "<AxesSubplot:xlabel='households_grunnkrets'>"
      ]
     },
     "execution_count": 35,
     "metadata": {},
     "output_type": "execute_result"
    },
    {
     "data": {
      "image/png": "[encoded data removed]",
      "text/plain": [
       "<Figure size 432x288 with 1 Axes>"
      ]
     },
     "metadata": {},
     "output_type": "display_data"
    }
   ],
   "source": [
    "sns.boxplot(stores_train['households_grunnkrets'])"
   ]
  },
  {
   "cell_type": "code",
   "execution_count": 36,
   "id": "550d5e42-fc26-447d-8208-b4a593bef2a0",
   "metadata": {
    "tags": []
   },
   "outputs": [],
   "source": [
    "stores_train['households_grunnkrets'] = np.log10(stores_train['households_grunnkrets'])"
   ]
  },
  {
   "cell_type": "code",
   "execution_count": 37,
   "id": "7b122e7b-4d9d-4ec7-b7ec-fc3a5ceea6cd",
   "metadata": {
    "tags": []
   },
   "outputs": [
    {
     "name": "stderr",
     "output_type": "stream",
     "text": [
      "C:\\Users\\andyg\\anaconda3\\lib\\site-packages\\seaborn\\_decorators.py:36: FutureWarning: Pass the following variable as a keyword arg: x. From version 0.12, the only valid positional argument will be `data`, and passing other arguments without an explicit keyword will result in an error or misinterpretation.\n",
      "  warnings.warn(\n"
     ]
    },
    {
     "data": {
      "text/plain": [
       "<AxesSubplot:xlabel='households_grunnkrets'>"
      ]
     },
     "execution_count": 37,
     "metadata": {},
     "output_type": "execute_result"
    },
    {
     "data": {
      "image/png": "[encoded data removed]",
      "text/plain": [
       "<Figure size 432x288 with 1 Axes>"
      ]
     },
     "metadata": {},
     "output_type": "display_data"
    }
   ],
   "source": [
    "sns.boxplot(stores_train['households_grunnkrets'])"
   ]
  },
  {
   "cell_type": "code",
   "execution_count": 38,
   "id": "580bb833-14da-41ba-a1e3-484f864c1e15",
   "metadata": {
    "tags": []
   },
   "outputs": [
    {
     "name": "stderr",
     "output_type": "stream",
     "text": [
      "C:\\Users\\andyg\\anaconda3\\lib\\site-packages\\seaborn\\_decorators.py:36: FutureWarning: Pass the following variable as a keyword arg: x. From version 0.12, the only valid positional argument will be `data`, and passing other arguments without an explicit keyword will result in an error or misinterpretation.\n",
      "  warnings.warn(\n"
     ]
    },
    {
     "data": {
      "text/plain": [
       "<AxesSubplot:xlabel='distance_from_busstop'>"
      ]
     },
     "execution_count": 38,
     "metadata": {},
     "output_type": "execute_result"
    },
    {
     "data": {
      "image/png": "[encoded data removed]",
      "text/plain": [
       "<Figure size 432x288 with 1 Axes>"
      ]
     },
     "metadata": {},
     "output_type": "display_data"
    }
   ],
   "source": [
    "sns.boxplot(stores_train['distance_from_busstop'])"
   ]
  },
  {
   "cell_type": "code",
   "execution_count": 39,
   "id": "d8e183a0-d3ce-4adb-a7d9-908ac29124c3",
   "metadata": {
    "tags": []
   },
   "outputs": [],
   "source": [
    "stores_train['distance_from_busstop'] = np.log10(stores_train['distance_from_busstop'])"
   ]
  },
  {
   "cell_type": "code",
   "execution_count": 40,
   "id": "b185f931-074e-42fe-86ef-37534e6b27ef",
   "metadata": {
    "tags": []
   },
   "outputs": [
    {
     "name": "stderr",
     "output_type": "stream",
     "text": [
      "C:\\Users\\andyg\\anaconda3\\lib\\site-packages\\seaborn\\_decorators.py:36: FutureWarning: Pass the following variable as a keyword arg: x. From version 0.12, the only valid positional argument will be `data`, and passing other arguments without an explicit keyword will result in an error or misinterpretation.\n",
      "  warnings.warn(\n"
     ]
    },
    {
     "data": {
      "text/plain": [
       "<AxesSubplot:xlabel='distance_from_busstop'>"
      ]
     },
     "execution_count": 40,
     "metadata": {},
     "output_type": "execute_result"
    },
    {
     "data": {
      "image/png": "[encoded data removed]",
      "text/plain": [
       "<Figure size 432x288 with 1 Axes>"
      ]
     },
     "metadata": {},
     "output_type": "display_data"
    }
   ],
   "source": [
    "sns.boxplot(stores_train['distance_from_busstop'])"
   ]
  },
  {
   "cell_type": "code",
   "execution_count": 41,
   "id": "891b0020-7c12-4d56-8470-3572d5370897",
   "metadata": {
    "tags": []
   },
   "outputs": [],
   "source": [
    "stores_train = stores_train[stores_train.distance_from_busstop > -7]"
   ]
  },
  {
   "cell_type": "code",
   "execution_count": 42,
   "id": "634a1446-85e2-42c1-9970-f52ea45cd027",
   "metadata": {
    "tags": []
   },
   "outputs": [],
   "source": [
    "stores_train = stores_train[stores_train.distance_from_busstop < -3.5]"
   ]
  },
  {
   "cell_type": "code",
   "execution_count": 43,
   "id": "61a08d60-aa75-43e9-9a27-1a3ad6bd8f1f",
   "metadata": {
    "tags": []
   },
   "outputs": [
    {
     "name": "stderr",
     "output_type": "stream",
     "text": [
      "C:\\Users\\andyg\\anaconda3\\lib\\site-packages\\seaborn\\_decorators.py:36: FutureWarning: Pass the following variable as a keyword arg: x. From version 0.12, the only valid positional argument will be `data`, and passing other arguments without an explicit keyword will result in an error or misinterpretation.\n",
      "  warnings.warn(\n"
     ]
    },
    {
     "data": {
      "text/plain": [
       "<AxesSubplot:xlabel='distance_from_busstop'>"
      ]
     },
     "execution_count": 43,
     "metadata": {},
     "output_type": "execute_result"
    },
    {
     "data": {
      "image/png": "[encoded data removed]",
      "text/plain": [
       "<Figure size 432x288 with 1 Axes>"
      ]
     },
     "metadata": {},
     "output_type": "display_data"
    }
   ],
   "source": [
    "sns.boxplot(stores_train['distance_from_busstop'])"
   ]
  },
  {
   "cell_type": "code",
   "execution_count": 44,
   "id": "baaaefd7-7130-4560-bba4-750945c1cd4f",
   "metadata": {},
   "outputs": [],
   "source": [
    "stores_train['distance_from_busstop'] = (stores_train['distance_from_busstop'])**2"
   ]
  },
  {
   "cell_type": "code",
   "execution_count": 45,
   "id": "6cd73217-b59a-4365-895f-dc69ee0d532c",
   "metadata": {},
   "outputs": [
    {
     "name": "stderr",
     "output_type": "stream",
     "text": [
      "C:\\Users\\andyg\\anaconda3\\lib\\site-packages\\seaborn\\_decorators.py:36: FutureWarning: Pass the following variable as a keyword arg: x. From version 0.12, the only valid positional argument will be `data`, and passing other arguments without an explicit keyword will result in an error or misinterpretation.\n",
      "  warnings.warn(\n"
     ]
    },
    {
     "data": {
      "text/plain": [
       "<AxesSubplot:xlabel='busstop_factor'>"
      ]
     },
     "execution_count": 45,
     "metadata": {},
     "output_type": "execute_result"
    },
    {
     "data": {
      "image/png": "[encoded data removed]",
      "text/plain": [
       "<Figure size 432x288 with 1 Axes>"
      ]
     },
     "metadata": {},
     "output_type": "display_data"
    }
   ],
   "source": [
    "stores_train = stores_train[stores_train.busstop_factor < 1750 ]\n",
    "sns.boxplot(stores_train['busstop_factor'])"
   ]
  },
  {
   "cell_type": "code",
   "execution_count": 46,
   "id": "29cb5e77-74fc-4f22-88a5-7571e1ddb8d5",
   "metadata": {},
   "outputs": [
    {
     "name": "stderr",
     "output_type": "stream",
     "text": [
      "C:\\Users\\andyg\\anaconda3\\lib\\site-packages\\seaborn\\_decorators.py:36: FutureWarning: Pass the following variable as a keyword arg: x. From version 0.12, the only valid positional argument will be `data`, and passing other arguments without an explicit keyword will result in an error or misinterpretation.\n",
      "  warnings.warn(\n"
     ]
    },
    {
     "data": {
      "text/plain": [
       "<AxesSubplot:xlabel='busstop_factor'>"
      ]
     },
     "execution_count": 46,
     "metadata": {},
     "output_type": "execute_result"
    },
    {
     "data": {
      "image/png": "[encoded data removed]",
      "text/plain": [
       "<Figure size 432x288 with 1 Axes>"
      ]
     },
     "metadata": {},
     "output_type": "display_data"
    }
   ],
   "source": [
    "stores_train['busstop_factor'] = (stores_train['busstop_factor'])**2\n",
    "sns.boxplot(stores_train['busstop_factor'])"
   ]
  },
  {
   "cell_type": "code",
   "execution_count": 47,
   "id": "5ae575da-e583-4e96-a2e9-8b126ce73da0",
   "metadata": {
    "tags": []
   },
   "outputs": [
    {
     "data": {
      "text/plain": [
       "store_id                         999645690-989473654-280187\n",
       "grunnkrets_id                                      20300104\n",
       "lat                                               71.040213\n",
       "lon                                               31.118935\n",
       "chain_name                                              147\n",
       "mall_name                                                 1\n",
       "revenue                                            2.019179\n",
       "grunnkrets_population                              3.284205\n",
       "district_population                                3.844353\n",
       "distance_from_busstop                             48.939519\n",
       "busstop_importance_level                                  5\n",
       "lv1                                                       3\n",
       "lv2                                                      36\n",
       "lv3                                                    2811\n",
       "lv4                                                   28112\n",
       "households_grunnkrets                              5.809896\n",
       "municipality_name                                       419\n",
       "area_km2                                          12.877937\n",
       "district_municipality_name                             1418\n",
       "area_of_district                                  82.459754\n",
       "grunnkrets_population_density                5675710.370637\n",
       "district_population_density                    56880.285501\n",
       "district_per_capita_income                      3876.470588\n",
       "busstop_factor                                     48.47743\n",
       "dtype: object"
      ]
     },
     "execution_count": 47,
     "metadata": {},
     "output_type": "execute_result"
    }
   ],
   "source": [
    "stores_train.max()"
   ]
  },
  {
   "cell_type": "code",
   "execution_count": 48,
   "id": "75025c45-fdbc-42ba-af81-7cba6eefdc9a",
   "metadata": {
    "tags": []
   },
   "outputs": [
    {
     "data": {
      "text/plain": [
       "store_id                         811608262-911610922-433688\n",
       "grunnkrets_id                                       1010402\n",
       "lat                                               58.024161\n",
       "lon                                                4.672099\n",
       "chain_name                                                0\n",
       "mall_name                                                 0\n",
       "revenue                                           -1.721246\n",
       "grunnkrets_population                              2.004321\n",
       "district_population                                2.155336\n",
       "distance_from_busstop                              12.46865\n",
       "busstop_importance_level                                  0\n",
       "lv1                                                       1\n",
       "lv2                                                      11\n",
       "lv3                                                     111\n",
       "lv4                                                    1110\n",
       "households_grunnkrets                              5.562055\n",
       "municipality_name                                         1\n",
       "area_km2                                           0.000135\n",
       "district_municipality_name                                4\n",
       "area_of_district                                   0.112851\n",
       "grunnkrets_population_density                     14.201624\n",
       "district_population_density                       19.431022\n",
       "district_per_capita_income                        59.404725\n",
       "busstop_factor                                     8.790671\n",
       "dtype: object"
      ]
     },
     "execution_count": 48,
     "metadata": {},
     "output_type": "execute_result"
    }
   ],
   "source": [
    "stores_train.min()"
   ]
  },
  {
   "cell_type": "code",
   "execution_count": 49,
   "id": "ca53178f-166c-446e-a8a8-400f5d3b8893",
   "metadata": {},
   "outputs": [
    {
     "data": {
      "text/html": [
       "<div>\n",
       "<style scoped>\n",
       "    .dataframe tbody tr th:only-of-type {\n",
       "        vertical-align: middle;\n",
       "    }\n",
       "\n",
       "    .dataframe tbody tr th {\n",
       "        vertical-align: top;\n",
       "    }\n",
       "\n",
       "    .dataframe thead th {\n",
       "        text-align: right;\n",
       "    }\n",
       "</style>\n",
       "<table border=\"1\" class=\"dataframe\">\n",
       "  <thead>\n",
       "    <tr style=\"text-align: right;\">\n",
       "      <th></th>\n",
       "      <th>store_id</th>\n",
       "      <th>grunnkrets_id</th>\n",
       "      <th>lat</th>\n",
       "      <th>lon</th>\n",
       "      <th>chain_name</th>\n",
       "      <th>mall_name</th>\n",
       "      <th>revenue</th>\n",
       "      <th>grunnkrets_population</th>\n",
       "      <th>district_population</th>\n",
       "      <th>distance_from_busstop</th>\n",
       "      <th>...</th>\n",
       "      <th>lv4</th>\n",
       "      <th>households_grunnkrets</th>\n",
       "      <th>municipality_name</th>\n",
       "      <th>area_km2</th>\n",
       "      <th>district_municipality_name</th>\n",
       "      <th>area_of_district</th>\n",
       "      <th>grunnkrets_population_density</th>\n",
       "      <th>district_population_density</th>\n",
       "      <th>district_per_capita_income</th>\n",
       "      <th>busstop_factor</th>\n",
       "    </tr>\n",
       "  </thead>\n",
       "  <tbody>\n",
       "    <tr>\n",
       "      <th>12846</th>\n",
       "      <td>916035527-916090978-793078</td>\n",
       "      <td>1061105</td>\n",
       "      <td>59.204107</td>\n",
       "      <td>10.954810</td>\n",
       "      <td>1</td>\n",
       "      <td>0</td>\n",
       "      <td>0.764400</td>\n",
       "      <td>2.496930</td>\n",
       "      <td>3.626135</td>\n",
       "      <td>32.053075</td>\n",
       "      <td>...</td>\n",
       "      <td>28112</td>\n",
       "      <td>5.632761</td>\n",
       "      <td>79</td>\n",
       "      <td>0.165404</td>\n",
       "      <td>1394</td>\n",
       "      <td>7.359366</td>\n",
       "      <td>1898.380605</td>\n",
       "      <td>574.506030</td>\n",
       "      <td>101.537370</td>\n",
       "      <td>32.053075</td>\n",
       "    </tr>\n",
       "    <tr>\n",
       "      <th>12847</th>\n",
       "      <td>916925638-917007314-830801</td>\n",
       "      <td>4120127</td>\n",
       "      <td>60.844607</td>\n",
       "      <td>11.040011</td>\n",
       "      <td>1</td>\n",
       "      <td>0</td>\n",
       "      <td>0.557988</td>\n",
       "      <td>2.810904</td>\n",
       "      <td>3.544688</td>\n",
       "      <td>27.290444</td>\n",
       "      <td>...</td>\n",
       "      <td>28112</td>\n",
       "      <td>5.726564</td>\n",
       "      <td>265</td>\n",
       "      <td>1.784345</td>\n",
       "      <td>155</td>\n",
       "      <td>7.359366</td>\n",
       "      <td>362.598084</td>\n",
       "      <td>476.263868</td>\n",
       "      <td>152.011412</td>\n",
       "      <td>27.290444</td>\n",
       "    </tr>\n",
       "    <tr>\n",
       "      <th>12848</th>\n",
       "      <td>983559042-972015385-44630</td>\n",
       "      <td>4120312</td>\n",
       "      <td>60.883270</td>\n",
       "      <td>10.939857</td>\n",
       "      <td>1</td>\n",
       "      <td>0</td>\n",
       "      <td>0.739572</td>\n",
       "      <td>2.139879</td>\n",
       "      <td>3.825036</td>\n",
       "      <td>25.950916</td>\n",
       "      <td>...</td>\n",
       "      <td>28112</td>\n",
       "      <td>5.646404</td>\n",
       "      <td>265</td>\n",
       "      <td>0.126087</td>\n",
       "      <td>725</td>\n",
       "      <td>7.359366</td>\n",
       "      <td>1094.478050</td>\n",
       "      <td>908.230441</td>\n",
       "      <td>66.277678</td>\n",
       "      <td>20.179359</td>\n",
       "    </tr>\n",
       "    <tr>\n",
       "      <th>12852</th>\n",
       "      <td>916908814-916940491-828336</td>\n",
       "      <td>2170301</td>\n",
       "      <td>59.794367</td>\n",
       "      <td>10.822117</td>\n",
       "      <td>1</td>\n",
       "      <td>0</td>\n",
       "      <td>0.028164</td>\n",
       "      <td>2.883339</td>\n",
       "      <td>3.804412</td>\n",
       "      <td>26.259066</td>\n",
       "      <td>...</td>\n",
       "      <td>28112</td>\n",
       "      <td>5.785543</td>\n",
       "      <td>244</td>\n",
       "      <td>0.485874</td>\n",
       "      <td>1005</td>\n",
       "      <td>7.359366</td>\n",
       "      <td>1573.316264</td>\n",
       "      <td>866.107246</td>\n",
       "      <td>95.748353</td>\n",
       "      <td>26.259066</td>\n",
       "    </tr>\n",
       "    <tr>\n",
       "      <th>12858</th>\n",
       "      <td>917494436-917551936-851089</td>\n",
       "      <td>19021302</td>\n",
       "      <td>69.670422</td>\n",
       "      <td>19.042659</td>\n",
       "      <td>1</td>\n",
       "      <td>0</td>\n",
       "      <td>0.366983</td>\n",
       "      <td>3.060698</td>\n",
       "      <td>3.354876</td>\n",
       "      <td>30.631987</td>\n",
       "      <td>...</td>\n",
       "      <td>28112</td>\n",
       "      <td>5.687618</td>\n",
       "      <td>354</td>\n",
       "      <td>0.204915</td>\n",
       "      <td>1164</td>\n",
       "      <td>7.359366</td>\n",
       "      <td>5612.083524</td>\n",
       "      <td>307.635206</td>\n",
       "      <td>215.150177</td>\n",
       "      <td>30.631987</td>\n",
       "    </tr>\n",
       "  </tbody>\n",
       "</table>\n",
       "<p>5 rows × 24 columns</p>\n",
       "</div>"
      ],
      "text/plain": [
       "                         store_id  grunnkrets_id        lat        lon  \\\n",
       "12846  916035527-916090978-793078        1061105  59.204107  10.954810   \n",
       "12847  916925638-917007314-830801        4120127  60.844607  11.040011   \n",
       "12848   983559042-972015385-44630        4120312  60.883270  10.939857   \n",
       "12852  916908814-916940491-828336        2170301  59.794367  10.822117   \n",
       "12858  917494436-917551936-851089       19021302  69.670422  19.042659   \n",
       "\n",
       "       chain_name  mall_name   revenue  grunnkrets_population  \\\n",
       "12846           1          0  0.764400               2.496930   \n",
       "12847           1          0  0.557988               2.810904   \n",
       "12848           1          0  0.739572               2.139879   \n",
       "12852           1          0  0.028164               2.883339   \n",
       "12858           1          0  0.366983               3.060698   \n",
       "\n",
       "       district_population  distance_from_busstop  ...    lv4  \\\n",
       "12846             3.626135              32.053075  ...  28112   \n",
       "12847             3.544688              27.290444  ...  28112   \n",
       "12848             3.825036              25.950916  ...  28112   \n",
       "12852             3.804412              26.259066  ...  28112   \n",
       "12858             3.354876              30.631987  ...  28112   \n",
       "\n",
       "       households_grunnkrets  municipality_name  area_km2  \\\n",
       "12846               5.632761                 79  0.165404   \n",
       "12847               5.726564                265  1.784345   \n",
       "12848               5.646404                265  0.126087   \n",
       "12852               5.785543                244  0.485874   \n",
       "12858               5.687618                354  0.204915   \n",
       "\n",
       "       district_municipality_name  area_of_district  \\\n",
       "12846                        1394          7.359366   \n",
       "12847                         155          7.359366   \n",
       "12848                         725          7.359366   \n",
       "12852                        1005          7.359366   \n",
       "12858                        1164          7.359366   \n",
       "\n",
       "       grunnkrets_population_density  district_population_density  \\\n",
       "12846                    1898.380605                   574.506030   \n",
       "12847                     362.598084                   476.263868   \n",
       "12848                    1094.478050                   908.230441   \n",
       "12852                    1573.316264                   866.107246   \n",
       "12858                    5612.083524                   307.635206   \n",
       "\n",
       "       district_per_capita_income  busstop_factor  \n",
       "12846                  101.537370       32.053075  \n",
       "12847                  152.011412       27.290444  \n",
       "12848                   66.277678       20.179359  \n",
       "12852                   95.748353       26.259066  \n",
       "12858                  215.150177       30.631987  \n",
       "\n",
       "[5 rows x 24 columns]"
      ]
     },
     "execution_count": 49,
     "metadata": {},
     "output_type": "execute_result"
    }
   ],
   "source": [
    "stores_train.tail()"
   ]
  },
  {
   "cell_type": "code",
   "execution_count": 52,
   "id": "685f000b-53f7-4d06-94ac-e73d9a19ec8a",
   "metadata": {},
   "outputs": [],
   "source": [
    "data = stores_train"
   ]
  },
  {
   "cell_type": "code",
   "execution_count": 53,
   "id": "c882f85e-656a-4155-99d1-d2600c066d1d",
   "metadata": {},
   "outputs": [],
   "source": [
    "data = data.drop('store_id',\n",
    "                   axis =1)"
   ]
  },
  {
   "cell_type": "code",
   "execution_count": 54,
   "id": "b871aa1b-382b-441e-a061-3f1397e1e8fc",
   "metadata": {},
   "outputs": [
    {
     "data": {
      "text/plain": [
       "grunnkrets_id                      int64\n",
       "lat                              float64\n",
       "lon                              float64\n",
       "chain_name                         int64\n",
       "mall_name                          int64\n",
       "revenue                          float64\n",
       "grunnkrets_population            float64\n",
       "district_population              float64\n",
       "distance_from_busstop            float64\n",
       "busstop_importance_level           int64\n",
       "lv1                                int64\n",
       "lv2                                int64\n",
       "lv3                                int64\n",
       "lv4                                int64\n",
       "households_grunnkrets            float64\n",
       "municipality_name                  int64\n",
       "area_km2                         float64\n",
       "district_municipality_name         int64\n",
       "area_of_district                 float64\n",
       "grunnkrets_population_density    float64\n",
       "district_population_density      float64\n",
       "district_per_capita_income       float64\n",
       "busstop_factor                   float64\n",
       "dtype: object"
      ]
     },
     "execution_count": 54,
     "metadata": {},
     "output_type": "execute_result"
    }
   ],
   "source": [
    "data.dtypes"
   ]
  },
  {
   "cell_type": "code",
   "execution_count": 55,
   "id": "37e445f5-218f-4661-bd97-0f451b4aea51",
   "metadata": {},
   "outputs": [],
   "source": [
    "#data = data.drop(data.index[2000:])"
   ]
  },
  {
   "cell_type": "code",
   "execution_count": 56,
   "id": "cddee97e-5d29-4d65-896b-69e6f828119a",
   "metadata": {},
   "outputs": [
    {
     "data": {
      "text/plain": [
       "(2527, 23)"
      ]
     },
     "execution_count": 56,
     "metadata": {},
     "output_type": "execute_result"
    }
   ],
   "source": [
    "data.shape"
   ]
  },
  {
   "cell_type": "code",
   "execution_count": 57,
   "id": "c0b088a7-d50b-4f81-bc6f-58380e8e953b",
   "metadata": {},
   "outputs": [],
   "source": [
    "from catboost import CatBoostRegressor\n",
    "from sklearn.metrics import mean_squared_error, r2_score\n",
    "import math"
   ]
  },
  {
   "cell_type": "code",
   "execution_count": 58,
   "id": "68d29963-5889-4e25-a9d8-9c506d3827d0",
   "metadata": {},
   "outputs": [],
   "source": [
    "Y= data.pop(\"revenue\")\n",
    "\n",
    "X= data "
   ]
  },
  {
   "cell_type": "code",
   "execution_count": 59,
   "id": "69c23f41-2a03-4d1a-9c5c-b25d3a3f6c36",
   "metadata": {},
   "outputs": [
    {
     "name": "stdout",
     "output_type": "stream",
     "text": [
      "X_train (2274, 22)\n",
      "X_test (253, 22)\n",
      "y_train (2274,)\n",
      "y_test (253,)\n"
     ]
    }
   ],
   "source": [
    "from sklearn.model_selection import train_test_split\n",
    "X_train, X_test, y_train,y_test = train_test_split(X,Y, test_size = 0.1, random_state = 42)\n",
    "print('X_train',X_train.shape)\n",
    "print('X_test',X_test.shape)\n",
    "print('y_train',y_train.shape)\n",
    "print('y_test',y_test.shape)"
   ]
  },
  {
   "cell_type": "code",
   "execution_count": 60,
   "id": "93b64e4b-31da-4130-a4b2-03965ef20043",
   "metadata": {},
   "outputs": [],
   "source": [
    "from catboost import  EShapCalcType, EFeaturesSelectionAlgorithm"
   ]
  },
  {
   "cell_type": "code",
   "execution_count": 85,
   "id": "7487fa1f-223a-437d-ada4-d24b797c700f",
   "metadata": {},
   "outputs": [],
   "source": [
    "cat_model = CatBoostRegressor( iterations= 30000, early_stopping_rounds = 3000, random_seed = 42)"
   ]
  },
  {
   "cell_type": "code",
   "execution_count": 86,
   "id": "e87d64dd-ddb5-4e2b-b3a5-b7766f37a5c5",
   "metadata": {},
   "outputs": [
    {
     "data": {
      "application/vnd.jupyter.widget-view+json": {
       "model_id": "9acd069d80be43729ab08fa42854a8fa",
       "version_major": 2,
       "version_minor": 0
      },
      "text/plain": [
       "MetricVisualizer(layout=Layout(align_self='stretch', height='500px'))"
      ]
     },
     "metadata": {},
     "output_type": "display_data"
    },
    {
     "data": {
      "application/vnd.plotly.v1+json": {
       "config": {
        "plotlyServerURL": "https://plot.ly"
       },
       "data": [
        {
         "line": {
          "color": "rgb(51,160,44)"
         },
         "mode": "lines+markers",
         "name": "",
         "text": [
          "",
          "distance_from_busstop",
          "busstop_factor",
          "households_grunnkrets",
          "area_km2",
          "grunnkrets_population"
         ],
         "type": "scatter",
         "visible": true,
         "x": [
          0,
          1,
          2,
          3,
          4,
          5
         ],
         "y": [
          0.48581315035006994,
          0.4844562320531797,
          0.4814552801297727,
          0.4823530027955183,
          0.4770702384699065,
          0.4755678204603676
         ]
        },
        {
         "marker": {
          "size": 10,
          "symbol": "square"
         },
         "mode": "markers",
         "name": "",
         "text": [
          "",
          "distance_from_busstop",
          "busstop_factor",
          "households_grunnkrets",
          "area_km2",
          "grunnkrets_population"
         ],
         "type": "scatter",
         "visible": true,
         "x": [
          0,
          1,
          2,
          3,
          4,
          5
         ],
         "y": [
          0.48581315035006994,
          0.4844562320531797,
          0.4814552801297727,
          0.4823530027955183,
          0.4770702384699065,
          0.4755678204603676
         ]
        },
        {
         "mode": "text",
         "name": "",
         "text": [
          "",
          "7",
          "21",
          "13",
          "15",
          "5"
         ],
         "textfont": {
          "color": "rgb(51,160,44)",
          "family": "sans serif",
          "size": 18
         },
         "textposition": "bottom center",
         "type": "scatter",
         "visible": false,
         "x": [
          0,
          1,
          2,
          3,
          4,
          5
         ],
         "y": [
          0.48581315035006994,
          0.4844562320531797,
          0.4814552801297727,
          0.4823530027955183,
          0.4770702384699065,
          0.4755678204603676
         ]
        },
        {
         "mode": "text",
         "name": "",
         "text": [
          "",
          "distance_from_busstop",
          "busstop_factor",
          "households_grunnkrets",
          "area_km2",
          "grunnkrets_population"
         ],
         "textfont": {
          "color": "rgb(51,160,44)",
          "family": "sans serif",
          "size": 18
         },
         "textposition": "bottom center",
         "type": "scatter",
         "visible": true,
         "x": [
          0,
          1,
          2,
          3,
          4,
          5
         ],
         "y": [
          0.48581315035006994,
          0.4844562320531797,
          0.4814552801297727,
          0.4823530027955183,
          0.4770702384699065,
          0.4755678204603676
         ]
        }
       ],
       "layout": {
        "autosize": true,
        "showlegend": false,
        "template": {
         "data": {
          "bar": [
           {
            "error_x": {
             "color": "#2a3f5f"
            },
            "error_y": {
             "color": "#2a3f5f"
            },
            "marker": {
             "line": {
              "color": "#E5ECF6",
              "width": 0.5
             },
             "pattern": {
              "fillmode": "overlay",
              "size": 10,
              "solidity": 0.2
             }
            },
            "type": "bar"
           }
          ],
          "barpolar": [
           {
            "marker": {
             "line": {
              "color": "#E5ECF6",
              "width": 0.5
             },
             "pattern": {
              "fillmode": "overlay",
              "size": 10,
              "solidity": 0.2
             }
            },
            "type": "barpolar"
           }
          ],
          "carpet": [
           {
            "aaxis": {
             "endlinecolor": "#2a3f5f",
             "gridcolor": "white",
             "linecolor": "white",
             "minorgridcolor": "white",
             "startlinecolor": "#2a3f5f"
            },
            "baxis": {
             "endlinecolor": "#2a3f5f",
             "gridcolor": "white",
             "linecolor": "white",
             "minorgridcolor": "white",
             "startlinecolor": "#2a3f5f"
            },
            "type": "carpet"
           }
          ],
          "choropleth": [
           {
            "colorbar": {
             "outlinewidth": 0,
             "ticks": ""
            },
            "type": "choropleth"
           }
          ],
          "contour": [
           {
            "colorbar": {
             "outlinewidth": 0,
             "ticks": ""
            },
            "colorscale": [
             [
              0,
              "#0d0887"
             ],
             [
              0.1111111111111111,
              "#46039f"
             ],
             [
              0.2222222222222222,
              "#7201a8"
             ],
             [
              0.3333333333333333,
              "#9c179e"
             ],
             [
              0.4444444444444444,
              "#bd3786"
             ],
             [
              0.5555555555555556,
              "#d8576b"
             ],
             [
              0.6666666666666666,
              "#ed7953"
             ],
             [
              0.7777777777777778,
              "#fb9f3a"
             ],
             [
              0.8888888888888888,
              "#fdca26"
             ],
             [
              1,
              "#f0f921"
             ]
            ],
            "type": "contour"
           }
          ],
          "contourcarpet": [
           {
            "colorbar": {
             "outlinewidth": 0,
             "ticks": ""
            },
            "type": "contourcarpet"
           }
          ],
          "heatmap": [
           {
            "colorbar": {
             "outlinewidth": 0,
             "ticks": ""
            },
            "colorscale": [
             [
              0,
              "#0d0887"
             ],
             [
              0.1111111111111111,
              "#46039f"
             ],
             [
              0.2222222222222222,
              "#7201a8"
             ],
             [
              0.3333333333333333,
              "#9c179e"
             ],
             [
              0.4444444444444444,
              "#bd3786"
             ],
             [
              0.5555555555555556,
              "#d8576b"
             ],
             [
              0.6666666666666666,
              "#ed7953"
             ],
             [
              0.7777777777777778,
              "#fb9f3a"
             ],
             [
              0.8888888888888888,
              "#fdca26"
             ],
             [
              1,
              "#f0f921"
             ]
            ],
            "type": "heatmap"
           }
          ],
          "heatmapgl": [
           {
            "colorbar": {
             "outlinewidth": 0,
             "ticks": ""
            },
            "colorscale": [
             [
              0,
              "#0d0887"
             ],
             [
              0.1111111111111111,
              "#46039f"
             ],
             [
              0.2222222222222222,
              "#7201a8"
             ],
             [
              0.3333333333333333,
              "#9c179e"
             ],
             [
              0.4444444444444444,
              "#bd3786"
             ],
             [
              0.5555555555555556,
              "#d8576b"
             ],
             [
              0.6666666666666666,
              "#ed7953"
             ],
             [
              0.7777777777777778,
              "#fb9f3a"
             ],
             [
              0.8888888888888888,
              "#fdca26"
             ],
             [
              1,
              "#f0f921"
             ]
            ],
            "type": "heatmapgl"
           }
          ],
          "histogram": [
           {
            "marker": {
             "pattern": {
              "fillmode": "overlay",
              "size": 10,
              "solidity": 0.2
             }
            },
            "type": "histogram"
           }
          ],
          "histogram2d": [
           {
            "colorbar": {
             "outlinewidth": 0,
             "ticks": ""
            },
            "colorscale": [
             [
              0,
              "#0d0887"
             ],
             [
              0.1111111111111111,
              "#46039f"
             ],
             [
              0.2222222222222222,
              "#7201a8"
             ],
             [
              0.3333333333333333,
              "#9c179e"
             ],
             [
              0.4444444444444444,
              "#bd3786"
             ],
             [
              0.5555555555555556,
              "#d8576b"
             ],
             [
              0.6666666666666666,
              "#ed7953"
             ],
             [
              0.7777777777777778,
              "#fb9f3a"
             ],
             [
              0.8888888888888888,
              "#fdca26"
             ],
             [
              1,
              "#f0f921"
             ]
            ],
            "type": "histogram2d"
           }
          ],
          "histogram2dcontour": [
           {
            "colorbar": {
             "outlinewidth": 0,
             "ticks": ""
            },
            "colorscale": [
             [
              0,
              "#0d0887"
             ],
             [
              0.1111111111111111,
              "#46039f"
             ],
             [
              0.2222222222222222,
              "#7201a8"
             ],
             [
              0.3333333333333333,
              "#9c179e"
             ],
             [
              0.4444444444444444,
              "#bd3786"
             ],
             [
              0.5555555555555556,
              "#d8576b"
             ],
             [
              0.6666666666666666,
              "#ed7953"
             ],
             [
              0.7777777777777778,
              "#fb9f3a"
             ],
             [
              0.8888888888888888,
              "#fdca26"
             ],
             [
              1,
              "#f0f921"
             ]
            ],
            "type": "histogram2dcontour"
           }
          ],
          "mesh3d": [
           {
            "colorbar": {
             "outlinewidth": 0,
             "ticks": ""
            },
            "type": "mesh3d"
           }
          ],
          "parcoords": [
           {
            "line": {
             "colorbar": {
              "outlinewidth": 0,
              "ticks": ""
             }
            },
            "type": "parcoords"
           }
          ],
          "pie": [
           {
            "automargin": true,
            "type": "pie"
           }
          ],
          "scatter": [
           {
            "fillpattern": {
             "fillmode": "overlay",
             "size": 10,
             "solidity": 0.2
            },
            "type": "scatter"
           }
          ],
          "scatter3d": [
           {
            "line": {
             "colorbar": {
              "outlinewidth": 0,
              "ticks": ""
             }
            },
            "marker": {
             "colorbar": {
              "outlinewidth": 0,
              "ticks": ""
             }
            },
            "type": "scatter3d"
           }
          ],
          "scattercarpet": [
           {
            "marker": {
             "colorbar": {
              "outlinewidth": 0,
              "ticks": ""
             }
            },
            "type": "scattercarpet"
           }
          ],
          "scattergeo": [
           {
            "marker": {
             "colorbar": {
              "outlinewidth": 0,
              "ticks": ""
             }
            },
            "type": "scattergeo"
           }
          ],
          "scattergl": [
           {
            "marker": {
             "colorbar": {
              "outlinewidth": 0,
              "ticks": ""
             }
            },
            "type": "scattergl"
           }
          ],
          "scattermapbox": [
           {
            "marker": {
             "colorbar": {
              "outlinewidth": 0,
              "ticks": ""
             }
            },
            "type": "scattermapbox"
           }
          ],
          "scatterpolar": [
           {
            "marker": {
             "colorbar": {
              "outlinewidth": 0,
              "ticks": ""
             }
            },
            "type": "scatterpolar"
           }
          ],
          "scatterpolargl": [
           {
            "marker": {
             "colorbar": {
              "outlinewidth": 0,
              "ticks": ""
             }
            },
            "type": "scatterpolargl"
           }
          ],
          "scatterternary": [
           {
            "marker": {
             "colorbar": {
              "outlinewidth": 0,
              "ticks": ""
             }
            },
            "type": "scatterternary"
           }
          ],
          "surface": [
           {
            "colorbar": {
             "outlinewidth": 0,
             "ticks": ""
            },
            "colorscale": [
             [
              0,
              "#0d0887"
             ],
             [
              0.1111111111111111,
              "#46039f"
             ],
             [
              0.2222222222222222,
              "#7201a8"
             ],
             [
              0.3333333333333333,
              "#9c179e"
             ],
             [
              0.4444444444444444,
              "#bd3786"
             ],
             [
              0.5555555555555556,
              "#d8576b"
             ],
             [
              0.6666666666666666,
              "#ed7953"
             ],
             [
              0.7777777777777778,
              "#fb9f3a"
             ],
             [
              0.8888888888888888,
              "#fdca26"
             ],
             [
              1,
              "#f0f921"
             ]
            ],
            "type": "surface"
           }
          ],
          "table": [
           {
            "cells": {
             "fill": {
              "color": "#EBF0F8"
             },
             "line": {
              "color": "white"
             }
            },
            "header": {
             "fill": {
              "color": "#C8D4E3"
             },
             "line": {
              "color": "white"
             }
            },
            "type": "table"
           }
          ]
         },
         "layout": {
          "annotationdefaults": {
           "arrowcolor": "#2a3f5f",
           "arrowhead": 0,
           "arrowwidth": 1
          },
          "autotypenumbers": "strict",
          "coloraxis": {
           "colorbar": {
            "outlinewidth": 0,
            "ticks": ""
           }
          },
          "colorscale": {
           "diverging": [
            [
             0,
             "#8e0152"
            ],
            [
             0.1,
             "#c51b7d"
            ],
            [
             0.2,
             "#de77ae"
            ],
            [
             0.3,
             "#f1b6da"
            ],
            [
             0.4,
             "#fde0ef"
            ],
            [
             0.5,
             "#f7f7f7"
            ],
            [
             0.6,
             "#e6f5d0"
            ],
            [
             0.7,
             "#b8e186"
            ],
            [
             0.8,
             "#7fbc41"
            ],
            [
             0.9,
             "#4d9221"
            ],
            [
             1,
             "#276419"
            ]
           ],
           "sequential": [
            [
             0,
             "#0d0887"
            ],
            [
             0.1111111111111111,
             "#46039f"
            ],
            [
             0.2222222222222222,
             "#7201a8"
            ],
            [
             0.3333333333333333,
             "#9c179e"
            ],
            [
             0.4444444444444444,
             "#bd3786"
            ],
            [
             0.5555555555555556,
             "#d8576b"
            ],
            [
             0.6666666666666666,
             "#ed7953"
            ],
            [
             0.7777777777777778,
             "#fb9f3a"
            ],
            [
             0.8888888888888888,
             "#fdca26"
            ],
            [
             1,
             "#f0f921"
            ]
           ],
           "sequentialminus": [
            [
             0,
             "#0d0887"
            ],
            [
             0.1111111111111111,
             "#46039f"
            ],
            [
             0.2222222222222222,
             "#7201a8"
            ],
            [
             0.3333333333333333,
             "#9c179e"
            ],
            [
             0.4444444444444444,
             "#bd3786"
            ],
            [
             0.5555555555555556,
             "#d8576b"
            ],
            [
             0.6666666666666666,
             "#ed7953"
            ],
            [
             0.7777777777777778,
             "#fb9f3a"
            ],
            [
             0.8888888888888888,
             "#fdca26"
            ],
            [
             1,
             "#f0f921"
            ]
           ]
          },
          "colorway": [
           "#636efa",
           "#EF553B",
           "#00cc96",
           "#ab63fa",
           "#FFA15A",
           "#19d3f3",
           "#FF6692",
           "#B6E880",
           "#FF97FF",
           "#FECB52"
          ],
          "font": {
           "color": "#2a3f5f"
          },
          "geo": {
           "bgcolor": "white",
           "lakecolor": "white",
           "landcolor": "#E5ECF6",
           "showlakes": true,
           "showland": true,
           "subunitcolor": "white"
          },
          "hoverlabel": {
           "align": "left"
          },
          "hovermode": "closest",
          "mapbox": {
           "style": "light"
          },
          "paper_bgcolor": "white",
          "plot_bgcolor": "#E5ECF6",
          "polar": {
           "angularaxis": {
            "gridcolor": "white",
            "linecolor": "white",
            "ticks": ""
           },
           "bgcolor": "#E5ECF6",
           "radialaxis": {
            "gridcolor": "white",
            "linecolor": "white",
            "ticks": ""
           }
          },
          "scene": {
           "xaxis": {
            "backgroundcolor": "#E5ECF6",
            "gridcolor": "white",
            "gridwidth": 2,
            "linecolor": "white",
            "showbackground": true,
            "ticks": "",
            "zerolinecolor": "white"
           },
           "yaxis": {
            "backgroundcolor": "#E5ECF6",
            "gridcolor": "white",
            "gridwidth": 2,
            "linecolor": "white",
            "showbackground": true,
            "ticks": "",
            "zerolinecolor": "white"
           },
           "zaxis": {
            "backgroundcolor": "#E5ECF6",
            "gridcolor": "white",
            "gridwidth": 2,
            "linecolor": "white",
            "showbackground": true,
            "ticks": "",
            "zerolinecolor": "white"
           }
          },
          "shapedefaults": {
           "line": {
            "color": "#2a3f5f"
           }
          },
          "ternary": {
           "aaxis": {
            "gridcolor": "white",
            "linecolor": "white",
            "ticks": ""
           },
           "baxis": {
            "gridcolor": "white",
            "linecolor": "white",
            "ticks": ""
           },
           "bgcolor": "#E5ECF6",
           "caxis": {
            "gridcolor": "white",
            "linecolor": "white",
            "ticks": ""
           }
          },
          "title": {
           "x": 0.05
          },
          "xaxis": {
           "automargin": true,
           "gridcolor": "white",
           "linecolor": "white",
           "ticks": "",
           "title": {
            "standoff": 15
           },
           "zerolinecolor": "white",
           "zerolinewidth": 2
          },
          "yaxis": {
           "automargin": true,
           "gridcolor": "white",
           "linecolor": "white",
           "ticks": "",
           "title": {
            "standoff": 15
           },
           "zerolinecolor": "white",
           "zerolinewidth": 2
          }
         }
        },
        "title": {
         "text": "Loss by eliminated features"
        },
        "updatemenus": [
         {
          "active": 2,
          "buttons": [
           {
            "args": [
             {
              "visible": [
               true,
               true,
               false,
               false
              ]
             }
            ],
            "label": "Hide features",
            "method": "update"
           },
           {
            "args": [
             {
              "visible": [
               true,
               true,
               true,
               false
              ]
             }
            ],
            "label": "Show indices",
            "method": "update"
           },
           {
            "args": [
             {
              "visible": [
               true,
               true,
               false,
               true
              ]
             }
            ],
            "label": "Show names",
            "method": "update"
           }
          ],
          "pad": {
           "r": 10,
           "t": 10
          },
          "showactive": true,
          "x": -0.25,
          "xanchor": "left",
          "y": 1.03,
          "yanchor": "top"
         }
        ],
        "xaxis": {
         "autorange": true,
         "gridcolor": "rgb(255,255,255)",
         "range": [
          -0.3144820295983087,
          5.314482029598309
         ],
         "showgrid": true,
         "showline": false,
         "showticklabels": true,
         "tickcolor": "rgb(127,127,127)",
         "ticks": "outside",
         "title": {
          "text": "number of removed features"
         },
         "type": "linear",
         "zeroline": false
        },
        "yaxis": {
         "autorange": true,
         "gridcolor": "rgb(255,255,255)",
         "range": [
          0.47452272828098324,
          0.4868582425294543
         ],
         "showgrid": true,
         "showline": false,
         "showticklabels": true,
         "tickcolor": "rgb(127,127,127)",
         "tickfont": {
          "color": "rgb(51,160,44)"
         },
         "ticks": "outside",
         "title": {
          "font": {
           "color": "rgb(51,160,44)"
          },
          "text": "loss value"
         },
         "type": "linear",
         "zeroline": false
        }
       }
      },
      "image/png": "[encoded data removed]",
      "text/html": [
       "<div>                            <div id=\"30bbf2e8-1929-4480-9201-def0295a7da5\" class=\"plotly-graph-div\" style=\"height:525px; width:100%;\"></div>            <script type=\"text/javascript\">                require([\"plotly\"], function(Plotly) {                    window.PLOTLYENV=window.PLOTLYENV || {};                                    if (document.getElementById(\"30bbf2e8-1929-4480-9201-def0295a7da5\")) {                    Plotly.newPlot(                        \"30bbf2e8-1929-4480-9201-def0295a7da5\",                        [{\"line\":{\"color\":\"rgb(51,160,44)\"},\"mode\":\"lines+markers\",\"name\":\"\",\"text\":[\"\",\"distance_from_busstop\",\"busstop_factor\",\"households_grunnkrets\",\"area_km2\",\"grunnkrets_population\"],\"x\":[0,1,2,3,4,5],\"y\":[0.48581315035006994,0.4844562320531797,0.4814552801297727,0.4823530027955183,0.4770702384699065,0.4755678204603676],\"type\":\"scatter\"},{\"marker\":{\"size\":10,\"symbol\":\"square\"},\"mode\":\"markers\",\"name\":\"\",\"text\":[\"\",\"distance_from_busstop\",\"busstop_factor\",\"households_grunnkrets\",\"area_km2\",\"grunnkrets_population\"],\"x\":[0,1,2,3,4,5],\"y\":[0.48581315035006994,0.4844562320531797,0.4814552801297727,0.4823530027955183,0.4770702384699065,0.4755678204603676],\"type\":\"scatter\"},{\"mode\":\"text\",\"name\":\"\",\"text\":[\"\",\"7\",\"21\",\"13\",\"15\",\"5\"],\"textfont\":{\"color\":\"rgb(51,160,44)\",\"family\":\"sans serif\",\"size\":18},\"textposition\":\"bottom center\",\"visible\":false,\"x\":[0,1,2,3,4,5],\"y\":[0.48581315035006994,0.4844562320531797,0.4814552801297727,0.4823530027955183,0.4770702384699065,0.4755678204603676],\"type\":\"scatter\"},{\"mode\":\"text\",\"name\":\"\",\"text\":[\"\",\"distance_from_busstop\",\"busstop_factor\",\"households_grunnkrets\",\"area_km2\",\"grunnkrets_population\"],\"textfont\":{\"color\":\"rgb(51,160,44)\",\"family\":\"sans serif\",\"size\":18},\"textposition\":\"bottom center\",\"visible\":false,\"x\":[0,1,2,3,4,5],\"y\":[0.48581315035006994,0.4844562320531797,0.4814552801297727,0.4823530027955183,0.4770702384699065,0.4755678204603676],\"type\":\"scatter\"}],                        {\"template\":{\"data\":{\"histogram2dcontour\":[{\"type\":\"histogram2dcontour\",\"colorbar\":{\"outlinewidth\":0,\"ticks\":\"\"},\"colorscale\":[[0.0,\"#0d0887\"],[0.1111111111111111,\"#46039f\"],[0.2222222222222222,\"#7201a8\"],[0.3333333333333333,\"#9c179e\"],[0.4444444444444444,\"#bd3786\"],[0.5555555555555556,\"#d8576b\"],[0.6666666666666666,\"#ed7953\"],[0.7777777777777778,\"#fb9f3a\"],[0.8888888888888888,\"#fdca26\"],[1.0,\"#f0f921\"]]}],\"choropleth\":[{\"type\":\"choropleth\",\"colorbar\":{\"outlinewidth\":0,\"ticks\":\"\"}}],\"histogram2d\":[{\"type\":\"histogram2d\",\"colorbar\":{\"outlinewidth\":0,\"ticks\":\"\"},\"colorscale\":[[0.0,\"#0d0887\"],[0.1111111111111111,\"#46039f\"],[0.2222222222222222,\"#7201a8\"],[0.3333333333333333,\"#9c179e\"],[0.4444444444444444,\"#bd3786\"],[0.5555555555555556,\"#d8576b\"],[0.6666666666666666,\"#ed7953\"],[0.7777777777777778,\"#fb9f3a\"],[0.8888888888888888,\"#fdca26\"],[1.0,\"#f0f921\"]]}],\"heatmap\":[{\"type\":\"heatmap\",\"colorbar\":{\"outlinewidth\":0,\"ticks\":\"\"},\"colorscale\":[[0.0,\"#0d0887\"],[0.1111111111111111,\"#46039f\"],[0.2222222222222222,\"#7201a8\"],[0.3333333333333333,\"#9c179e\"],[0.4444444444444444,\"#bd3786\"],[0.5555555555555556,\"#d8576b\"],[0.6666666666666666,\"#ed7953\"],[0.7777777777777778,\"#fb9f3a\"],[0.8888888888888888,\"#fdca26\"],[1.0,\"#f0f921\"]]}],\"heatmapgl\":[{\"type\":\"heatmapgl\",\"colorbar\":{\"outlinewidth\":0,\"ticks\":\"\"},\"colorscale\":[[0.0,\"#0d0887\"],[0.1111111111111111,\"#46039f\"],[0.2222222222222222,\"#7201a8\"],[0.3333333333333333,\"#9c179e\"],[0.4444444444444444,\"#bd3786\"],[0.5555555555555556,\"#d8576b\"],[0.6666666666666666,\"#ed7953\"],[0.7777777777777778,\"#fb9f3a\"],[0.8888888888888888,\"#fdca26\"],[1.0,\"#f0f921\"]]}],\"contourcarpet\":[{\"type\":\"contourcarpet\",\"colorbar\":{\"outlinewidth\":0,\"ticks\":\"\"}}],\"contour\":[{\"type\":\"contour\",\"colorbar\":{\"outlinewidth\":0,\"ticks\":\"\"},\"colorscale\":[[0.0,\"#0d0887\"],[0.1111111111111111,\"#46039f\"],[0.2222222222222222,\"#7201a8\"],[0.3333333333333333,\"#9c179e\"],[0.4444444444444444,\"#bd3786\"],[0.5555555555555556,\"#d8576b\"],[0.6666666666666666,\"#ed7953\"],[0.7777777777777778,\"#fb9f3a\"],[0.8888888888888888,\"#fdca26\"],[1.0,\"#f0f921\"]]}],\"surface\":[{\"type\":\"surface\",\"colorbar\":{\"outlinewidth\":0,\"ticks\":\"\"},\"colorscale\":[[0.0,\"#0d0887\"],[0.1111111111111111,\"#46039f\"],[0.2222222222222222,\"#7201a8\"],[0.3333333333333333,\"#9c179e\"],[0.4444444444444444,\"#bd3786\"],[0.5555555555555556,\"#d8576b\"],[0.6666666666666666,\"#ed7953\"],[0.7777777777777778,\"#fb9f3a\"],[0.8888888888888888,\"#fdca26\"],[1.0,\"#f0f921\"]]}],\"mesh3d\":[{\"type\":\"mesh3d\",\"colorbar\":{\"outlinewidth\":0,\"ticks\":\"\"}}],\"scatter\":[{\"fillpattern\":{\"fillmode\":\"overlay\",\"size\":10,\"solidity\":0.2},\"type\":\"scatter\"}],\"parcoords\":[{\"type\":\"parcoords\",\"line\":{\"colorbar\":{\"outlinewidth\":0,\"ticks\":\"\"}}}],\"scatterpolargl\":[{\"type\":\"scatterpolargl\",\"marker\":{\"colorbar\":{\"outlinewidth\":0,\"ticks\":\"\"}}}],\"bar\":[{\"error_x\":{\"color\":\"#2a3f5f\"},\"error_y\":{\"color\":\"#2a3f5f\"},\"marker\":{\"line\":{\"color\":\"#E5ECF6\",\"width\":0.5},\"pattern\":{\"fillmode\":\"overlay\",\"size\":10,\"solidity\":0.2}},\"type\":\"bar\"}],\"scattergeo\":[{\"type\":\"scattergeo\",\"marker\":{\"colorbar\":{\"outlinewidth\":0,\"ticks\":\"\"}}}],\"scatterpolar\":[{\"type\":\"scatterpolar\",\"marker\":{\"colorbar\":{\"outlinewidth\":0,\"ticks\":\"\"}}}],\"histogram\":[{\"marker\":{\"pattern\":{\"fillmode\":\"overlay\",\"size\":10,\"solidity\":0.2}},\"type\":\"histogram\"}],\"scattergl\":[{\"type\":\"scattergl\",\"marker\":{\"colorbar\":{\"outlinewidth\":0,\"ticks\":\"\"}}}],\"scatter3d\":[{\"type\":\"scatter3d\",\"line\":{\"colorbar\":{\"outlinewidth\":0,\"ticks\":\"\"}},\"marker\":{\"colorbar\":{\"outlinewidth\":0,\"ticks\":\"\"}}}],\"scattermapbox\":[{\"type\":\"scattermapbox\",\"marker\":{\"colorbar\":{\"outlinewidth\":0,\"ticks\":\"\"}}}],\"scatterternary\":[{\"type\":\"scatterternary\",\"marker\":{\"colorbar\":{\"outlinewidth\":0,\"ticks\":\"\"}}}],\"scattercarpet\":[{\"type\":\"scattercarpet\",\"marker\":{\"colorbar\":{\"outlinewidth\":0,\"ticks\":\"\"}}}],\"carpet\":[{\"aaxis\":{\"endlinecolor\":\"#2a3f5f\",\"gridcolor\":\"white\",\"linecolor\":\"white\",\"minorgridcolor\":\"white\",\"startlinecolor\":\"#2a3f5f\"},\"baxis\":{\"endlinecolor\":\"#2a3f5f\",\"gridcolor\":\"white\",\"linecolor\":\"white\",\"minorgridcolor\":\"white\",\"startlinecolor\":\"#2a3f5f\"},\"type\":\"carpet\"}],\"table\":[{\"cells\":{\"fill\":{\"color\":\"#EBF0F8\"},\"line\":{\"color\":\"white\"}},\"header\":{\"fill\":{\"color\":\"#C8D4E3\"},\"line\":{\"color\":\"white\"}},\"type\":\"table\"}],\"barpolar\":[{\"marker\":{\"line\":{\"color\":\"#E5ECF6\",\"width\":0.5},\"pattern\":{\"fillmode\":\"overlay\",\"size\":10,\"solidity\":0.2}},\"type\":\"barpolar\"}],\"pie\":[{\"automargin\":true,\"type\":\"pie\"}]},\"layout\":{\"autotypenumbers\":\"strict\",\"colorway\":[\"#636efa\",\"#EF553B\",\"#00cc96\",\"#ab63fa\",\"#FFA15A\",\"#19d3f3\",\"#FF6692\",\"#B6E880\",\"#FF97FF\",\"#FECB52\"],\"font\":{\"color\":\"#2a3f5f\"},\"hovermode\":\"closest\",\"hoverlabel\":{\"align\":\"left\"},\"paper_bgcolor\":\"white\",\"plot_bgcolor\":\"#E5ECF6\",\"polar\":{\"bgcolor\":\"#E5ECF6\",\"angularaxis\":{\"gridcolor\":\"white\",\"linecolor\":\"white\",\"ticks\":\"\"},\"radialaxis\":{\"gridcolor\":\"white\",\"linecolor\":\"white\",\"ticks\":\"\"}},\"ternary\":{\"bgcolor\":\"#E5ECF6\",\"aaxis\":{\"gridcolor\":\"white\",\"linecolor\":\"white\",\"ticks\":\"\"},\"baxis\":{\"gridcolor\":\"white\",\"linecolor\":\"white\",\"ticks\":\"\"},\"caxis\":{\"gridcolor\":\"white\",\"linecolor\":\"white\",\"ticks\":\"\"}},\"coloraxis\":{\"colorbar\":{\"outlinewidth\":0,\"ticks\":\"\"}},\"colorscale\":{\"sequential\":[[0.0,\"#0d0887\"],[0.1111111111111111,\"#46039f\"],[0.2222222222222222,\"#7201a8\"],[0.3333333333333333,\"#9c179e\"],[0.4444444444444444,\"#bd3786\"],[0.5555555555555556,\"#d8576b\"],[0.6666666666666666,\"#ed7953\"],[0.7777777777777778,\"#fb9f3a\"],[0.8888888888888888,\"#fdca26\"],[1.0,\"#f0f921\"]],\"sequentialminus\":[[0.0,\"#0d0887\"],[0.1111111111111111,\"#46039f\"],[0.2222222222222222,\"#7201a8\"],[0.3333333333333333,\"#9c179e\"],[0.4444444444444444,\"#bd3786\"],[0.5555555555555556,\"#d8576b\"],[0.6666666666666666,\"#ed7953\"],[0.7777777777777778,\"#fb9f3a\"],[0.8888888888888888,\"#fdca26\"],[1.0,\"#f0f921\"]],\"diverging\":[[0,\"#8e0152\"],[0.1,\"#c51b7d\"],[0.2,\"#de77ae\"],[0.3,\"#f1b6da\"],[0.4,\"#fde0ef\"],[0.5,\"#f7f7f7\"],[0.6,\"#e6f5d0\"],[0.7,\"#b8e186\"],[0.8,\"#7fbc41\"],[0.9,\"#4d9221\"],[1,\"#276419\"]]},\"xaxis\":{\"gridcolor\":\"white\",\"linecolor\":\"white\",\"ticks\":\"\",\"title\":{\"standoff\":15},\"zerolinecolor\":\"white\",\"automargin\":true,\"zerolinewidth\":2},\"yaxis\":{\"gridcolor\":\"white\",\"linecolor\":\"white\",\"ticks\":\"\",\"title\":{\"standoff\":15},\"zerolinecolor\":\"white\",\"automargin\":true,\"zerolinewidth\":2},\"scene\":{\"xaxis\":{\"backgroundcolor\":\"#E5ECF6\",\"gridcolor\":\"white\",\"linecolor\":\"white\",\"showbackground\":true,\"ticks\":\"\",\"zerolinecolor\":\"white\",\"gridwidth\":2},\"yaxis\":{\"backgroundcolor\":\"#E5ECF6\",\"gridcolor\":\"white\",\"linecolor\":\"white\",\"showbackground\":true,\"ticks\":\"\",\"zerolinecolor\":\"white\",\"gridwidth\":2},\"zaxis\":{\"backgroundcolor\":\"#E5ECF6\",\"gridcolor\":\"white\",\"linecolor\":\"white\",\"showbackground\":true,\"ticks\":\"\",\"zerolinecolor\":\"white\",\"gridwidth\":2}},\"shapedefaults\":{\"line\":{\"color\":\"#2a3f5f\"}},\"annotationdefaults\":{\"arrowcolor\":\"#2a3f5f\",\"arrowhead\":0,\"arrowwidth\":1},\"geo\":{\"bgcolor\":\"white\",\"landcolor\":\"#E5ECF6\",\"subunitcolor\":\"white\",\"showland\":true,\"showlakes\":true,\"lakecolor\":\"white\"},\"title\":{\"x\":0.05},\"mapbox\":{\"style\":\"light\"}}},\"title\":{\"text\":\"Loss by eliminated features\"},\"xaxis\":{\"title\":{\"text\":\"number of removed features\"},\"gridcolor\":\"rgb(255,255,255)\",\"showgrid\":true,\"showline\":false,\"showticklabels\":true,\"tickcolor\":\"rgb(127,127,127)\",\"ticks\":\"outside\",\"zeroline\":false},\"yaxis\":{\"title\":{\"text\":\"loss value\",\"font\":{\"color\":\"rgb(51,160,44)\"}},\"tickfont\":{\"color\":\"rgb(51,160,44)\"},\"gridcolor\":\"rgb(255,255,255)\",\"showgrid\":true,\"showline\":false,\"showticklabels\":true,\"tickcolor\":\"rgb(127,127,127)\",\"ticks\":\"outside\",\"zeroline\":false},\"updatemenus\":[{\"active\":0,\"buttons\":[{\"args\":[{\"visible\":[true,true,false,false]}],\"label\":\"Hide features\",\"method\":\"update\"},{\"args\":[{\"visible\":[true,true,true,false]}],\"label\":\"Show indices\",\"method\":\"update\"},{\"args\":[{\"visible\":[true,true,false,true]}],\"label\":\"Show names\",\"method\":\"update\"}],\"pad\":{\"r\":10,\"t\":10},\"showactive\":true,\"x\":-0.25,\"xanchor\":\"left\",\"y\":1.03,\"yanchor\":\"top\"}],\"showlegend\":false},                        {\"responsive\": true}                    ).then(function(){\n",
       "                            \n",
       "var gd = document.getElementById('30bbf2e8-1929-4480-9201-def0295a7da5');\n",
       "var x = new MutationObserver(function (mutations, observer) {{\n",
       "        var display = window.getComputedStyle(gd).display;\n",
       "        if (!display || display === 'none') {{\n",
       "            console.log([gd, 'removed!']);\n",
       "            Plotly.purge(gd);\n",
       "            observer.disconnect();\n",
       "        }}\n",
       "}});\n",
       "\n",
       "// Listen for the removal of the full notebook cells\n",
       "var notebookContainer = gd.closest('#notebook-container');\n",
       "if (notebookContainer) {{\n",
       "    x.observe(notebookContainer, {childList: true});\n",
       "}}\n",
       "\n",
       "// Listen for the clearing of the current output cell\n",
       "var outputEl = gd.closest('.output');\n",
       "if (outputEl) {{\n",
       "    x.observe(outputEl, {childList: true});\n",
       "}}\n",
       "\n",
       "                        })                };                });            </script>        </div>"
      ]
     },
     "metadata": {},
     "output_type": "display_data"
    }
   ],
   "source": [
    "summary = cat_model.select_features(\n",
    "                    X = X_train,\n",
    "                    y = y_train,\n",
    "                    eval_set=(X_test, y_test),\n",
    "                    features_for_select='0-21',\n",
    "                    num_features_to_select = 17,\n",
    "                    steps = 5,\n",
    "                    algorithm=EFeaturesSelectionAlgorithm.RecursiveByShapValues,\n",
    "                    shap_calc_type=EShapCalcType.Regular,\n",
    "                    train_final_model=True,\n",
    "                    logging_level='Silent',\n",
    "                    plot=True\n",
    "                    \n",
    ")"
   ]
  },
  {
   "cell_type": "code",
   "execution_count": 64,
   "id": "89baa1e0-cae4-4006-91f3-dce2a15a8c8a",
   "metadata": {
    "tags": []
   },
   "outputs": [
    {
     "data": {
      "image/png": "[encoded data removed]",
      "text/plain": [
       "<Figure size 864x432 with 1 Axes>"
      ]
     },
     "metadata": {},
     "output_type": "display_data"
    }
   ],
   "source": [
    "feature_importance = pd.DataFrame(cat_model.get_feature_importance(prettified=True))\n",
    "\n",
    "plt.figure(figsize=(12, 6));\n",
    "feature_plot= sns.barplot(x=\"Importances\", y=\"Feature Id\", data = feature_importance,palette=\"cool\");\n",
    "plt.title('feature importance');"
   ]
  },
  {
   "cell_type": "code",
   "execution_count": 65,
   "id": "4e189e78-e8ad-423a-9020-ed8f6ebbe745",
   "metadata": {},
   "outputs": [
    {
     "name": "stdout",
     "output_type": "stream",
     "text": [
      "Evaluation on test data\n",
      "RMSE train: 0.37\n",
      "RMSE test: 0.48\n",
      "R2 train: 0.71\n",
      "R2 test: 0.50\n",
      "Adjusted R2: 0.50\n"
     ]
    }
   ],
   "source": [
    "y_predict_train = cat_model.predict(X_train)\n",
    "y_predict= cat_model.predict(X_test)\n",
    "#RMSE\n",
    "Rmse_train = math.sqrt(mean_squared_error(y_train,y_predict_train ))\n",
    "Rmse_test = math.sqrt(mean_squared_error(y_test,y_predict))\n",
    "\n",
    "#R\n",
    "r2_train = cat_model.score(X_train,y_train)\n",
    "r2_test = r2_score(y_test,y_predict)\n",
    "\n",
    "# Adjusted R2 \n",
    "n= X_train.shape[0] \n",
    "p= X_train.shape[1] \n",
    "adj_r2_test = 1-(1-r2_test)*(n-1)/(n-p-1)\n",
    "\n",
    "print(\"Evaluation on test data\")\n",
    "print(\"RMSE train: {:.2f}\".format(Rmse_train))\n",
    "print(\"RMSE test: {:.2f}\".format(Rmse_test))\n",
    "print(\"R2 train: {:.2f}\".format(r2_train))\n",
    "print(\"R2 test: {:.2f}\".format(r2_test))\n",
    "print(\"Adjusted R2: {:.2f}\".format(adj_r2_test)) "
   ]
  },
  {
   "cell_type": "code",
   "execution_count": 66,
   "id": "b2099e4c-49cd-4a28-9ab2-a78f7cef0266",
   "metadata": {},
   "outputs": [
    {
     "data": {
      "image/png": "[encoded data removed]",
      "text/plain": [
       "<Figure size 2160x360 with 1 Axes>"
      ]
     },
     "metadata": {},
     "output_type": "display_data"
    }
   ],
   "source": [
    "x_ax = range(len(y_test))\n",
    "f = plt.figure()\n",
    "f.set_figwidth(30)\n",
    "f.set_figheight(5)\n",
    "plt.plot(x_ax, y_test, label=\"truth\")\n",
    "plt.plot(x_ax, y_predict, label=\"predicted\")\n",
    "plt.title(\"Truth vs predicted Revenue\")\n",
    "plt.xlabel('X-axis')\n",
    "plt.ylabel('Y-axis')\n",
    "plt.legend(loc='best',fancybox=True, shadow=True)\n",
    "plt.grid(True)\n",
    "plt.show()"
   ]
  },
  {
   "cell_type": "code",
   "execution_count": 67,
   "id": "a721dfbd-3cb2-4239-8672-7202c8940bc2",
   "metadata": {
    "tags": []
   },
   "outputs": [],
   "source": [
    "y_pred_non_log = 10**(y_predict/10000) \n",
    "y_test_non_log = 10**(y_test/10000)"
   ]
  },
  {
   "cell_type": "code",
   "execution_count": 68,
   "id": "9daac02d-5f41-4b95-80b0-3e74b3dfd577",
   "metadata": {
    "tags": []
   },
   "outputs": [
    {
     "data": {
      "text/plain": [
       "0.6757621838200195"
      ]
     },
     "execution_count": 68,
     "metadata": {},
     "output_type": "execute_result"
    }
   ],
   "source": [
    "from sklearn.metrics import mean_squared_log_error\n",
    "rmsle = mean_squared_log_error(y_test_non_log,y_pred_non_log)**0.5\n",
    "rmsle                                  "
   ]
  },
  {
   "cell_type": "code",
   "execution_count": 69,
   "id": "cdd5f8dc-dff0-4f9b-9060-a2a128acdbbb",
   "metadata": {
    "tags": []
   },
   "outputs": [
    {
     "data": {
      "image/png": "[encoded data removed]",
      "text/plain": [
       "<Figure size 2160x360 with 1 Axes>"
      ]
     },
     "metadata": {},
     "output_type": "display_data"
    }
   ],
   "source": [
    "x_ax = range(len(y_test_non_log))\n",
    "f = plt.figure()\n",
    "f.set_figwidth(30)\n",
    "f.set_figheight(5)\n",
    "plt.plot(x_ax, y_test_non_log, label=\"truth\")\n",
    "plt.plot(x_ax, y_pred_non_log, label=\"predicted\")\n",
    "plt.title(\"Truth vs predicted Revenu\")\n",
    "plt.xlabel('X-axis')\n",
    "plt.ylabel('Y-axis')\n",
    "plt.legend(loc='best',fancybox=True, shadow=True)\n",
    "plt.grid(True)\n",
    "plt.show()"
   ]
  },
  {
   "cell_type": "markdown",
   "id": "0444ae3a-690c-4045-aeae-a0ce02be51da",
   "metadata": {
    "tags": []
   },
   "source": [
    "### Test Stores\n",
    "\n",
    "The dataset with test stores consists of 8577 rows. Note that it contains the exact same columns as the train set stores, except that the `revenue` column is missing. Your grade in this project will mainly be based on how well you can predict these missing values."
   ]
  },
  {
   "cell_type": "code",
   "execution_count": 93,
   "id": "0ed3325b-f358-440d-adbd-92ed2da1c238",
   "metadata": {
    "tags": []
   },
   "outputs": [],
   "source": [
    "stores_test = pd.read_csv('data/stores_test_preprocessed.csv')\n",
    "stores_test.head()"
   ]
  },
  {
   "cell_type": "code",
   "execution_count": 92,
   "id": "2bbf45a7-7beb-46fd-891e-f126f7efea3d",
   "metadata": {},
   "outputs": [],
   "source": [
    "stores_test.isnull().sum()"
   ]
  },
  {
   "cell_type": "code",
   "execution_count": 89,
   "id": "203d3692-1e3e-4558-b455-b9e906b0872d",
   "metadata": {},
   "outputs": [],
   "source": [
    "stores_test['grunnkrets_population'] = stores_test['grunnkrets_population'].fillna(stores_test.grunnkrets_population.mean())\n",
    "stores_test['district_population'] = stores_test['district_population'].fillna(stores_test.district_population.mean())\n",
    "stores_test['area_km2'] = stores_test['area_km2'].fillna(stores_test.area_km2.mean())"
   ]
  },
  {
   "cell_type": "code",
   "execution_count": 90,
   "id": "bd542647-107e-437e-ba90-1097ef41726b",
   "metadata": {},
   "outputs": [],
   "source": [
    "stores_test['area_of_district'] = stores_test.groupby('district_municipality_name')['area_km2'].sum()\n",
    "stores_test['area_of_district'] = stores_test['area_of_district'].fillna(stores_test.area_of_district.mean())"
   ]
  },
  {
   "cell_type": "code",
   "execution_count": null,
   "id": "3c914da8-ce7d-4a94-a344-b72d025ca710",
   "metadata": {},
   "outputs": [],
   "source": [
    "stores_test['grunnkrets_population_density'] = (stores_test.grunnkrets_population / stores_test.area_km2)\n",
    "stores_test['district_population_density'] = (stores_test.district_population / stores_test.area_of_district)\n",
    "stores_test['district_per_capita_income'] =  (stores_test.households_grunnkrets / stores_test.district_population)\n",
    "stores_test['busstop_factor'] = np.log10((stores_test.busstop_importance_level + 1) * (stores_test.distance_from_busstop))\n",
    "stores_test['district_per_capita_income'] = stores_test['district_per_capita_income'].fillna(stores_test.district_per_capita_income.mean())"
   ]
  },
  {
   "cell_type": "code",
   "execution_count": null,
   "id": "531038f1-0dcf-4824-b229-03c40fc75e6e",
   "metadata": {},
   "outputs": [],
   "source": [
    "stores_train['district_population'] = np.log10(stores_train['district_population'])\n",
    "stores_train['grunnkrets_population'] = np.log10(stores_train['grunnkrets_population'])\n",
    "stores_train['households_grunnkrets'] = np.log10(stores_train['households_grunnkrets'])\n",
    "stores_train['distance_from_busstop'] = np.log10(stores_train['distance_from_busstop'])\n",
    "stores_train['distance_from_busstop'] = (stores_train['distance_from_busstop'])**2\n",
    "stores_train['busstop_factor'] = (stores_train['busstop_factor'])**2"
   ]
  },
  {
   "cell_type": "code",
   "execution_count": 71,
   "id": "993175cc-0fce-4c12-8926-2be795bae35d",
   "metadata": {
    "tags": []
   },
   "outputs": [],
   "source": [
    "stores_test_id = stores_test.drop(stores_test.iloc[:,1:].columns,axis =1)\n",
    "stores_test_id"
   ]
  },
  {
   "cell_type": "code",
   "execution_count": 72,
   "id": "f2c9d31c-8860-4c49-bf14-e54ae9b88917",
   "metadata": {
    "tags": []
   },
   "outputs": [],
   "source": [
    "stores_test = stores_test.drop(['store_id'], axis = 1)\n",
    "stores_test"
   ]
  },
  {
   "cell_type": "code",
   "execution_count": 75,
   "id": "ad3f1ab6-efdc-4fdb-a0c3-5d3ba7740ff1",
   "metadata": {
    "tags": []
   },
   "outputs": [],
   "source": [
    "stores_test.describe()"
   ]
  },
  {
   "cell_type": "code",
   "execution_count": 78,
   "id": "4934d528-3aac-4eb7-9ee3-29a7024886aa",
   "metadata": {
    "tags": []
   },
   "outputs": [],
   "source": [
    "X_test_pred = stores_test \n",
    "y_test_pred = cat_model.predict(X_test_pred)"
   ]
  },
  {
   "cell_type": "code",
   "execution_count": 79,
   "id": "942f74f5-eaf9-4c6c-af23-60d6353d6125",
   "metadata": {
    "tags": []
   },
   "outputs": [],
   "source": [
    "y_test_pred_non_log = 10**(y_test_pred/10000)"
   ]
  },
  {
   "cell_type": "code",
   "execution_count": 82,
   "id": "ee816514-8836-4389-be3b-6b2fe4459a12",
   "metadata": {
    "tags": []
   },
   "outputs": [],
   "source": [
    "submission = pd.DataFrame()\n",
    "submission['id'] = stores_test_id.store_id \n",
    "submission['predicted'] = np.asarray(y_test_pred_non_log)\n",
    "\n",
    "#Save it to disk (`index=False` means don't save the index in the csv)\n",
    "submission.to_csv('group8.csv', index=False)\n",
    "submission"
   ]
  },
  {
   "cell_type": "code",
   "execution_count": 83,
   "id": "24ae5616-b701-488d-98f5-649dfda7eecb",
   "metadata": {
    "tags": []
   },
   "outputs": [],
   "source": [
    "# submission.predicted.max()"
   ]
  }
 ],
 "metadata": {
  "kernelspec": {
   "display_name": "Python 3",
   "language": "python",
   "name": "python3"
  },
  "language_info": {
   "codemirror_mode": {
    "name": "ipython",
    "version": 3
   },
   "file_extension": ".py",
   "mimetype": "text/x-python",
   "name": "python",
   "nbconvert_exporter": "python",
   "pygments_lexer": "ipython3",
   "version": "3.8.8"
  }
 },
 "nbformat": 4,
 "nbformat_minor": 5
}
