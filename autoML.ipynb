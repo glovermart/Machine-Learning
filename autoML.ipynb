{
 "cells": [
  {
   "cell_type": "code",
   "execution_count": 40,
   "id": "1871a2da-feb5-4716-b01e-74ed9743f8f3",
   "metadata": {},
   "outputs": [
    {
     "name": "stdout",
     "output_type": "stream",
     "text": [
      "Checking whether there is an H2O instance running at http://localhost:54321 . connected.\n"
     ]
    },
    {
     "data": {
      "text/html": [
       "\n",
       "<style>\n",
       "\n",
       "#h2o-table-6.h2o-container {\n",
       "  overflow-x: auto;\n",
       "}\n",
       "#h2o-table-6 .h2o-table {\n",
       "  /* width: 100%; */\n",
       "  margin-top: 1em;\n",
       "  margin-bottom: 1em;\n",
       "}\n",
       "#h2o-table-6 .h2o-table caption {\n",
       "  white-space: nowrap;\n",
       "  caption-side: top;\n",
       "  text-align: left;\n",
       "  /* margin-left: 1em; */\n",
       "  margin: 0;\n",
       "  font-size: larger;\n",
       "}\n",
       "#h2o-table-6 .h2o-table thead {\n",
       "  white-space: nowrap; \n",
       "  position: sticky;\n",
       "  top: 0;\n",
       "  box-shadow: 0 -1px inset;\n",
       "}\n",
       "#h2o-table-6 .h2o-table tbody {\n",
       "  overflow: auto;\n",
       "}\n",
       "#h2o-table-6 .h2o-table th,\n",
       "#h2o-table-6 .h2o-table td {\n",
       "  text-align: right;\n",
       "  /* border: 1px solid; */\n",
       "}\n",
       "#h2o-table-6 .h2o-table tr:nth-child(even) {\n",
       "  /* background: #F5F5F5 */\n",
       "}\n",
       "\n",
       "</style>      \n",
       "<div id=\"h2o-table-6\" class=\"h2o-container\">\n",
       "  <table class=\"h2o-table\">\n",
       "    <caption></caption>\n",
       "    <thead></thead>\n",
       "    <tbody><tr><td>H2O_cluster_uptime:</td>\n",
       "<td>8 hours 40 mins</td></tr>\n",
       "<tr><td>H2O_cluster_timezone:</td>\n",
       "<td>Europe/Paris</td></tr>\n",
       "<tr><td>H2O_data_parsing_timezone:</td>\n",
       "<td>UTC</td></tr>\n",
       "<tr><td>H2O_cluster_version:</td>\n",
       "<td>3.38.0.2</td></tr>\n",
       "<tr><td>H2O_cluster_version_age:</td>\n",
       "<td>15 days </td></tr>\n",
       "<tr><td>H2O_cluster_name:</td>\n",
       "<td>H2O_from_python_andyg_vutumg</td></tr>\n",
       "<tr><td>H2O_cluster_total_nodes:</td>\n",
       "<td>1</td></tr>\n",
       "<tr><td>H2O_cluster_free_memory:</td>\n",
       "<td>2.793 Gb</td></tr>\n",
       "<tr><td>H2O_cluster_total_cores:</td>\n",
       "<td>8</td></tr>\n",
       "<tr><td>H2O_cluster_allowed_cores:</td>\n",
       "<td>8</td></tr>\n",
       "<tr><td>H2O_cluster_status:</td>\n",
       "<td>locked, healthy</td></tr>\n",
       "<tr><td>H2O_connection_url:</td>\n",
       "<td>http://localhost:54321</td></tr>\n",
       "<tr><td>H2O_connection_proxy:</td>\n",
       "<td>{\"http\": null, \"https\": null}</td></tr>\n",
       "<tr><td>H2O_internal_security:</td>\n",
       "<td>False</td></tr>\n",
       "<tr><td>Python_version:</td>\n",
       "<td>3.8.8 final</td></tr></tbody>\n",
       "  </table>\n",
       "</div>\n"
      ],
      "text/plain": [
       "--------------------------  -----------------------------\n",
       "H2O_cluster_uptime:         8 hours 40 mins\n",
       "H2O_cluster_timezone:       Europe/Paris\n",
       "H2O_data_parsing_timezone:  UTC\n",
       "H2O_cluster_version:        3.38.0.2\n",
       "H2O_cluster_version_age:    15 days\n",
       "H2O_cluster_name:           H2O_from_python_andyg_vutumg\n",
       "H2O_cluster_total_nodes:    1\n",
       "H2O_cluster_free_memory:    2.793 Gb\n",
       "H2O_cluster_total_cores:    8\n",
       "H2O_cluster_allowed_cores:  8\n",
       "H2O_cluster_status:         locked, healthy\n",
       "H2O_connection_url:         http://localhost:54321\n",
       "H2O_connection_proxy:       {\"http\": null, \"https\": null}\n",
       "H2O_internal_security:      False\n",
       "Python_version:             3.8.8 final\n",
       "--------------------------  -----------------------------"
      ]
     },
     "metadata": {},
     "output_type": "display_data"
    }
   ],
   "source": [
    "import h2o\n",
    "from h2o.automl import H2OAutoML\n",
    "h2o.init()"
   ]
  },
  {
   "cell_type": "code",
   "execution_count": 41,
   "id": "825102d7-b46d-43ba-b0ef-9a587aeb3590",
   "metadata": {},
   "outputs": [],
   "source": [
    "import pandas as pd"
   ]
  },
  {
   "cell_type": "code",
   "execution_count": 42,
   "id": "8fa14777-bf10-4b27-af40-cc28c13f339c",
   "metadata": {},
   "outputs": [],
   "source": [
    "stores_train = pd.read_csv('data/stores_train_preprocessed.csv')"
   ]
  },
  {
   "cell_type": "code",
   "execution_count": 43,
   "id": "7b40557b-9f92-484c-8a2f-21d76f7baff8",
   "metadata": {},
   "outputs": [
    {
     "data": {
      "text/plain": [
       "store_id                        0\n",
       "grunnkrets_id                   0\n",
       "lat                             0\n",
       "lon                             0\n",
       "chain_name                      0\n",
       "mall_name                       0\n",
       "revenue                         0\n",
       "grunnkrets_population         805\n",
       "district_population            30\n",
       "distance_from_busstop           0\n",
       "busstop_importance_level        0\n",
       "lv1                             0\n",
       "lv2                             0\n",
       "lv3                             0\n",
       "lv4                             0\n",
       "households_grunnkrets           0\n",
       "municipality_name               0\n",
       "area_km2                       30\n",
       "district_municipality_name      0\n",
       "dtype: int64"
      ]
     },
     "execution_count": 43,
     "metadata": {},
     "output_type": "execute_result"
    }
   ],
   "source": [
    "stores_train.isnull().sum()"
   ]
  },
  {
   "cell_type": "code",
   "execution_count": 44,
   "id": "01d512ba-6edd-453e-8818-42fad45d4c98",
   "metadata": {},
   "outputs": [],
   "source": [
    "stores_train['grunnkrets_population'] = stores_train['grunnkrets_population'].fillna(stores_train.grunnkrets_population.mean())\n",
    "stores_train['district_population'] = stores_train['district_population'].fillna(stores_train.district_population.mean())\n",
    "stores_train['area_km2'] = stores_train['area_km2'].fillna(stores_train.area_km2.mean())"
   ]
  },
  {
   "cell_type": "code",
   "execution_count": 45,
   "id": "f01db8c4-be85-45d6-94b1-826bc89ea2ed",
   "metadata": {},
   "outputs": [
    {
     "data": {
      "text/plain": [
       "store_id                      0\n",
       "grunnkrets_id                 0\n",
       "lat                           0\n",
       "lon                           0\n",
       "chain_name                    0\n",
       "mall_name                     0\n",
       "revenue                       0\n",
       "grunnkrets_population         0\n",
       "district_population           0\n",
       "distance_from_busstop         0\n",
       "busstop_importance_level      0\n",
       "lv1                           0\n",
       "lv2                           0\n",
       "lv3                           0\n",
       "lv4                           0\n",
       "households_grunnkrets         0\n",
       "municipality_name             0\n",
       "area_km2                      0\n",
       "district_municipality_name    0\n",
       "dtype: int64"
      ]
     },
     "execution_count": 45,
     "metadata": {},
     "output_type": "execute_result"
    }
   ],
   "source": [
    "stores_train.isnull().sum()"
   ]
  },
  {
   "cell_type": "code",
   "execution_count": 46,
   "id": "14dd35ad-b1a2-4359-bf50-04ba6dede1b1",
   "metadata": {},
   "outputs": [],
   "source": [
    "data = stores_train"
   ]
  },
  {
   "cell_type": "code",
   "execution_count": 47,
   "id": "ca7b5ac2-a5b7-48e2-9bbc-d5084ec62c62",
   "metadata": {},
   "outputs": [],
   "source": [
    "data = data.drop(['store_id','area_km2','mall_name','lat','lon'], axis = 1)"
   ]
  },
  {
   "cell_type": "code",
   "execution_count": 48,
   "id": "14105f68-ccb7-4a26-9741-11da1e700562",
   "metadata": {},
   "outputs": [],
   "source": [
    "#data.types"
   ]
  },
  {
   "cell_type": "code",
   "execution_count": 49,
   "id": "2f99b3ae-20d2-45b6-905b-7dcf1025c956",
   "metadata": {},
   "outputs": [],
   "source": [
    "stores_train = stores_train[stores_train.revenue > 0.0]"
   ]
  },
  {
   "cell_type": "code",
   "execution_count": 50,
   "id": "e9c1bd79-0786-4c66-bd1c-b1d3b7456adc",
   "metadata": {},
   "outputs": [],
   "source": [
    "import numpy as np\n",
    "stores_train['revenue'] = np.log10(stores_train['revenue'])"
   ]
  },
  {
   "cell_type": "code",
   "execution_count": 51,
   "id": "9a508dc4-d16b-4b84-8ea4-963b2a68b459",
   "metadata": {},
   "outputs": [
    {
     "name": "stdout",
     "output_type": "stream",
     "text": [
      "Parse progress: |████████████████████████████████████████████████████████████████| (done) 100%\n"
     ]
    }
   ],
   "source": [
    "data = h2o.H2OFrame(data)"
   ]
  },
  {
   "cell_type": "code",
   "execution_count": 52,
   "id": "264f4104-f393-43dd-8a5b-a9bf5578fd43",
   "metadata": {},
   "outputs": [],
   "source": [
    "train, test = data.split_frame(ratios=[0.8], seed = 42)"
   ]
  },
  {
   "cell_type": "code",
   "execution_count": 53,
   "id": "47a92ab5-07c7-4d04-923c-7d555fdecee8",
   "metadata": {},
   "outputs": [],
   "source": [
    "####################################################################################\n",
    "#x = train.columns\n",
    "#y = 'revenue'\n",
    "#x.remove(y)"
   ]
  },
  {
   "cell_type": "code",
   "execution_count": 54,
   "id": "02c171ec-7e2b-44e2-8dec-3aabaa4121be",
   "metadata": {},
   "outputs": [],
   "source": [
    "model = H2OAutoML(sort_metric='rmsle',\n",
    "                  max_runtime_secs=7200,\n",
    "                  seed = 42,\n",
    "                  max_models = 10,\n",
    "                  max_runtime_secs_per_model = 720,\n",
    "                  exclude_algos = ['DeepLearning'],\n",
    "                  #stopping_metric = 'RMSLE'\n",
    "                 )"
   ]
  },
  {
   "cell_type": "code",
   "execution_count": 55,
   "id": "60d7d1f7-e048-407d-ab23-8f32ab4e1fe5",
   "metadata": {},
   "outputs": [
    {
     "name": "stdout",
     "output_type": "stream",
     "text": [
      "AutoML progress: |█\n",
      "03:18:50.310: AutoML: XGBoost is not available; skipping it.\n",
      "\n",
      "██████████████████████████████████████████████████████████████| (done) 100%\n"
     ]
    },
    {
     "data": {
      "text/html": [
       "<pre style='margin: 1em 0 1em 0;'>Model Details\n",
       "=============\n",
       "H2OStackedEnsembleEstimator : Stacked Ensemble\n",
       "Model Key: StackedEnsemble_AllModels_1_AutoML_12_20221112_31850\n",
       "\n",
       "No summary for this model</pre>\n",
       "<div style='margin: 1em 0 1em 0;'><pre style='margin: 1em 0 1em 0;'>ModelMetricsRegressionGLM: stackedensemble\n",
       "** Reported on train data. **\n",
       "\n",
       "MSE: 66.67571351231501\n",
       "RMSE: 8.165519794374086\n",
       "MAE: 4.146747769171244\n",
       "RMSLE: 0.7427189735998443\n",
       "Mean Residual Deviance: 66.67571351231501\n",
       "R^2: 0.7215260666866004\n",
       "Null degrees of freedom: 10018\n",
       "Residual degrees of freedom: 10011\n",
       "Null deviance: 2398884.399526334\n",
       "Residual deviance: 668023.9736798841\n",
       "AIC: 70528.8950165898</pre></div>\n",
       "<div style='margin: 1em 0 1em 0;'><pre style='margin: 1em 0 1em 0;'>ModelMetricsRegressionGLM: stackedensemble\n",
       "** Reported on cross-validation data. **\n",
       "\n",
       "MSE: 107.5901293976551\n",
       "RMSE: 10.372566191529225\n",
       "MAE: 5.066224517388992\n",
       "RMSLE: 0.835408914373952\n",
       "Mean Residual Deviance: 107.5901293976551\n",
       "R^2: 0.551944656567376\n",
       "Null degrees of freedom: 10338\n",
       "Residual degrees of freedom: 10330\n",
       "Null deviance: 2483294.4252651567\n",
       "Residual deviance: 1112374.3478423562\n",
       "AIC: 77730.05358283107</pre></div>\n",
       "<div style='margin: 1em 0 1em 0;'>\n",
       "<style>\n",
       "\n",
       "#h2o-table-7.h2o-container {\n",
       "  overflow-x: auto;\n",
       "}\n",
       "#h2o-table-7 .h2o-table {\n",
       "  /* width: 100%; */\n",
       "  margin-top: 1em;\n",
       "  margin-bottom: 1em;\n",
       "}\n",
       "#h2o-table-7 .h2o-table caption {\n",
       "  white-space: nowrap;\n",
       "  caption-side: top;\n",
       "  text-align: left;\n",
       "  /* margin-left: 1em; */\n",
       "  margin: 0;\n",
       "  font-size: larger;\n",
       "}\n",
       "#h2o-table-7 .h2o-table thead {\n",
       "  white-space: nowrap; \n",
       "  position: sticky;\n",
       "  top: 0;\n",
       "  box-shadow: 0 -1px inset;\n",
       "}\n",
       "#h2o-table-7 .h2o-table tbody {\n",
       "  overflow: auto;\n",
       "}\n",
       "#h2o-table-7 .h2o-table th,\n",
       "#h2o-table-7 .h2o-table td {\n",
       "  text-align: right;\n",
       "  /* border: 1px solid; */\n",
       "}\n",
       "#h2o-table-7 .h2o-table tr:nth-child(even) {\n",
       "  /* background: #F5F5F5 */\n",
       "}\n",
       "\n",
       "</style>      \n",
       "<div id=\"h2o-table-7\" class=\"h2o-container\">\n",
       "  <table class=\"h2o-table\">\n",
       "    <caption>Cross-Validation Metrics Summary: </caption>\n",
       "    <thead><tr><th></th>\n",
       "<th>mean</th>\n",
       "<th>sd</th>\n",
       "<th>cv_1_valid</th>\n",
       "<th>cv_2_valid</th>\n",
       "<th>cv_3_valid</th>\n",
       "<th>cv_4_valid</th>\n",
       "<th>cv_5_valid</th></tr></thead>\n",
       "    <tbody><tr><td>mae</td>\n",
       "<td>5.0706964</td>\n",
       "<td>0.1668218</td>\n",
       "<td>5.35174</td>\n",
       "<td>5.035549</td>\n",
       "<td>5.023178</td>\n",
       "<td>4.903823</td>\n",
       "<td>5.0391917</td></tr>\n",
       "<tr><td>mean_residual_deviance</td>\n",
       "<td>107.59683</td>\n",
       "<td>18.715324</td>\n",
       "<td>136.36348</td>\n",
       "<td>89.622154</td>\n",
       "<td>102.5097350</td>\n",
       "<td>94.539185</td>\n",
       "<td>114.94961</td></tr>\n",
       "<tr><td>mse</td>\n",
       "<td>107.59683</td>\n",
       "<td>18.715324</td>\n",
       "<td>136.36348</td>\n",
       "<td>89.622154</td>\n",
       "<td>102.5097350</td>\n",
       "<td>94.539185</td>\n",
       "<td>114.94961</td></tr>\n",
       "<tr><td>null_deviance</td>\n",
       "<td>496658.88</td>\n",
       "<td>75986.08</td>\n",
       "<td>629171.25</td>\n",
       "<td>454583.75</td>\n",
       "<td>476583.78</td>\n",
       "<td>482540.47</td>\n",
       "<td>440415.2</td></tr>\n",
       "<tr><td>r2</td>\n",
       "<td>0.5519780</td>\n",
       "<td>0.0394674</td>\n",
       "<td>0.5445992</td>\n",
       "<td>0.5863526</td>\n",
       "<td>0.5456924</td>\n",
       "<td>0.5903091</td>\n",
       "<td>0.4929369</td></tr>\n",
       "<tr><td>residual_deviance</td>\n",
       "<td>222256.14</td>\n",
       "<td>38297.67</td>\n",
       "<td>285954.22</td>\n",
       "<td>188027.28</td>\n",
       "<td>216500.56</td>\n",
       "<td>197681.44</td>\n",
       "<td>223117.19</td></tr>\n",
       "<tr><td>rmse</td>\n",
       "<td>10.342733</td>\n",
       "<td>0.8836725</td>\n",
       "<td>11.677478</td>\n",
       "<td>9.466898</td>\n",
       "<td>10.124709</td>\n",
       "<td>9.723126</td>\n",
       "<td>10.721456</td></tr>\n",
       "<tr><td>rmsle</td>\n",
       "<td>0.8366879</td>\n",
       "<td>0.0109544</td>\n",
       "<td>0.8246871</td>\n",
       "<td>0.84971</td>\n",
       "<td>0.8309166</td>\n",
       "<td>0.8312587</td>\n",
       "<td>0.8468673</td></tr></tbody>\n",
       "  </table>\n",
       "</div>\n",
       "</div><pre style=\"font-size: smaller; margin: 1em 0 0 0;\">\n",
       "\n",
       "[tips]\n",
       "Use `model.explain()` to inspect the model.\n",
       "--\n",
       "Use `h2o.display.toggle_user_tips()` to switch on/off this section.</pre>"
      ],
      "text/plain": [
       "Model Details\n",
       "=============\n",
       "H2OStackedEnsembleEstimator : Stacked Ensemble\n",
       "Model Key: StackedEnsemble_AllModels_1_AutoML_12_20221112_31850\n",
       "\n",
       "No summary for this model\n",
       "\n",
       "ModelMetricsRegressionGLM: stackedensemble\n",
       "** Reported on train data. **\n",
       "\n",
       "MSE: 66.67571351231501\n",
       "RMSE: 8.165519794374086\n",
       "MAE: 4.146747769171244\n",
       "RMSLE: 0.7427189735998443\n",
       "Mean Residual Deviance: 66.67571351231501\n",
       "R^2: 0.7215260666866004\n",
       "Null degrees of freedom: 10018\n",
       "Residual degrees of freedom: 10011\n",
       "Null deviance: 2398884.399526334\n",
       "Residual deviance: 668023.9736798841\n",
       "AIC: 70528.8950165898\n",
       "\n",
       "ModelMetricsRegressionGLM: stackedensemble\n",
       "** Reported on cross-validation data. **\n",
       "\n",
       "MSE: 107.5901293976551\n",
       "RMSE: 10.372566191529225\n",
       "MAE: 5.066224517388992\n",
       "RMSLE: 0.835408914373952\n",
       "Mean Residual Deviance: 107.5901293976551\n",
       "R^2: 0.551944656567376\n",
       "Null degrees of freedom: 10338\n",
       "Residual degrees of freedom: 10330\n",
       "Null deviance: 2483294.4252651567\n",
       "Residual deviance: 1112374.3478423562\n",
       "AIC: 77730.05358283107\n",
       "\n",
       "Cross-Validation Metrics Summary: \n",
       "                        mean      sd         cv_1_valid    cv_2_valid    cv_3_valid    cv_4_valid    cv_5_valid\n",
       "----------------------  --------  ---------  ------------  ------------  ------------  ------------  ------------\n",
       "mae                     5.0707    0.166822   5.35174       5.03555       5.02318       4.90382       5.03919\n",
       "mean_residual_deviance  107.597   18.7153    136.363       89.6222       102.51        94.5392       114.95\n",
       "mse                     107.597   18.7153    136.363       89.6222       102.51        94.5392       114.95\n",
       "null_deviance           496659    75986.1    629171        454584        476584        482540        440415\n",
       "r2                      0.551978  0.0394674  0.544599      0.586353      0.545692      0.590309      0.492937\n",
       "residual_deviance       222256    38297.7    285954        188027        216501        197681        223117\n",
       "rmse                    10.3427   0.883673   11.6775       9.4669        10.1247       9.72313       10.7215\n",
       "rmsle                   0.836688  0.0109544  0.824687      0.84971       0.830917      0.831259      0.846867\n",
       "\n",
       "[tips]\n",
       "Use `model.explain()` to inspect the model.\n",
       "--\n",
       "Use `h2o.display.toggle_user_tips()` to switch on/off this section."
      ]
     },
     "execution_count": 55,
     "metadata": {},
     "output_type": "execute_result"
    }
   ],
   "source": [
    "model.train(training_frame = train, y = 'revenue')"
   ]
  },
  {
   "cell_type": "code",
   "execution_count": 56,
   "id": "c1798a65-6ff5-4745-bcf1-304d188e1e9d",
   "metadata": {},
   "outputs": [
    {
     "data": {
      "text/html": [
       "<table class='dataframe'>\n",
       "<thead>\n",
       "<tr><th>model_id                                               </th><th style=\"text-align: right;\">     rmsle</th><th style=\"text-align: right;\">   rmse</th><th style=\"text-align: right;\">    mse</th><th style=\"text-align: right;\">    mae</th><th style=\"text-align: right;\">  mean_residual_deviance</th><th style=\"text-align: right;\">  training_time_ms</th><th style=\"text-align: right;\">  predict_time_per_row_ms</th><th>algo           </th></tr>\n",
       "</thead>\n",
       "<tbody>\n",
       "<tr><td>StackedEnsemble_AllModels_1_AutoML_12_20221112_31850   </td><td style=\"text-align: right;\">  0.835409</td><td style=\"text-align: right;\">10.3726</td><td style=\"text-align: right;\">107.59 </td><td style=\"text-align: right;\">5.06622</td><td style=\"text-align: right;\">                 107.59 </td><td style=\"text-align: right;\">               527</td><td style=\"text-align: right;\">                 0.017417</td><td>StackedEnsemble</td></tr>\n",
       "<tr><td>StackedEnsemble_BestOfFamily_1_AutoML_12_20221112_31850</td><td style=\"text-align: right;\">  0.83887 </td><td style=\"text-align: right;\">10.4577</td><td style=\"text-align: right;\">109.363</td><td style=\"text-align: right;\">5.10598</td><td style=\"text-align: right;\">                 109.363</td><td style=\"text-align: right;\">               529</td><td style=\"text-align: right;\">                 0.014407</td><td>StackedEnsemble</td></tr>\n",
       "<tr><td>GBM_2_AutoML_12_20221112_31850                         </td><td style=\"text-align: right;\">  0.852405</td><td style=\"text-align: right;\">10.4566</td><td style=\"text-align: right;\">109.339</td><td style=\"text-align: right;\">5.16245</td><td style=\"text-align: right;\">                 109.339</td><td style=\"text-align: right;\">               320</td><td style=\"text-align: right;\">                 0.004423</td><td>GBM            </td></tr>\n",
       "<tr><td>XRT_1_AutoML_12_20221112_31850                         </td><td style=\"text-align: right;\">  0.874329</td><td style=\"text-align: right;\">10.8293</td><td style=\"text-align: right;\">117.275</td><td style=\"text-align: right;\">5.42834</td><td style=\"text-align: right;\">                 117.275</td><td style=\"text-align: right;\">              2255</td><td style=\"text-align: right;\">                 0.011435</td><td>DRF            </td></tr>\n",
       "<tr><td>DRF_1_AutoML_12_20221112_31850                         </td><td style=\"text-align: right;\">  0.874897</td><td style=\"text-align: right;\">10.895 </td><td style=\"text-align: right;\">118.7  </td><td style=\"text-align: right;\">5.45365</td><td style=\"text-align: right;\">                 118.7  </td><td style=\"text-align: right;\">              1891</td><td style=\"text-align: right;\">                 0.010358</td><td>DRF            </td></tr>\n",
       "<tr><td>GBM_5_AutoML_12_20221112_31850                         </td><td style=\"text-align: right;\">nan       </td><td style=\"text-align: right;\">10.4847</td><td style=\"text-align: right;\">109.929</td><td style=\"text-align: right;\">5.1776 </td><td style=\"text-align: right;\">                 109.929</td><td style=\"text-align: right;\">               255</td><td style=\"text-align: right;\">                 0.005103</td><td>GBM            </td></tr>\n",
       "<tr><td>GBM_1_AutoML_12_20221112_31850                         </td><td style=\"text-align: right;\">nan       </td><td style=\"text-align: right;\">10.7128</td><td style=\"text-align: right;\">114.764</td><td style=\"text-align: right;\">5.37284</td><td style=\"text-align: right;\">                 114.764</td><td style=\"text-align: right;\">               387</td><td style=\"text-align: right;\">                 0.007946</td><td>GBM            </td></tr>\n",
       "<tr><td>GBM_3_AutoML_12_20221112_31850                         </td><td style=\"text-align: right;\">nan       </td><td style=\"text-align: right;\">10.4246</td><td style=\"text-align: right;\">108.672</td><td style=\"text-align: right;\">5.16247</td><td style=\"text-align: right;\">                 108.672</td><td style=\"text-align: right;\">               248</td><td style=\"text-align: right;\">                 0.005176</td><td>GBM            </td></tr>\n",
       "<tr><td>GBM_grid_1_AutoML_12_20221112_31850_model_1            </td><td style=\"text-align: right;\">nan       </td><td style=\"text-align: right;\">10.5973</td><td style=\"text-align: right;\">112.303</td><td style=\"text-align: right;\">5.27714</td><td style=\"text-align: right;\">                 112.303</td><td style=\"text-align: right;\">               272</td><td style=\"text-align: right;\">                 0.00465 </td><td>GBM            </td></tr>\n",
       "<tr><td>GBM_grid_1_AutoML_12_20221112_31850_model_2            </td><td style=\"text-align: right;\">nan       </td><td style=\"text-align: right;\">10.6993</td><td style=\"text-align: right;\">114.474</td><td style=\"text-align: right;\">5.26873</td><td style=\"text-align: right;\">                 114.474</td><td style=\"text-align: right;\">               466</td><td style=\"text-align: right;\">                 0.009031</td><td>GBM            </td></tr>\n",
       "</tbody>\n",
       "</table><pre style='font-size: smaller; margin-bottom: 1em;'>[12 rows x 9 columns]</pre>"
      ],
      "text/plain": [
       "model_id                                                      rmsle     rmse      mse      mae    mean_residual_deviance    training_time_ms    predict_time_per_row_ms  algo\n",
       "-------------------------------------------------------  ----------  -------  -------  -------  ------------------------  ------------------  -------------------------  ---------------\n",
       "StackedEnsemble_AllModels_1_AutoML_12_20221112_31850       0.835409  10.3726  107.59   5.06622                   107.59                  527                   0.017417  StackedEnsemble\n",
       "StackedEnsemble_BestOfFamily_1_AutoML_12_20221112_31850    0.83887   10.4577  109.363  5.10598                   109.363                 529                   0.014407  StackedEnsemble\n",
       "GBM_2_AutoML_12_20221112_31850                             0.852405  10.4566  109.339  5.16245                   109.339                 320                   0.004423  GBM\n",
       "XRT_1_AutoML_12_20221112_31850                             0.874329  10.8293  117.275  5.42834                   117.275                2255                   0.011435  DRF\n",
       "DRF_1_AutoML_12_20221112_31850                             0.874897  10.895   118.7    5.45365                   118.7                  1891                   0.010358  DRF\n",
       "GBM_5_AutoML_12_20221112_31850                           nan         10.4847  109.929  5.1776                    109.929                 255                   0.005103  GBM\n",
       "GBM_1_AutoML_12_20221112_31850                           nan         10.7128  114.764  5.37284                   114.764                 387                   0.007946  GBM\n",
       "GBM_3_AutoML_12_20221112_31850                           nan         10.4246  108.672  5.16247                   108.672                 248                   0.005176  GBM\n",
       "GBM_grid_1_AutoML_12_20221112_31850_model_1              nan         10.5973  112.303  5.27714                   112.303                 272                   0.00465   GBM\n",
       "GBM_grid_1_AutoML_12_20221112_31850_model_2              nan         10.6993  114.474  5.26873                   114.474                 466                   0.009031  GBM\n",
       "[12 rows x 9 columns]\n"
      ]
     },
     "execution_count": 56,
     "metadata": {},
     "output_type": "execute_result"
    }
   ],
   "source": [
    "h2o_models = h2o.automl.get_leaderboard(model, extra_columns = \"ALL\")\n",
    "h2o_models"
   ]
  },
  {
   "cell_type": "code",
   "execution_count": 57,
   "id": "bdedd1aa-5551-4eac-9ffe-e6e81bd2dd21",
   "metadata": {},
   "outputs": [
    {
     "name": "stdout",
     "output_type": "stream",
     "text": [
      "Model Details\n",
      "=============\n",
      "H2OStackedEnsembleEstimator : Stacked Ensemble\n",
      "Model Key: StackedEnsemble_AllModels_1_AutoML_12_20221112_31850\n",
      "\n",
      "No summary for this model\n",
      "\n",
      "ModelMetricsRegressionGLM: stackedensemble\n",
      "** Reported on train data. **\n",
      "\n",
      "MSE: 66.67571351231501\n",
      "RMSE: 8.165519794374086\n",
      "MAE: 4.146747769171244\n",
      "RMSLE: 0.7427189735998443\n",
      "Mean Residual Deviance: 66.67571351231501\n",
      "R^2: 0.7215260666866004\n",
      "Null degrees of freedom: 10018\n",
      "Residual degrees of freedom: 10011\n",
      "Null deviance: 2398884.399526334\n",
      "Residual deviance: 668023.9736798841\n",
      "AIC: 70528.8950165898\n",
      "\n",
      "ModelMetricsRegressionGLM: stackedensemble\n",
      "** Reported on cross-validation data. **\n",
      "\n",
      "MSE: 107.5901293976551\n",
      "RMSE: 10.372566191529225\n",
      "MAE: 5.066224517388992\n",
      "RMSLE: 0.835408914373952\n",
      "Mean Residual Deviance: 107.5901293976551\n",
      "R^2: 0.551944656567376\n",
      "Null degrees of freedom: 10338\n",
      "Residual degrees of freedom: 10330\n",
      "Null deviance: 2483294.4252651567\n",
      "Residual deviance: 1112374.3478423562\n",
      "AIC: 77730.05358283107\n",
      "\n",
      "Cross-Validation Metrics Summary: \n",
      "                        mean      sd         cv_1_valid    cv_2_valid    cv_3_valid    cv_4_valid    cv_5_valid\n",
      "----------------------  --------  ---------  ------------  ------------  ------------  ------------  ------------\n",
      "mae                     5.0707    0.166822   5.35174       5.03555       5.02318       4.90382       5.03919\n",
      "mean_residual_deviance  107.597   18.7153    136.363       89.6222       102.51        94.5392       114.95\n",
      "mse                     107.597   18.7153    136.363       89.6222       102.51        94.5392       114.95\n",
      "null_deviance           496659    75986.1    629171        454584        476584        482540        440415\n",
      "r2                      0.551978  0.0394674  0.544599      0.586353      0.545692      0.590309      0.492937\n",
      "residual_deviance       222256    38297.7    285954        188027        216501        197681        223117\n",
      "rmse                    10.3427   0.883673   11.6775       9.4669        10.1247       9.72313       10.7215\n",
      "rmsle                   0.836688  0.0109544  0.824687      0.84971       0.830917      0.831259      0.846867\n"
     ]
    }
   ],
   "source": [
    "best_model = model.get_best_model()\n",
    "print(best_model)"
   ]
  },
  {
   "cell_type": "code",
   "execution_count": 58,
   "id": "74b147d1-339d-477d-b71c-1a64705e8e1d",
   "metadata": {},
   "outputs": [
    {
     "data": {
      "text/html": [
       "<pre style='margin: 1em 0 1em 0;'>ModelMetricsRegressionGLM: stackedensemble\n",
       "** Reported on test data. **\n",
       "\n",
       "MSE: 90.037940774946\n",
       "RMSE: 9.488832424220906\n",
       "MAE: 4.873425627863311\n",
       "RMSLE: 0.8262636636824937\n",
       "Mean Residual Deviance: 90.037940774946\n",
       "R^2: 0.5931389336357749\n",
       "Null degrees of freedom: 2519\n",
       "Residual degrees of freedom: 2512\n",
       "Null deviance: 557683.2272820995\n",
       "Residual deviance: 226895.6107528639\n",
       "AIC: 18510.03269442262</pre>"
      ],
      "text/plain": [
       "ModelMetricsRegressionGLM: stackedensemble\n",
       "** Reported on test data. **\n",
       "\n",
       "MSE: 90.037940774946\n",
       "RMSE: 9.488832424220906\n",
       "MAE: 4.873425627863311\n",
       "RMSLE: 0.8262636636824937\n",
       "Mean Residual Deviance: 90.037940774946\n",
       "R^2: 0.5931389336357749\n",
       "Null degrees of freedom: 2519\n",
       "Residual degrees of freedom: 2512\n",
       "Null deviance: 557683.2272820995\n",
       "Residual deviance: 226895.6107528639\n",
       "AIC: 18510.03269442262"
      ]
     },
     "execution_count": 58,
     "metadata": {},
     "output_type": "execute_result"
    }
   ],
   "source": [
    "best_model.model_performance(test)"
   ]
  },
  {
   "cell_type": "code",
   "execution_count": 59,
   "id": "61d1f4e8-679a-4865-8479-ca87032224d7",
   "metadata": {},
   "outputs": [
    {
     "name": "stdout",
     "output_type": "stream",
     "text": [
      "stackedensemble prediction progress: |███████████████████████████████████████████| (done) 100%\n"
     ]
    },
    {
     "data": {
      "text/html": [
       "<table class='dataframe'>\n",
       "<thead>\n",
       "<tr><th style=\"text-align: right;\">  predict</th></tr>\n",
       "</thead>\n",
       "<tbody>\n",
       "<tr><td style=\"text-align: right;\">  3.80177</td></tr>\n",
       "<tr><td style=\"text-align: right;\">  9.26562</td></tr>\n",
       "<tr><td style=\"text-align: right;\">  8.88315</td></tr>\n",
       "<tr><td style=\"text-align: right;\">  6.47638</td></tr>\n",
       "<tr><td style=\"text-align: right;\">  5.092  </td></tr>\n",
       "<tr><td style=\"text-align: right;\">  8.0867 </td></tr>\n",
       "<tr><td style=\"text-align: right;\"> 13.2816 </td></tr>\n",
       "<tr><td style=\"text-align: right;\">  5.50253</td></tr>\n",
       "<tr><td style=\"text-align: right;\">  6.52521</td></tr>\n",
       "<tr><td style=\"text-align: right;\">  4.65454</td></tr>\n",
       "</tbody>\n",
       "</table><pre style='font-size: smaller; margin-bottom: 1em;'>[2520 rows x 1 column]</pre>"
      ],
      "text/plain": [
       "  predict\n",
       "---------\n",
       "  3.80177\n",
       "  9.26562\n",
       "  8.88315\n",
       "  6.47638\n",
       "  5.092\n",
       "  8.0867\n",
       " 13.2816\n",
       "  5.50253\n",
       "  6.52521\n",
       "  4.65454\n",
       "[2520 rows x 1 column]\n"
      ]
     },
     "execution_count": 59,
     "metadata": {},
     "output_type": "execute_result"
    }
   ],
   "source": [
    "y_pred = model.predict(test)\n",
    "y_pred"
   ]
  },
  {
   "cell_type": "code",
   "execution_count": 60,
   "id": "05bc6c12-384f-436e-b75c-b55dfead6c86",
   "metadata": {},
   "outputs": [
    {
     "data": {
      "text/html": [
       "<table class='dataframe'>\n",
       "<thead>\n",
       "<tr><th style=\"text-align: right;\">  revenue</th></tr>\n",
       "</thead>\n",
       "<tbody>\n",
       "<tr><td style=\"text-align: right;\">    5.02 </td></tr>\n",
       "<tr><td style=\"text-align: right;\">   12.524</td></tr>\n",
       "<tr><td style=\"text-align: right;\">   14.137</td></tr>\n",
       "<tr><td style=\"text-align: right;\">    0    </td></tr>\n",
       "<tr><td style=\"text-align: right;\">    0.339</td></tr>\n",
       "<tr><td style=\"text-align: right;\">    4.755</td></tr>\n",
       "<tr><td style=\"text-align: right;\">   16.162</td></tr>\n",
       "<tr><td style=\"text-align: right;\">    1    </td></tr>\n",
       "<tr><td style=\"text-align: right;\">   27.764</td></tr>\n",
       "<tr><td style=\"text-align: right;\">    2.963</td></tr>\n",
       "</tbody>\n",
       "</table><pre style='font-size: smaller; margin-bottom: 1em;'>[2520 rows x 1 column]</pre>"
      ],
      "text/plain": [
       "  revenue\n",
       "---------\n",
       "    5.02\n",
       "   12.524\n",
       "   14.137\n",
       "    0\n",
       "    0.339\n",
       "    4.755\n",
       "   16.162\n",
       "    1\n",
       "   27.764\n",
       "    2.963\n",
       "[2520 rows x 1 column]\n"
      ]
     },
     "execution_count": 60,
     "metadata": {},
     "output_type": "execute_result"
    }
   ],
   "source": [
    "y_truth = test['revenue']\n",
    "y_truth"
   ]
  },
  {
   "cell_type": "code",
   "execution_count": 61,
   "id": "246eb934-857a-40e3-9ccf-3502730ad0be",
   "metadata": {},
   "outputs": [],
   "source": [
    "#y_pred.types"
   ]
  },
  {
   "cell_type": "code",
   "execution_count": 62,
   "id": "ebce1aef-8587-4ded-b42f-86c96ea522b7",
   "metadata": {},
   "outputs": [],
   "source": [
    "#explain_model = model.explain(frame = test, figsize = (8,6))"
   ]
  },
  {
   "cell_type": "code",
   "execution_count": 63,
   "id": "793726f7-b6fb-48c0-bb4a-d531e95c3c5c",
   "metadata": {},
   "outputs": [
    {
     "data": {
      "text/plain": [
       "90.03794013026419"
      ]
     },
     "execution_count": 63,
     "metadata": {},
     "output_type": "execute_result"
    }
   ],
   "source": [
    "from h2o.model.regression import h2o_mean_squared_error\n",
    "\n",
    "h2o_mean_squared_error(y_truth, y_pred)"
   ]
  }
 ],
 "metadata": {
  "kernelspec": {
   "display_name": "Python 3",
   "language": "python",
   "name": "python3"
  },
  "language_info": {
   "codemirror_mode": {
    "name": "ipython",
    "version": 3
   },
   "file_extension": ".py",
   "mimetype": "text/x-python",
   "name": "python",
   "nbconvert_exporter": "python",
   "pygments_lexer": "ipython3",
   "version": "3.8.8"
  }
 },
 "nbformat": 4,
 "nbformat_minor": 5
}
